{
 "cells": [
  {
   "cell_type": "markdown",
   "metadata": {},
   "source": [
    "# Конструкции управления потоком"
   ]
  },
  {
   "cell_type": "markdown",
   "metadata": {},
   "source": [
    "## if - проверка условия"
   ]
  },
  {
   "cell_type": "code",
   "execution_count": 1,
   "metadata": {},
   "outputs": [
    {
     "name": "stdout",
     "output_type": "stream",
     "text": [
      "Условие выполнено!\n"
     ]
    }
   ],
   "source": [
    "company = 'my.com'\n",
    "if 'my' in company:\n",
    "    print('Условие выполнено!')"
   ]
  },
  {
   "cell_type": "code",
   "execution_count": 2,
   "metadata": {},
   "outputs": [
    {
     "name": "stdout",
     "output_type": "stream",
     "text": [
      "Условие выполнено!\n"
     ]
    }
   ],
   "source": [
    "company = 'example.net'\n",
    "if 'my' in company or company.endswith('.net'):\n",
    "    print('Условие выполнено!')"
   ]
  },
  {
   "cell_type": "markdown",
   "metadata": {},
   "source": [
    "## if-else"
   ]
  },
  {
   "cell_type": "code",
   "execution_count": 3,
   "metadata": {},
   "outputs": [
    {
     "name": "stdout",
     "output_type": "stream",
     "text": [
      "Условие не выполнено!\n"
     ]
    }
   ],
   "source": [
    "company = 'google.com'\n",
    "if 'my' in company:\n",
    "    print('Условие выполнено!')\n",
    "else:\n",
    "    print('Условие не выполнено!')"
   ]
  },
  {
   "cell_type": "markdown",
   "metadata": {},
   "source": [
    "## if-elif-else"
   ]
  },
  {
   "cell_type": "code",
   "execution_count": 4,
   "metadata": {},
   "outputs": [
    {
     "name": "stdout",
     "output_type": "stream",
     "text": [
      "Подстрока \"google\" найдена\n"
     ]
    }
   ],
   "source": [
    "company = 'google.com'\n",
    "if 'my' in company:\n",
    "    print('Подстрока \"my\" найдена')\n",
    "elif 'google' in company:\n",
    "    print('Подстрока \"google\" найдена')\n",
    "else:\n",
    "    print('Подстрока не найдена')"
   ]
  },
  {
   "cell_type": "markdown",
   "metadata": {},
   "source": [
    "## Аналог тернарного оператора"
   ]
  },
  {
   "cell_type": "code",
   "execution_count": 5,
   "metadata": {},
   "outputs": [
    {
     "name": "stdout",
     "output_type": "stream",
     "text": [
      "Argentina\n"
     ]
    }
   ],
   "source": [
    "score1 = 5\n",
    "score2 = 0\n",
    "# Переменной winner будет присвоена строка \"Argentina\", если score1 > score2, иначе будет присвоена \"Jamaica\"\n",
    "winner = \"Argentina\" if score1 > score2 else \"Jamaica\"\n",
    "print(winner) # Argentina"
   ]
  },
  {
   "cell_type": "markdown",
   "metadata": {},
   "source": [
    "## Оператор while"
   ]
  },
  {
   "cell_type": "code",
   "execution_count": 7,
   "metadata": {},
   "outputs": [
    {
     "name": "stdout",
     "output_type": "stream",
     "text": [
      "100\n"
     ]
    }
   ],
   "source": [
    "i = 0\n",
    "while i < 100:\n",
    "    i += 1\n",
    "print(i)"
   ]
  },
  {
   "cell_type": "markdown",
   "metadata": {},
   "source": [
    "## Цикл for, объект range()"
   ]
  },
  {
   "cell_type": "code",
   "execution_count": 8,
   "metadata": {},
   "outputs": [
    {
     "name": "stdout",
     "output_type": "stream",
     "text": [
      "A\n",
      "l\n",
      "e\n",
      "x\n"
     ]
    }
   ],
   "source": [
    "name = 'Alex'\n",
    "for e in name:\n",
    "    print(e)"
   ]
  },
  {
   "cell_type": "markdown",
   "metadata": {},
   "source": [
    "Встроенный объект `range` позволяет итерироваться по целым числам:"
   ]
  },
  {
   "cell_type": "code",
   "execution_count": 14,
   "metadata": {},
   "outputs": [
    {
     "name": "stdout",
     "output_type": "stream",
     "text": [
      "0,1,2,"
     ]
    }
   ],
   "source": [
    "for i in range(3):\n",
    "    print(i, end=',')"
   ]
  },
  {
   "cell_type": "code",
   "execution_count": 11,
   "metadata": {},
   "outputs": [
    {
     "name": "stdout",
     "output_type": "stream",
     "text": [
      "5050\n"
     ]
    }
   ],
   "source": [
    "result = 0\n",
    "for i in range(101):  # Последнее число не будет включено в последовательность!\n",
    "    result += i\n",
    "print(result)         # 5050"
   ]
  },
  {
   "cell_type": "code",
   "execution_count": 12,
   "metadata": {},
   "outputs": [
    {
     "name": "stdout",
     "output_type": "stream",
     "text": [
      "5,6,7,"
     ]
    }
   ],
   "source": [
    "for i in range(5,8):  # Последнее число не будет включено в последовательность!\n",
    "    print(i, end=',') # 5,6,7 - число 8 не включено в последовательность"
   ]
  },
  {
   "cell_type": "markdown",
   "metadata": {},
   "source": [
    "Можно проинициализировать `range` третьим аргументом - шагом последовательности. Это похоже на срезы (slices)"
   ]
  },
  {
   "cell_type": "code",
   "execution_count": 13,
   "metadata": {},
   "outputs": [
    {
     "name": "stdout",
     "output_type": "stream",
     "text": [
      "1,3,5,7,9,"
     ]
    }
   ],
   "source": [
    "for i in range(1,10,2):\n",
    "    print(i, end=',')"
   ]
  },
  {
   "cell_type": "markdown",
   "metadata": {},
   "source": [
    "Можно итерироваться в обратном порядке:"
   ]
  },
  {
   "cell_type": "code",
   "execution_count": 15,
   "metadata": {},
   "outputs": [
    {
     "name": "stdout",
     "output_type": "stream",
     "text": [
      "10,9,8,7,6,"
     ]
    }
   ],
   "source": [
    "for i in range(10,5,-1):\n",
    "    print(i, end=',')"
   ]
  },
  {
   "cell_type": "markdown",
   "metadata": {},
   "source": [
    "## Оператор break\n",
    "Оператор brake позволяет выйти из цикла досрочно:"
   ]
  },
  {
   "cell_type": "code",
   "execution_count": 16,
   "metadata": {},
   "outputs": [
    {
     "name": "stdout",
     "output_type": "stream",
     "text": [
      "100\n"
     ]
    }
   ],
   "source": [
    "result = 0\n",
    "while True: # Бесконечный цикл\n",
    "    result += 1\n",
    "    if result >= 100:\n",
    "        break\n",
    "\n",
    "print(result) # 100"
   ]
  },
  {
   "cell_type": "markdown",
   "metadata": {},
   "source": [
    "Оператор `brake` также работает и в циклах `for`:"
   ]
  },
  {
   "cell_type": "code",
   "execution_count": 17,
   "metadata": {},
   "outputs": [
    {
     "name": "stdout",
     "output_type": "stream",
     "text": [
      "0,1,2,3,4,"
     ]
    }
   ],
   "source": [
    "for i in range(10):\n",
    "    if i == 5:\n",
    "        break\n",
    "    print(i, end=',') # 0,1,2,3,4"
   ]
  },
  {
   "cell_type": "markdown",
   "metadata": {},
   "source": [
    "## Оператор continue\n",
    "\n",
    "Оператор `continue` используется, когда в блоке цикла нужно перейти к следующей итерации без выполнения оставшихся инструкций в блоке."
   ]
  },
  {
   "cell_type": "code",
   "execution_count": 18,
   "metadata": {},
   "outputs": [
    {
     "name": "stdout",
     "output_type": "stream",
     "text": [
      "20\n"
     ]
    }
   ],
   "source": [
    "result = 0\n",
    "for i in range(10):\n",
    "    if i % 2 != 0: # Если это нечетное число\n",
    "        continue\n",
    "    result += i    # Складываем только четные числа\n",
    "\n",
    "print(result) # 20"
   ]
  },
  {
   "cell_type": "markdown",
   "metadata": {},
   "source": [
    "## Пример на управление потоком"
   ]
  },
  {
   "cell_type": "code",
   "execution_count": 19,
   "metadata": {},
   "outputs": [
    {
     "name": "stdout",
     "output_type": "stream",
     "text": [
      "Введите загаданное число от 0 до 100: 50\n",
      "Загаданное число меньше\n",
      "Введите загаданное число от 0 до 100: 25\n",
      "Загаданное число меньше\n",
      "Введите загаданное число от 0 до 100: 12\n",
      "Загаданное число меньше\n",
      "Введите загаданное число от 0 до 100: 6\n",
      "Загаданное число меньше\n",
      "Введите загаданное число от 0 до 100: 3\n",
      "Ура! Число угадано! Это действительно число 3\n"
     ]
    }
   ],
   "source": [
    "import random\n",
    "\n",
    "number = random.randint(0, 101) # Загаданное число\n",
    "while True:\n",
    "    answer = input('Введите загаданное число от 0 до 100: ')\n",
    "\n",
    "    if not answer or answer == 'exit': # Если число не ввели или ввели ключевое слово exit, то выходим из программы\n",
    "        break\n",
    "\n",
    "    if not answer.isdigit():\n",
    "        print('Ошибка! Введите правильное число!')\n",
    "        continue\n",
    "\n",
    "    user_answer = int(answer)\n",
    "\n",
    "    if user_answer > number:\n",
    "        print('Загаданное число меньше')\n",
    "    elif user_answer < number:\n",
    "        print('Загаданное число больше')\n",
    "    else:\n",
    "        print('Ура! Число угадано! Это действительно число', user_answer)\n",
    "        break"
   ]
  }
 ],
 "metadata": {
  "kernelspec": {
   "display_name": "Python 3",
   "language": "python",
   "name": "python3"
  },
  "language_info": {
   "codemirror_mode": {
    "name": "ipython",
    "version": 3
   },
   "file_extension": ".py",
   "mimetype": "text/x-python",
   "name": "python",
   "nbconvert_exporter": "python",
   "pygments_lexer": "ipython3",
   "version": "3.6.3"
  },
  "toc": {
   "nav_menu": {
    "height": "194px",
    "width": "350px"
   },
   "number_sections": true,
   "sideBar": false,
   "skip_h1_title": true,
   "title_cell": "Table of Contents",
   "title_sidebar": "Contents",
   "toc_cell": false,
   "toc_position": {},
   "toc_section_display": true,
   "toc_window_display": false
  }
 },
 "nbformat": 4,
 "nbformat_minor": 2
}
