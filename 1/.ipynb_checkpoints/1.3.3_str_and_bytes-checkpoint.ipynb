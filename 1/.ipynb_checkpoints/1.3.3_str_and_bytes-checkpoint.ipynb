{
 "cells": [
  {
   "cell_type": "markdown",
   "metadata": {},
   "source": [
    "# Строки и байты\n",
    "\n",
    "## Базовые типы: Строки и байтовые строки"
   ]
  },
  {
   "cell_type": "code",
   "execution_count": 1,
   "metadata": {},
   "outputs": [
    {
     "name": "stdout",
     "output_type": "stream",
     "text": [
      "Строка без кавычек\n"
     ]
    }
   ],
   "source": [
    "print(\"Строка без кавычек\")"
   ]
  },
  {
   "cell_type": "markdown",
   "metadata": {},
   "source": [
    "Чтобы не экранировать спецсимвол, можно записать строку в одианарных кавычках:"
   ]
  },
  {
   "cell_type": "code",
   "execution_count": 2,
   "metadata": {},
   "outputs": [
    {
     "name": "stdout",
     "output_type": "stream",
     "text": [
      "Строка с \"двойными кавычками\" кавычками\n"
     ]
    }
   ],
   "source": [
    "print('Строка с \"двойными кавычками\" кавычками')"
   ]
  },
  {
   "cell_type": "code",
   "execution_count": 3,
   "metadata": {},
   "outputs": [
    {
     "name": "stdout",
     "output_type": "stream",
     "text": [
      "Строка с \"двойными экранированными кавычками\" кавычками\n"
     ]
    }
   ],
   "source": [
    "print(\"Строка с \\\"двойными экранированными кавычками\\\" кавычками\")"
   ]
  },
  {
   "cell_type": "markdown",
   "metadata": {},
   "source": [
    "r - Используется для записи регулярных выражений:"
   ]
  },
  {
   "cell_type": "code",
   "execution_count": 4,
   "metadata": {},
   "outputs": [
    {
     "name": "stdout",
     "output_type": "stream",
     "text": [
      "Это \\\"сырая\\\" строка, \\n сохраняющая все спецсимволы \\t без их интерпретации\n"
     ]
    }
   ],
   "source": [
    "print(r\"Это \\\"сырая\\\" строка, \\n сохраняющая все спецсимволы \\t без их интерпретации\")"
   ]
  },
  {
   "cell_type": "markdown",
   "metadata": {},
   "source": [
    "### Определение типа объекта"
   ]
  },
  {
   "cell_type": "code",
   "execution_count": 5,
   "metadata": {},
   "outputs": [
    {
     "name": "stdout",
     "output_type": "stream",
     "text": [
      "<class 'str'>\n"
     ]
    }
   ],
   "source": [
    "print(type(\"строка\"))"
   ]
  },
  {
   "cell_type": "code",
   "execution_count": 7,
   "metadata": {},
   "outputs": [
    {
     "name": "stdout",
     "output_type": "stream",
     "text": [
      "Это длинная строка, ее мы записали в исходном коде на три строки\n"
     ]
    }
   ],
   "source": [
    "mystr = \"Это длинная строка, ее \" \\\n",
    "        \"мы записали в исходном коде на \" \\\n",
    "        \"три строки\"\n",
    "print(mystr)"
   ]
  },
  {
   "cell_type": "markdown",
   "metadata": {},
   "source": [
    "### Объединение строк"
   ]
  },
  {
   "cell_type": "code",
   "execution_count": 8,
   "metadata": {},
   "outputs": [
    {
     "name": "stdout",
     "output_type": "stream",
     "text": [
      "Объединение строки1 и строки2\n"
     ]
    }
   ],
   "source": [
    "print(\"Объединение строки1 и \" + \"строки2\")"
   ]
  },
  {
   "cell_type": "markdown",
   "metadata": {},
   "source": [
    "### Размножение строк"
   ]
  },
  {
   "cell_type": "code",
   "execution_count": 9,
   "metadata": {},
   "outputs": [
    {
     "name": "stdout",
     "output_type": "stream",
     "text": [
      "Умножение строк Умножение строк Умножение строк \n"
     ]
    }
   ],
   "source": [
    "print(\"Умножение строк \" * 3)"
   ]
  },
  {
   "cell_type": "markdown",
   "metadata": {},
   "source": [
    "### Строки - это неизменяемый тип данных\n",
    "При изменении, создается новый объект, а старый уничтожается:"
   ]
  },
  {
   "cell_type": "code",
   "execution_count": 12,
   "metadata": {},
   "outputs": [
    {
     "name": "stdout",
     "output_type": "stream",
     "text": [
      "Привет = 139715435405984\n",
      "Привет, Мир! = 139715435408168\n"
     ]
    }
   ],
   "source": [
    "mystr = \"Привет\"\n",
    "print(mystr + \" =\", id(mystr))\n",
    "mystr += \", Мир!\"\n",
    "print(mystr + \" =\", id(mystr))"
   ]
  },
  {
   "cell_type": "markdown",
   "metadata": {},
   "source": [
    "### Срезы строк\n",
    "Синтаксис [begin:end:step]:"
   ]
  },
  {
   "cell_type": "code",
   "execution_count": 13,
   "metadata": {},
   "outputs": [
    {
     "name": "stdout",
     "output_type": "stream",
     "text": [
      "01234\n",
      "56789\n",
      "789\n",
      "02468\n",
      "9876543210\n",
      "02468\n",
      "13579\n"
     ]
    }
   ],
   "source": [
    "mystr = \"0123456789\"\n",
    "print(mystr[:5])   # 01234 (начиная сначала строки и по пятый символ)\n",
    "print(mystr[5:])   # 56789 (начиная с пятого символа и по конец строки)\n",
    "print(mystr[-3:])  # 789 (Начиная с минус три символа с конца строки)\n",
    "print(mystr[::2])  # 02468 (Каждый второй символ)\n",
    "# Использование шага\n",
    "print(mystr[::-1]) # 9876543210 (Разворачивает строку)\n",
    "print(mystr[::2])  # 02468 (Только четные символы)\n",
    "print(mystr[1::2]) # 13579 (Только нечетные символы)"
   ]
  },
  {
   "cell_type": "markdown",
   "metadata": {},
   "source": [
    "### Методы строк"
   ]
  },
  {
   "cell_type": "code",
   "execution_count": 14,
   "metadata": {},
   "outputs": [
    {
     "name": "stdout",
     "output_type": "stream",
     "text": [
      "4\n",
      "Москва - столица россии\n",
      "True\n"
     ]
    }
   ],
   "source": [
    "mystr = \"\"\"\n",
    "Болтовня ничего не стоит. Покажите мне код.\n",
    "Linus Torvalds\n",
    "\"\"\"\n",
    "print(mystr.count('т')) # Подсчет количество смволов 'т', вернет 4\n",
    "\n",
    "print('москва - столица россии'.capitalize()) # Москва - столица россии\n",
    "print('2017'.isdigit()) # True"
   ]
  },
  {
   "cell_type": "markdown",
   "metadata": {},
   "source": [
    "### Оператор IN\n",
    "Позволяет проверить наличие подстроки в строке"
   ]
  },
  {
   "cell_type": "code",
   "execution_count": 16,
   "metadata": {
    "scrolled": false
   },
   "outputs": [
    {
     "name": "stdout",
     "output_type": "stream",
     "text": [
      "True\n",
      "False\n"
     ]
    }
   ],
   "source": [
    "print('3.14' in 'Число ПИ = 3.1415926') # True\n",
    "print('Алексей' in 'Александр Пушкин')  # False"
   ]
  },
  {
   "cell_type": "markdown",
   "metadata": {},
   "source": [
    "### Оператор FOR ... IN\n",
    "Позволяет итерировать строку"
   ]
  },
  {
   "cell_type": "code",
   "execution_count": 17,
   "metadata": {},
   "outputs": [
    {
     "name": "stdout",
     "output_type": "stream",
     "text": [
      "с\n",
      "т\n",
      "р\n",
      "о\n",
      "к\n",
      "а\n"
     ]
    }
   ],
   "source": [
    "for i in \"строка\":\n",
    "    print(i)"
   ]
  },
  {
   "cell_type": "markdown",
   "metadata": {},
   "source": [
    "### Конвертация типов"
   ]
  },
  {
   "cell_type": "code",
   "execution_count": 18,
   "metadata": {},
   "outputs": [
    {
     "name": "stdout",
     "output_type": "stream",
     "text": [
      "<class 'str'>\n",
      "True\n",
      "False\n"
     ]
    }
   ],
   "source": [
    "num_str = \"999.01\"\n",
    "print(type(num_str)) # <class 'str'>\n",
    "print(bool(\"Непустая строка\")) # True\n",
    "print(bool(\"\"))                # Пустая строка = False"
   ]
  },
  {
   "cell_type": "markdown",
   "metadata": {},
   "source": [
    "### Форматирование строк"
   ]
  },
  {
   "cell_type": "code",
   "execution_count": 9,
   "metadata": {},
   "outputs": [
    {
     "data": {
      "text/plain": [
       "'Цифры не лгут, но лжецы пользуются формулами. (Robert A. Heinlein)'"
      ]
     },
     "execution_count": 9,
     "metadata": {},
     "output_type": "execute_result"
    }
   ],
   "source": [
    "'{} не лгут, но {} пользуются формулами. ({})'.format('Цифры', 'лжецы', 'Robert A. Heinlein')"
   ]
  },
  {
   "cell_type": "code",
   "execution_count": 8,
   "metadata": {},
   "outputs": [
    {
     "data": {
      "text/plain": [
       "'лжецы не лгут, но Цифры пользуются формулами. (Robert A. Heinlein)'"
      ]
     },
     "execution_count": 8,
     "metadata": {},
     "output_type": "execute_result"
    }
   ],
   "source": [
    "'{1} не лгут, но {0} пользуются формулами. ({2})'.format('Цифры', 'лжецы', 'Robert A. Heinlein')"
   ]
  },
  {
   "cell_type": "code",
   "execution_count": 7,
   "metadata": {},
   "outputs": [
    {
     "data": {
      "text/plain": [
       "'лжецы не лгут, но лжецы пользуются формулами. (Цифры)'"
      ]
     },
     "execution_count": 7,
     "metadata": {},
     "output_type": "execute_result"
    }
   ],
   "source": [
    "'{1} не лгут, но {1} пользуются формулами. ({0})'.format('Цифры', 'лжецы', 'Robert A. Heinlein')"
   ]
  },
  {
   "cell_type": "code",
   "execution_count": 5,
   "metadata": {},
   "outputs": [
    {
     "data": {
      "text/plain": [
       "'640 Kb должно хватить для любых задач. (Bill Gates)'"
      ]
     },
     "execution_count": 5,
     "metadata": {},
     "output_type": "execute_result"
    }
   ],
   "source": [
    "'{num} Kb должно хватить для любых задач. ({author})'.format(num=640, author='Bill Gates')"
   ]
  },
  {
   "cell_type": "code",
   "execution_count": 6,
   "metadata": {},
   "outputs": [
    {
     "data": {
      "text/plain": [
       "'-------------- Заголовок максимальной длины в 100 символов, остаток заполняют символы --------------'"
      ]
     },
     "execution_count": 6,
     "metadata": {},
     "output_type": "execute_result"
    }
   ],
   "source": [
    "'{:-^100}'.format(' Заголовок максимальной длины в 100 символов, остаток заполняют символы ')"
   ]
  },
  {
   "cell_type": "markdown",
   "metadata": {},
   "source": [
    "В Python 3.6 для строк появился префикс `f`:"
   ]
  },
  {
   "cell_type": "code",
   "execution_count": 23,
   "metadata": {},
   "outputs": [
    {
     "name": "stdout",
     "output_type": "stream",
     "text": [
      "Преждевременная оптимизация - корень всех зол. (Donald Knuth)\n"
     ]
    }
   ],
   "source": [
    "subject = 'оптимизация'\n",
    "author = 'Donald Knuth'\n",
    "print(f'Преждевременная {subject} - корень всех зол. ({author})')"
   ]
  },
  {
   "cell_type": "markdown",
   "metadata": {},
   "source": [
    "## Байтовые строки. Тип bytes"
   ]
  },
  {
   "cell_type": "markdown",
   "metadata": {},
   "source": [
    "`b` - литерал используется для объявления байтовой строки:"
   ]
  },
  {
   "cell_type": "code",
   "execution_count": 24,
   "metadata": {},
   "outputs": [
    {
     "name": "stdout",
     "output_type": "stream",
     "text": [
      "<class 'bytes'> b'Hello'\n"
     ]
    }
   ],
   "source": [
    "mybytes = b'Hello'   # Only ASCII\n",
    "print(type(mybytes), mybytes) # <class 'bytes'> b'Hello'"
   ]
  },
  {
   "cell_type": "markdown",
   "metadata": {},
   "source": [
    "Удостоверимся, что мы действительно получили байты:"
   ]
  },
  {
   "cell_type": "code",
   "execution_count": 26,
   "metadata": {},
   "outputs": [
    {
     "name": "stdout",
     "output_type": "stream",
     "text": [
      "72,101,108,108,111,"
     ]
    }
   ],
   "source": [
    "for b in mybytes:\n",
    "    print(b, end=',')"
   ]
  },
  {
   "cell_type": "markdown",
   "metadata": {},
   "source": [
    "Байты - это числа от 0 до 255.\n",
    "Для не ASCII символов, нужно преобразовать их в байты из юникодной строки, для этого используются кодировки."
   ]
  },
  {
   "cell_type": "code",
   "execution_count": 27,
   "metadata": {
    "scrolled": true
   },
   "outputs": [
    {
     "name": "stdout",
     "output_type": "stream",
     "text": [
      "<class 'str'> Привет\n",
      "<class 'bytes'> b'\\xd0\\x9f\\xd1\\x80\\xd0\\xb8\\xd0\\xb2\\xd0\\xb5\\xd1\\x82'\n",
      "208,159,209,128,208,184,208,178,208,181,209,130,"
     ]
    }
   ],
   "source": [
    "mystr = 'Привет'                     # unicode строка\n",
    "print(type(mystr), mystr)            # <class 'str'> Привет\n",
    "mybytes = mystr.encode('utf-8')      # Преобразовываем (кодируем) строку в байты используя кодировку utf-8\n",
    "print(type(mybytes), mybytes)        # <class 'bytes'> b'\\xd0\\x9f\\xd1\\x80\\xd0\\xb8\\xd0\\xb2\\xd0\\xb5\\xd1\\x82'\n",
    "                                     # Python вывел байтовую строку в виде 16-чных кодов. Где, например, xd0\\x9f соответствует в таблице UTF-8 букве 'П'\n",
    "for b in mybytes: print(b, end=',')  # 208,159,209,128,208,184,208,178,208,181,209,130"
   ]
  },
  {
   "cell_type": "markdown",
   "metadata": {},
   "source": [
    "Декодируем байты обратно в строку:"
   ]
  },
  {
   "cell_type": "code",
   "execution_count": 28,
   "metadata": {},
   "outputs": [
    {
     "name": "stdout",
     "output_type": "stream",
     "text": [
      "<class 'str'> Привет\n"
     ]
    }
   ],
   "source": [
    "mystr = mybytes.decode('utf-8')      # Аргумент можно не указывать, по умолчанию используется utf-8 кодировка\n",
    "print(type(mystr), mystr)            # <class 'str'> Привет"
   ]
  }
 ],
 "metadata": {
  "kernelspec": {
   "display_name": "Python 3",
   "language": "python",
   "name": "python3"
  },
  "language_info": {
   "codemirror_mode": {
    "name": "ipython",
    "version": 3
   },
   "file_extension": ".py",
   "mimetype": "text/x-python",
   "name": "python",
   "nbconvert_exporter": "python",
   "pygments_lexer": "ipython3",
   "version": "3.6.3"
  },
  "toc": {
   "nav_menu": {
    "height": "254px",
    "width": "383px"
   },
   "number_sections": true,
   "sideBar": false,
   "skip_h1_title": true,
   "title_cell": "Table of Contents",
   "title_sidebar": "Contents",
   "toc_cell": false,
   "toc_position": {},
   "toc_section_display": true,
   "toc_window_display": false
  }
 },
 "nbformat": 4,
 "nbformat_minor": 2
}
