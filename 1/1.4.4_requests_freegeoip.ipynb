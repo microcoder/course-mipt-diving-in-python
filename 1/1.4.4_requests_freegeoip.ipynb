{
 "cells": [
  {
   "cell_type": "markdown",
   "metadata": {},
   "source": [
    "# Приложение использующее сервис freegeoip.net"
   ]
  },
  {
   "cell_type": "code",
   "execution_count": 2,
   "metadata": {},
   "outputs": [
    {
     "name": "stdout",
     "output_type": "stream",
     "text": [
      "{'ip': '188.164.167.59', 'country_code': 'RU', 'country_name': 'Russia', 'region_code': 'MOS', 'region_name': 'Moscow Oblast', 'city': 'Serpukhov', 'zip_code': '142207', 'time_zone': 'Europe/Moscow', 'latitude': 54.9214, 'longitude': 37.4108, 'metro_code': 0}\n"
     ]
    }
   ],
   "source": [
    "import requests\n",
    "\n",
    "def get_location_info():\n",
    "    return requests.get('https://freegeoip.net/json/').json()\n",
    "\n",
    "\n",
    "# Мы хотиим, чтобы наша программа запускалась только тогда, когда она вызывается интерпретатором,\n",
    "# а не импортируется как модуль:\n",
    "if __name__ == '__main__':\n",
    "    print(get_location_info())"
   ]
  }
 ],
 "metadata": {
  "kernelspec": {
   "display_name": "Python 3",
   "language": "python",
   "name": "python3"
  },
  "language_info": {
   "codemirror_mode": {
    "name": "ipython",
    "version": 3
   },
   "file_extension": ".py",
   "mimetype": "text/x-python",
   "name": "python",
   "nbconvert_exporter": "python",
   "pygments_lexer": "ipython3",
   "version": "3.6.3"
  }
 },
 "nbformat": 4,
 "nbformat_minor": 2
}
