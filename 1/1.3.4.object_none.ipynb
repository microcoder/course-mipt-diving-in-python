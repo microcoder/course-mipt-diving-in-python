{
 "cells": [
  {
   "cell_type": "markdown",
   "metadata": {},
   "source": [
    "# Базовые типы: Объект None"
   ]
  },
  {
   "cell_type": "code",
   "execution_count": 1,
   "metadata": {},
   "outputs": [
    {
     "name": "stdout",
     "output_type": "stream",
     "text": [
      "<class 'NoneType'> None\n",
      "False\n",
      "Ответ не получен\n"
     ]
    }
   ],
   "source": [
    "answer = None\n",
    "print(type(answer), answer) # <class 'NoneType'> None\n",
    "\n",
    "print(bool(None)) # False\n",
    "\n",
    "if not answer:\n",
    "    print('Ответ не получен')"
   ]
  },
  {
   "cell_type": "markdown",
   "metadata": {},
   "source": [
    "Пример, когда `None` может пригодится.\n",
    "\n",
    "Вариант 1:"
   ]
  },
  {
   "cell_type": "code",
   "execution_count": 3,
   "metadata": {},
   "outputs": [
    {
     "name": "stdout",
     "output_type": "stream",
     "text": [
      "Ничего не заработали\n"
     ]
    }
   ],
   "source": [
    "income = 0\n",
    "if not income:\n",
    "    print('Ничего не заработали')"
   ]
  },
  {
   "cell_type": "markdown",
   "metadata": {},
   "source": [
    "Вариант 2:"
   ]
  },
  {
   "cell_type": "code",
   "execution_count": 4,
   "metadata": {},
   "outputs": [
    {
     "name": "stdout",
     "output_type": "stream",
     "text": [
      "Еще не начинали продавать\n"
     ]
    }
   ],
   "source": [
    "income = None\n",
    "if income is None:\n",
    "    print('Еще не начинали продавать')\n",
    "elif not income:\n",
    "    print('Ничего не заработали')"
   ]
  }
 ],
 "metadata": {
  "kernelspec": {
   "display_name": "Python 3",
   "language": "python",
   "name": "python3"
  },
  "language_info": {
   "codemirror_mode": {
    "name": "ipython",
    "version": 3
   },
   "file_extension": ".py",
   "mimetype": "text/x-python",
   "name": "python",
   "nbconvert_exporter": "python",
   "pygments_lexer": "ipython3",
   "version": "3.6.3"
  }
 },
 "nbformat": 4,
 "nbformat_minor": 2
}
