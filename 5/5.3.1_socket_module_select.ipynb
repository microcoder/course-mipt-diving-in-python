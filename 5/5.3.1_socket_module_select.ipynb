{
 "cells": [
  {
   "cell_type": "markdown",
   "metadata": {},
   "source": [
    "# Исполнение кода в одном потоке, модуль select\n",
    "\n",
    "Исполнение кода в один поток:\n",
    "* Подходы для организации \"параллельного выполнения кода\" в одном потоке\n",
    "* Использование модуля select\n",
    "* Неблокирующий ввод/вывод\n",
    "* Python фрэймворки\n",
    "\n",
    "В операционной системе существует модуль `select` который позволяет организовать работу с неблокирующим вводом/выводом:\n",
    "\n",
    "* Модуль `select` используется для организации неблокирующего ввода/вывода\n",
    "* Существует несколько механизмов опроса файловых дескрипторов\n",
    "  * select.select(...)\n",
    "  * select.poll(...)\n",
    "  * select.epoll(...)\n",
    "  * select.kqueue(...)\n",
    "  * ...\n",
    "\n",
    "##  Неблокирующий ввод/вывод. Обучающий пример"
   ]
  },
  {
   "cell_type": "code",
   "execution_count": null,
   "metadata": {},
   "outputs": [],
   "source": [
    "import socket\n",
    "import select\n",
    "\n",
    "sock = socket.socket()\n",
    "sock.bind(('', 10001))\n",
    "sock.listen()\n",
    "\n",
    "# Как обработать запросы для conn1 и conn2 одновременно без потоков?\n",
    "# Создаем 2 соединения с сокетом\n",
    "conn1, addr = sock.accept()\n",
    "conn2, addr = sock.accept()\n",
    "\n",
    "# Указываем, что режим соединения с сокетом - неблокирующий.\n",
    "# Это значит, что если данных в сокете не окажется после чтения вызовом recv, то sock.accept() не заблокируется,\n",
    "# и нам вернет системную ошибку, что пока данных нет.\n",
    "conn1.setblocking(0)\n",
    "conn2.setblocking(0)\n",
    "\n",
    "epoll = select.epoll()\n",
    "epoll.register(conn1.fileno(), select.EPOLLIN | select.EPOLLOUT)\n",
    "epoll.register(conn2.fileno(), select.EPOLLIN | select.EPOLLOUT)\n",
    "\n",
    "conn_map = {\n",
    "    conn1.fileno(): conn1,\n",
    "    conn2.fileno(): conn2,\n",
    "}\n",
    "\n",
    "# Цикл обработки событий в epoll\n",
    "while True:\n",
    "    # Это системный вызов, который возвращает список событий. Эти события содержат\n",
    "    # файловый дескриптор и событие которое произошло с этим файловым дескриптором.\n",
    "    events = epoll.poll(1)\n",
    "\n",
    "    for fileno, event in events:\n",
    "        if event & select.EPOLLIN:\n",
    "            data = conn_map[fileno].recv(1024) # Читаем данные из сокета\n",
    "            print(data.decode('utf8'), end='')\n",
    "        elif event & select.EPOLLOUT:\n",
    "            conn_map[fileno].send('ping'.encode('utf8')) # Отправляем данные в сокет"
   ]
  },
  {
   "cell_type": "markdown",
   "metadata": {},
   "source": [
    "Неблокирующий ввод/вывод:\n",
    "* Код уже не выглядит слишком простым (хотя в нем нет создания процессов или потоков)\n",
    "  * Нет обработки закрытия сокетов\n",
    "  * Отсутствует обработка новых входящих соединений\n",
    "* Если код будет решать настоящие задачи, то увеличится кол-во операторов if или callback'ов\n",
    "* Как изменится код, если в обработке запроса появятся вызовы сторонних библиотек?\n",
    "* Не тратим память на создание процессов\n",
    "* Нет накладных расходов на создание потоков и их синхронизацию (используются блокировки)\n",
    "* Нет проблем с GIL\n",
    "* Как спрятать вызовы select.epoll в функции библиотеки?\n",
    "\n",
    "Фрэймворки для параллельной работы в один поток:\n",
    "* Twisted - использует callback api\n",
    "* Gevent, greenlet, stackless python\n",
    "* Tornado - использует generators api python3\n",
    "* Asincio - это сейчас mainstream"
   ]
  }
 ],
 "metadata": {
  "kernelspec": {
   "display_name": "Python 3",
   "language": "python",
   "name": "python3"
  },
  "language_info": {
   "codemirror_mode": {
    "name": "ipython",
    "version": 3
   },
   "file_extension": ".py",
   "mimetype": "text/x-python",
   "name": "python",
   "nbconvert_exporter": "python",
   "pygments_lexer": "ipython3",
   "version": "3.6.3"
  }
 },
 "nbformat": 4,
 "nbformat_minor": 2
}
