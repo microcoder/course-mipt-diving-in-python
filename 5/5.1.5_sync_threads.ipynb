{
 "cells": [
  {
   "cell_type": "markdown",
   "metadata": {},
   "source": [
    "# Синхронизация потоков\n",
    "\n",
    "* Очереди\n",
    "* Блокировки\n",
    "* Условные переменные\n",
    "\n",
    "## Очереди. Модуль queue\n",
    "\n",
    "Пример как можно использовать очереди (queue) для обмена данными между потоками:"
   ]
  },
  {
   "cell_type": "code",
   "execution_count": 2,
   "metadata": {},
   "outputs": [
    {
     "name": "stdout",
     "output_type": "stream",
     "text": [
      "Thread: 2. Process item from queue: 0\n",
      "Thread: 1. Process item from queue: 1\n",
      "Thread: 1. Process item from queue: 2\n",
      "Thread: 2. Process item from queue: 8\n",
      "Thread: 1. Process item from queue: 3\n",
      "Thread: 2. Process item from queue: 9\n",
      "Thread: 1. Process item from queue: 4\n",
      "Thread: 2. Process item from queue: 10\n",
      "Thread: 1. Process item from queue: 5\n",
      "Thread: 2. Process item from queue: 11\n",
      "Thread: 1. Process item from queue: 6\n",
      "Thread: 2. Process item from queue: 12\n",
      "Thread: 1. Process item from queue: 7\n",
      "Thread: 2. Process item from queue: 13\n",
      "Thread: 1. Process item from queue: 16\n",
      "Thread: 2. Process item from queue: 14\n",
      "Thread: 1. Process item from queue: 17\n",
      "Thread: 2. Process item from queue: 15\n",
      "Thread: 1. Process item from queue: 19\n",
      "Thread: 2. Process item from queue: 18\n"
     ]
    }
   ],
   "source": [
    "from queue import Queue\n",
    "from threading import Thread\n",
    "\n",
    "# Функция, которую будут выполнять потоки\n",
    "def worker(q, n):\n",
    "    while True:\n",
    "        item = q.get()\n",
    "        if item is None:\n",
    "            break\n",
    "        print('Thread: {}. Process item from queue: {}{}'.format(n, item, '\\n'), end='')\n",
    "\n",
    "\n",
    "q = Queue(5) # Создаем объект типа Queue (очередь) с максимальным размером 5\n",
    "th1 = Thread(target=worker, args=(q, 1)) # Первый поток в который передаем очередь и условный номер потока\n",
    "th2 = Thread(target=worker, args=(q, 2)) # Передаем параметры аналогично предыдущему потоку\n",
    "\n",
    "# Стартуем потоки из главного потока (main).\n",
    "# Бесконечный цикл, пока поток не встретит элемент со значением None\n",
    "th1.start()\n",
    "th2.start()\n",
    "\n",
    "for i in range(20):\n",
    "    # Метод put() позволяет положить элементы в очередь.\n",
    "    # Если очередь будет наполнена 5-ю элементами, то вызов метода put() заблокирует выполнение потока,\n",
    "    # который вызвал этот метод и будет ждать, пока в очереди не появится свободное место для\n",
    "    # следующих элементов цикла for.\n",
    "    q.put(i)\n",
    "\n",
    "q.put(None) # Завершаем бесконечный цикл для одного из потоков передав в очередь элемент None\n",
    "q.put(None) # Завершаем бесконечный цикл для одного из потоков передав в очередь элемент None\n",
    "\n",
    "th1.join() # Ожидаем в главном потоке выполнение первого потока\n",
    "th2.join() # Ожидаем в главном потоке выполнение второго потока"
   ]
  },
  {
   "cell_type": "markdown",
   "metadata": {},
   "source": [
    "## Синхронизация потоков, блокировки\n",
    "\n",
    "Предпочтительно использовать очереди, но иногда приходится использовать блокировки.  \n",
    "Блокировки как минимум замедляют работу программы, тем не менее их нужно применять.\n",
    "\n",
    "Представим, что мы создали объект класса `Point` и используем этот объект в большом количестве потоков.  \n",
    "Одни из этих потоков одновременно обращаются к методу `get()`, другие к методу `set()`.  \n",
    "Если не использовать блокировку, то может возникнуть ситуация, когда один поток изменил значение `x` (строка `self._x = x`), но еще не успел изменить значение `y` (строка `self._y = y`), а другой поток в это время вернул значения `x` и `y`, то мы получим неконсистентное состояние объекта, когда у него частично одна переменная изменена, а другая нет."
   ]
  },
  {
   "cell_type": "code",
   "execution_count": 3,
   "metadata": {},
   "outputs": [],
   "source": [
    "import threading\n",
    "\n",
    "class Point():\n",
    "\n",
    "    def __init__(self):\n",
    "        self._mutex = threading.RLock()\n",
    "        self._x = 0\n",
    "        self._y = 0\n",
    "\n",
    "    def get(self):\n",
    "        # С помощью контекстного менеджера захватываем блокировку, а при выходе из него - освобождаем\n",
    "        with self._mutex:\n",
    "            return (self._x, self._y)\n",
    "\n",
    "    def set(self, x, y):\n",
    "        # С помощью контекстного менеджера захватываем блокировку, а при выходе из него - освобождаем\n",
    "        with self._mutex:\n",
    "            self._x = x\n",
    "            self._y = y"
   ]
  },
  {
   "cell_type": "markdown",
   "metadata": {},
   "source": [
    "## Еще вариант применения блокировок\n",
    "\n",
    "Блокировки можно использовать без контекстного менеджера:"
   ]
  },
  {
   "cell_type": "code",
   "execution_count": 4,
   "metadata": {},
   "outputs": [],
   "source": [
    "import threading\n",
    "\n",
    "# Создаем объекты класса RLock:\n",
    "a = threading.RLock()\n",
    "b = threading.RLock()\n",
    "\n",
    "def foo():\n",
    "    try:\n",
    "        # Вызываем метод acquire() чтобы получить/захватить блокировку\n",
    "        a.acquire()\n",
    "        b.acquire()\n",
    "    finally: # Выполнится в любом случае\n",
    "        # Вызываем метод release() чтобы высвободить блокировку.\n",
    "        # В этом примере может возникнуть ситуация deadlock, когда мы высвобождаем\n",
    "        # блокировки в неправильной последовательности:\n",
    "        a.release()\n",
    "        b.release()"
   ]
  },
  {
   "cell_type": "markdown",
   "metadata": {},
   "source": [
    "## Синхронизация потоков, условные переменные"
   ]
  },
  {
   "cell_type": "code",
   "execution_count": 5,
   "metadata": {},
   "outputs": [],
   "source": [
    "import threading\n",
    "\n",
    "class Queue():\n",
    "\n",
    "    def __init__(self, size=5):\n",
    "        self._size = size\n",
    "        self._queue = []\n",
    "        self._mutex = threading.RLock\n",
    "        self._empty = threading.Condition(self._mutex)\n",
    "        self._full = threading.Condition(self._mutex)\n",
    "\n",
    "    def put(self, val):\n",
    "        with self._full:\n",
    "            while len(self._queue) >= self._size:\n",
    "                self._full.wait()\n",
    "\n",
    "            self._queue.append(val)\n",
    "            self._empty.notify()\n",
    "\n",
    "    def get(self):\n",
    "        with self._empty:\n",
    "            while len(self._queue) == 0:\n",
    "                self._empty.wait()\n",
    "\n",
    "            ret = self._queue.pop(0)\n",
    "            self._full.notify()\n",
    "            return ret"
   ]
  },
  {
   "cell_type": "markdown",
   "metadata": {},
   "source": [
    "## Итоги\n",
    "\n",
    "* Потоки выполняются в рамках процесса\n",
    "* Потоки разделяют ресурсы и память процесса\n",
    "* Потоки более легковесны по сранению с процессами\n",
    "* Для обмена данными между потоками существуют готовые механизмы - Queue\n",
    "* Многопоточные программы могут использовать объекты блокировки\n",
    "* Потоки выполняются с GIL"
   ]
  }
 ],
 "metadata": {
  "kernelspec": {
   "display_name": "Python 3",
   "language": "python",
   "name": "python3"
  },
  "language_info": {
   "codemirror_mode": {
    "name": "ipython",
    "version": 3
   },
   "file_extension": ".py",
   "mimetype": "text/x-python",
   "name": "python",
   "nbconvert_exporter": "python",
   "pygments_lexer": "ipython3",
   "version": "3.6.3"
  }
 },
 "nbformat": 4,
 "nbformat_minor": 2
}
