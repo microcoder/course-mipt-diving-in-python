{
 "cells": [
  {
   "cell_type": "markdown",
   "metadata": {},
   "source": [
    "# Создание процессов\n",
    "\n",
    "Создание процесса на Python\n",
    "* Как создать дочерний процесс?\n",
    "* Как работает системный вызов fork?\n",
    "* Модуль multiprocessing\n",
    "\n",
    "\n",
    "## Пример №1\n",
    "\n",
    "Процесс в системе создается при помощи системного вызова `fork`.  \n",
    "`fork` создает точную копию родительского процесса, вся память, все файловые дескрипторы, все ресурсы которые были доступны в родительском процессе будут целиком и полностью скопированы в дочерний процесс. Как только отработал системный вызов `fork`, с этого момента у нас 2 процесса:"
   ]
  },
  {
   "cell_type": "code",
   "execution_count": null,
   "metadata": {},
   "outputs": [
    {
     "name": "stdout",
     "output_type": "stream",
     "text": [
      "parent pid: 4263\n",
      "child pid: 4264, for break press <CTRL+C>\n",
      "child pid: 4264, for break press <CTRL+C>\n",
      "child pid: 4264, for break press <CTRL+C>\n",
      "child pid: 4264, for break press <CTRL+C>\n"
     ]
    }
   ],
   "source": [
    "import time\n",
    "import os\n",
    "\n",
    "p = os.fork() # Это системный вызов который точную копию родительского процесса\n",
    "\n",
    "if p == 0:\n",
    "    # Этот код исполняется в дочернием процессе\n",
    "    while True:\n",
    "        print('child pid: {}, for break press <CTRL+C>'.format(os.getpid()))\n",
    "        time.sleep(5)\n",
    "else:\n",
    "    # Этот код исполняется в родительском процессе\n",
    "    print('parent pid: {}'.format(os.getpid()))\n",
    "    os.wait() # Это системный вызов, он позволяет дожидаться завершения выполнения дочернего процесса\n"
   ]
  },
  {
   "cell_type": "markdown",
   "metadata": {},
   "source": [
    "Поизучаем наши процессы командой `ps`. Здесь мы видим 2 процесса с PID 67502 и 67503:"
   ]
  },
  {
   "cell_type": "code",
   "execution_count": 21,
   "metadata": {},
   "outputs": [
    {
     "name": "stdout",
     "output_type": "stream",
     "text": [
      "USER        PID %CPU %MEM    VSZ   RSS TTY      STAT START   TIME COMMAND\n",
      "ubuntu     4263  0.0  0.1  29812  7972 pts/0    S+   11:43   0:00 python3 process1.py\n",
      "ubuntu     4264  0.0  0.0  29812  5440 pts/0    S+   11:43   0:00 python3 process1.py\n",
      "ubuntu     4269  0.0  0.0  14792   804 ?        S    11:43   0:00 grep process1.py\n"
     ]
    }
   ],
   "source": [
    "%%bash\n",
    "\n",
    "ps aux | head -1 && ps aux | grep process1.py"
   ]
  },
  {
   "cell_type": "markdown",
   "metadata": {},
   "source": [
    "А с помощью флага `-f` команды `ps` можно посмотреть процессы в иерархическом представлении:"
   ]
  },
  {
   "cell_type": "code",
   "execution_count": 22,
   "metadata": {},
   "outputs": [
    {
     "name": "stdout",
     "output_type": "stream",
     "text": [
      "USER        PID %CPU %MEM    VSZ   RSS TTY      STAT START   TIME COMMAND\n",
      "ubuntu     4263  0.0  0.1  29812  7972 pts/0    S+   11:43   0:00                  \\_ python3 process1.py\n",
      "ubuntu     4264  0.0  0.0  29812  5440 pts/0    S+   11:43   0:00                      \\_ python3 process1.py\n"
     ]
    }
   ],
   "source": [
    "%%bash\n",
    "\n",
    "ps auf | head -1 && ps auf | grep process1.py"
   ]
  },
  {
   "cell_type": "markdown",
   "metadata": {},
   "source": [
    "Посмотрим, что делают процессы? Для этого воспользуемся командой `strace`.  \n",
    "Здесь мы видим, что дочерний процесс вызывает системный вызов `write()` и выводит информацию в стандартный поток вывода (STDOUT):"
   ]
  },
  {
   "cell_type": "code",
   "execution_count": null,
   "metadata": {},
   "outputs": [
    {
     "name": "stdout",
     "output_type": "stream",
     "text": [
      "strace: Process 4264 attached\n",
      "select(0, NULL, NULL, NULL, {tv_sec=4, tv_usec=992259}) = 0 (Timeout)\n",
      "getpid()                                = 4264\n",
      "write(1, \"child pid: 4264, for break press\"..., 42) = 42\n",
      "select(0, NULL, NULL, NULL, {tv_sec=5, tv_usec=0}) = 0 (Timeout)\n",
      "getpid()                                = 4264\n",
      "write(1, \"child pid: 4264, for break press\"..., 42) = 42\n"
     ]
    }
   ],
   "source": [
    "%%bash\n",
    "\n",
    "sudo strace -p 4227"
   ]
  },
  {
   "cell_type": "markdown",
   "metadata": {},
   "source": [
    "Выведем информацию о родительском процессе. Здесь процесс вызвал системный вызов `wait()` и дожидается, когда операционная система оповестит его о том, что дочерний процесс завершился:"
   ]
  },
  {
   "cell_type": "code",
   "execution_count": null,
   "metadata": {},
   "outputs": [
    {
     "name": "stdout",
     "output_type": "stream",
     "text": [
      "strace: Process 4263 attached\n",
      "wait4(-1, \n"
     ]
    }
   ],
   "source": [
    "%%bash\n",
    "\n",
    "sudo strace -p 4128"
   ]
  },
  {
   "cell_type": "markdown",
   "metadata": {},
   "source": [
    "## Пример №2"
   ]
  },
  {
   "cell_type": "code",
   "execution_count": 1,
   "metadata": {},
   "outputs": [
    {
     "name": "stdout",
     "output_type": "stream",
     "text": [
      "child pid: 4512, foo = bar\n",
      "child pid: 4512, foo = baz!\n",
      "parent pid: 4499, foo = bar\n"
     ]
    }
   ],
   "source": [
    "import os\n",
    "\n",
    "foo = 'bar'\n",
    "\n",
    "if os.fork() == 0: # Вызов системного вызова fork() который целиком копирует дочерний процесс.\n",
    "    # Дочерний процесс.\n",
    "    # Память полностью _скопирована_ в этот дочерний процесс и переменная foo объявленная\n",
    "    # раньше точно также здесь доступна:\n",
    "    print('child pid: {}, foo = {}'.format(os.getpid(), foo))\n",
    "    foo = 'baz!' # Изменение значения переменной foo никак не повлияет на родительский процесс и её переменную foo\n",
    "    print('child pid: {}, foo = {}'.format(os.getpid(), foo))\n",
    "else:\n",
    "    # Родительский процесс.\n",
    "    # Переменная foo осталась с прежним значением, дочерний процесс на нее не влияет\n",
    "    print('parent pid: {}, foo = {}'.format(os.getpid(), foo))\n",
    "    os.wait() # Ожидание завершения работы дочернего процесса"
   ]
  },
  {
   "cell_type": "markdown",
   "metadata": {},
   "source": [
    "## Пример №3"
   ]
  },
  {
   "cell_type": "code",
   "execution_count": 2,
   "metadata": {},
   "outputs": [
    {
     "name": "stdout",
     "output_type": "stream",
     "text": [
      "Line one\r\n",
      "Line two\r\n",
      "Line three\r\n"
     ]
    }
   ],
   "source": [
    "!cat file.txt"
   ]
  },
  {
   "cell_type": "code",
   "execution_count": 3,
   "metadata": {},
   "outputs": [
    {
     "name": "stdout",
     "output_type": "stream",
     "text": [
      "parent pid: 4499, foo = \"Line two\"\n",
      "child pid: 4528, foo = \"Line two\"\n"
     ]
    }
   ],
   "source": [
    "import os\n",
    "\n",
    "f = open('file.txt')\n",
    "foo = f.readline() # Считывание первой строки из файла\n",
    "\n",
    "if os.fork() == 0:\n",
    "    # Дочерний процесс\n",
    "    foo = f.readline().strip() # Считывание второй строки из файла. Это никак не влияет на родительский процесс\n",
    "    print('child pid: {}, foo = \"{}\"'.format(os.getpid(), foo))\n",
    "else:\n",
    "    # Родительский процесс\n",
    "    foo = f.readline().strip() # Считывание второй строки из файла\n",
    "    print('parent pid: {}, foo = \"{}\"'.format(os.getpid(), foo))"
   ]
  },
  {
   "cell_type": "markdown",
   "metadata": {},
   "source": [
    "Результат. Оба процесса считали вторую строку из файла."
   ]
  },
  {
   "cell_type": "markdown",
   "metadata": {},
   "source": [
    "## Пример №4\n",
    "\n",
    "Создание процесса, модуль `multiprocessing`.  \n",
    "Системный вызов `fork()` может вызвать ошибку, это нужно проверять. Обычно в Python используют модуль `multiprocessing` для создания процессов, который к тому же кросплатформенный, не на всех системах есть системный вызов `fork()`:"
   ]
  },
  {
   "cell_type": "code",
   "execution_count": 4,
   "metadata": {},
   "outputs": [
    {
     "name": "stdout",
     "output_type": "stream",
     "text": [
      "hello Bob\n"
     ]
    }
   ],
   "source": [
    "from multiprocessing import Process\n",
    "\n",
    "def f(name):\n",
    "    print('hello', name)\n",
    "\n",
    "# Передаем функцию, которую хотим исполнить в дочернем процессе и аргументы этой функции:\n",
    "p = Process(target=f, args=('Bob',))\n",
    "\n",
    "# После того, как создан объект Process, никакого процесса в ОС создано не будет.\n",
    "# Он будет создан только после того, как мы вызовем метод start():\n",
    "p.start() # Этот метод вызывает системный вызов fork() в котором будет исполнена функция f\n",
    "p.join()  # Важно дожидаться выполнение всех дочерних процессов, для этого используется метод join()"
   ]
  },
  {
   "cell_type": "markdown",
   "metadata": {},
   "source": [
    "Также, существует альтернативный метод создания процесса при помощи наследования:"
   ]
  },
  {
   "cell_type": "code",
   "execution_count": 5,
   "metadata": {},
   "outputs": [
    {
     "name": "stdout",
     "output_type": "stream",
     "text": [
      "hello Mike\n"
     ]
    }
   ],
   "source": [
    "class PrintProcess(Process):\n",
    "\n",
    "    def __init__(self, name):\n",
    "        super().__init__()\n",
    "        self.name = name\n",
    "\n",
    "    def run(self):\n",
    "        print('hello', self.name)\n",
    "\n",
    "\n",
    "p = PrintProcess('Mike')\n",
    "p.start()\n",
    "p.join()"
   ]
  },
  {
   "cell_type": "markdown",
   "metadata": {},
   "source": [
    "## Итоги\n",
    "\n",
    "Мы рассмотрели:\n",
    "* Как создать дочерний процесс?\n",
    "* Работа системного вызова fork\n",
    "* Модуль multiprocessing\n",
    "\n",
    "Мы не говорили об:\n",
    "* Обмене данными между процессами\n",
    "* Синхронизации процессов"
   ]
  }
 ],
 "metadata": {
  "kernelspec": {
   "display_name": "Python 3",
   "language": "python",
   "name": "python3"
  },
  "language_info": {
   "codemirror_mode": {
    "name": "ipython",
    "version": 3
   },
   "file_extension": ".py",
   "mimetype": "text/x-python",
   "name": "python",
   "nbconvert_exporter": "python",
   "pygments_lexer": "ipython3",
   "version": "3.6.3"
  }
 },
 "nbformat": 4,
 "nbformat_minor": 2
}
