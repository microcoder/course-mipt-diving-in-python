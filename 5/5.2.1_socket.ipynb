{
 "cells": [
  {
   "cell_type": "markdown",
   "metadata": {},
   "source": [
    "# Сокеты. Клиент-сервер\n",
    "\n",
    "Работа с сетью, сокеты\n",
    "* Что такое сокеты?\n",
    "* Зачем нужны сокеты?\n",
    "* Программа клиент-сервер\n",
    "\n",
    "Сокеты - это кросс-платформенный механизм для обмена данными между отдельными процессами.  \n",
    "Эти процессы могут работать на разных серверах, могут быть написаны на разных языках.  \n",
    "Программа на Python, которая использует механизм сокетов, осуществляет системные вызовы и взаимодействует с ядром операционной системой.\n",
    "\n",
    "Для организации сетевого взаимодействия используются:\n",
    "* Cервер, который изначально создает некое соединение и начинает \"слушать\" все запросы, которые поступают в него.\n",
    "* Программа-клиент, которая присоединяется к серверу и отправляет ему данные."
   ]
  },
  {
   "cell_type": "markdown",
   "metadata": {},
   "source": [
    "## Создание сокета\n",
    "\n",
    "### Сервер"
   ]
  },
  {
   "cell_type": "code",
   "execution_count": null,
   "metadata": {},
   "outputs": [
    {
     "name": "stdout",
     "output_type": "stream",
     "text": [
      "Для начала работы с этим сервером, запустите в другой консоли на выбор клиента и отправьте данные:\n",
      "    1) Запустите команду telnet 127.0.0.1 10001, а затем в сеансе отправьте любой текст\n",
      "    2) Создайте клиентское соединение с сокетом сервера:\n",
      "        with socket.create_connection(('127.0.0.1', 10001)) as sock:\n",
      "            sock.sendall('ping from client'.encode('utf8'))\n",
      "    3) Откройте браузер по адресу: http://127.0.0.1:10001\n",
      "\n",
      "Появилось соединение на сокете с клиентом: ('127.0.0.1', 43246)\n",
      "ffff\n",
      "aaaa\n"
     ]
    }
   ],
   "source": [
    "import socket\n",
    "\n",
    "print(\"\"\"Для начала работы с этим сервером, запустите в другой консоли на выбор клиента и отправьте данные:\n",
    "    1) Запустите команду telnet 127.0.0.1 10001, а затем в сеансе отправьте любой текст\n",
    "    2) Создайте клиентское соединение с сокетом сервера:\n",
    "        with socket.create_connection(('127.0.0.1', 10001)) as sock:\n",
    "            sock.sendall('ping from client'.encode('utf8'))\n",
    "    3) Откройте браузер по адресу: http://127.0.0.1:10001\n",
    "\"\"\")\n",
    "\n",
    "\n",
    "# https://docs.python.org/3/library/socket.html\n",
    "# http://lecturesnet.readthedocs.io/net/low-level/ipc/socket/intro.html\n",
    "sock = socket.socket(socket.AF_INET, socket.SOCK_STREAM)\n",
    "sock.bind(('127.0.0.1', 10001)) # max port 65535. Метод bind() связывает сокет с IP-адресом и портом\n",
    "\n",
    "# Метод listen() объявляет начало прослушивания входящих соединений. В параметре передается\n",
    "# необязательный размер очереди входящих соединений, которые еще не обработаны, для которых еще не был\n",
    "# вызван метод accept(). Если сервер не будет успевать принимать входящие соединения, то все соединения будут\n",
    "# копится в этой очереди, и если она превысит это максимальное значение, то ОС выдаст ошибку\n",
    "# connection refused для клиентской программы.\n",
    "sock.listen(socket.SOMAXCONN)\n",
    "\n",
    "# Вызывается метод accept() для того, чтобы начать принимать входящее клиентское соединение.\n",
    "# Метод accept() блокирует поток, пока в сокете не появятся данные. Как только данные появляются,\n",
    "# поток \"просыпается\" и метод accept() возвращает tuple из 2-х объектов:\n",
    "#   1) объект типа <class 'socket.socket'> который является полнодуплексным каналом,\n",
    "#      у которого доступны методы чтения и записи в этот канал:\n",
    "#       <socket.socket fd=4, family=AddressFamily.AF_INET, type=SocketKind.SOCK_STREAM,\n",
    "#                            proto=0, laddr=('127.0.0.1', 10001), raddr=('127.0.0.1', 44168)>\n",
    "#   2) объект типа <class 'tuple'> который содержит адрес и порт:\n",
    "#       ('127.0.0.1', 44168)\n",
    "#\n",
    "conn, addr = sock.accept() # Метод БЛОКИРУЕТ поток. Элементы из tuple присваиваются двум переменным conn и addr\n",
    "print('Появилось соединение на сокете с клиентом:', addr)\n",
    "\n",
    "# В этом бесконечном цикле вызываем чтение из полнодуплексного канала\n",
    "while True:\n",
    "    # Если данных нет, то основной поток (этот цикл while) блокируется методом recv() в ожидание\n",
    "    # пока не появятся следующие данные в сокете от текущего соединения с клиентом.\n",
    "    data = conn.recv(1024) # Метод БЛОКИРУЕТ поток. Данные из сокета считываются в бинарном формате!\n",
    "    # Если клиент передал пустую строку или ключевое слово exit, то завершаем сеанс работы с клиентом\n",
    "    if not data.decode('utf8').strip() or 'exit' in data.decode('utf8'):\n",
    "        break\n",
    "    # Выводим данные из сокета которые отправил клиент\n",
    "    print(data.decode('utf8'), end='')\n",
    "\n",
    "conn.close() # Закрываем соединение с клиентом\n",
    "sock.close() # Закрываем сокет"
   ]
  },
  {
   "cell_type": "markdown",
   "metadata": {},
   "source": [
    "Выполним соединение с сокетом:"
   ]
  },
  {
   "cell_type": "code",
   "execution_count": 2,
   "metadata": {},
   "outputs": [
    {
     "name": "stdout",
     "output_type": "stream",
     "text": [
      "Trying 127.0.0.1...\n",
      "Connected to 127.0.0.1.\n",
      "Escape character is '^]'.\n",
      "ffff\n",
      "aaaa\n",
      "exit\n",
      "Connection closed by foreign host.\n"
     ]
    }
   ],
   "source": [
    "%%bash\n",
    "\n",
    "telnet 127.0.0.1 10001"
   ]
  },
  {
   "cell_type": "markdown",
   "metadata": {},
   "source": [
    "### Клиент"
   ]
  },
  {
   "cell_type": "code",
   "execution_count": null,
   "metadata": {},
   "outputs": [],
   "source": [
    "import socket\n",
    "\n",
    "sock = socket.socket()\n",
    "# Метод connect() заблокируется до тех пор, пока сервер со своей стороны не вызовет метод accept()\n",
    "sock.connect(('127.0.0.1', 10001))\n",
    "# После того, как метод connect() достучался до сервера, следом можно отправлять и получать данные с сервера.\n",
    "# Пересылать данные по сети мы вынуждены в байтах, а не строках, поэтому кодируем строку в байты:\n",
    "sock.sendall('ping 1'.encode('utf8'))\n",
    "sock.close()\n",
    "\n",
    "# Более короткая запись соединения:\n",
    "# sock = socket.create_connection(('127.0.0.1', 10001))\n",
    "# sock.sendall('ping 2'.encode('utf8'))\n",
    "# sock.close()"
   ]
  },
  {
   "cell_type": "markdown",
   "metadata": {},
   "source": [
    "## Создание сокета. Контекстный менеджер\n",
    "\n",
    "### Сервер"
   ]
  },
  {
   "cell_type": "code",
   "execution_count": null,
   "metadata": {},
   "outputs": [
    {
     "name": "stdout",
     "output_type": "stream",
     "text": [
      "Для начала работы с этим сервером, запустите в другой консоли на выбор клиента и отправьте данные:\n",
      "    1) Запустите команду telnet 127.0.0.1 10001, а затем в сеансе отправьте любой текст\n",
      "    2) Создайте клиентское соединение с сокетом сервера:\n",
      "        with socket.create_connection(('127.0.0.1', 10001)) as sock:\n",
      "            sock.sendall('ping from client'.encode('utf8'))\n",
      "    3) Откройте браузер по адресу: http://127.0.0.1:10001\n",
      "\n",
      "Ожидание нового соединения клиента на сокете...\n",
      "Новое соединение с клиентом: ('127.0.0.1', 43420)\n",
      "ping from client\n",
      "Соединение с клиентом закрыто\n",
      "Ожидание нового соединения клиента на сокете...\n"
     ]
    }
   ],
   "source": [
    "import socket\n",
    "\n",
    "print(\"\"\"Для начала работы с этим сервером, запустите в другой консоли на выбор клиента и отправьте данные:\n",
    "    1) Запустите команду telnet 127.0.0.1 10001, а затем в сеансе отправьте любой текст\n",
    "    2) Создайте клиентское соединение с сокетом сервера:\n",
    "        with socket.create_connection(('127.0.0.1', 10001)) as sock:\n",
    "            sock.sendall('ping from client'.encode('utf8'))\n",
    "    3) Откройте браузер по адресу: http://127.0.0.1:10001\n",
    "\"\"\")\n",
    "\n",
    "# Используется контекстный менеджер, который автоматически закроет сокет:\n",
    "with socket.socket() as sock:\n",
    "    sock.bind(('', 10001))\n",
    "    # В параметрах listen() можно использовать параметр socket.SOMAXCONN,\n",
    "    # который задаст размер очереди ожиданий accept() на сокете.\n",
    "    sock.listen()\n",
    "    \n",
    "    while True:\n",
    "        print('Ожидание нового соединения клиента на сокете...')\n",
    "        conn, addr = sock.accept() # Поток блокируется в ожидании нового соединения клиента с сокетом сервера\n",
    "        print('Новое соединение с клиентом:', addr)\n",
    "        \n",
    "        with conn: # Используется контекстный менеджер, который автоматически закроет соединение с клиентом\n",
    "            while True:\n",
    "                data = conn.recv(1024).decode('utf8') # Метод блокирует поток, пока не появятся данные от клиента\n",
    "                if not data.strip() or 'exit' in data:\n",
    "                    break\n",
    "                print(data)\n",
    "        print('Соединение с клиентом закрыто')"
   ]
  },
  {
   "cell_type": "markdown",
   "metadata": {},
   "source": [
    "### Клиент"
   ]
  },
  {
   "cell_type": "code",
   "execution_count": 4,
   "metadata": {},
   "outputs": [],
   "source": [
    "import socket\n",
    "\n",
    "with socket.create_connection(('127.0.0.1', 10001)) as sock:\n",
    "    sock.sendall('ping from client'.encode('utf8'))"
   ]
  },
  {
   "cell_type": "markdown",
   "metadata": {},
   "source": [
    "## Таймауты и обработка сетевых ошибок\n",
    "\n",
    "* Connect timeout и read timeout, в чем разница?\n",
    "* Обработка ошибок\n",
    "\n",
    "### Сервер"
   ]
  },
  {
   "cell_type": "code",
   "execution_count": null,
   "metadata": {},
   "outputs": [
    {
     "name": "stdout",
     "output_type": "stream",
     "text": [
      "Ожидание нового соединения клиента на сокете\n",
      "Новое соединение клиента: ('127.0.0.1', 43492) с таймаутом: 5.0\n",
      "ping\n",
      "Соединение с клиентом закрыто\n",
      "Ожидание нового соединения клиента на сокете\n"
     ]
    }
   ],
   "source": [
    "import socket\n",
    "\n",
    "with socket.socket() as sock:\n",
    "    sock.bind(('', 10001))\n",
    "    sock.listen() # Открываем сокет в ОС на прослушивание запросов\n",
    "    \n",
    "    while True:\n",
    "        print('Ожидание нового соединения клиента на сокете')\n",
    "        # Метод блокирующий поток, ожидающий соединения:\n",
    "        conn, addr = sock.accept()\n",
    "        # Если данные не поступают на сокет в течении 5 секунд,\n",
    "        # то соединение с клиентом разрывается и сокет переходит в ожидание следующего подключения:\n",
    "        conn.settimeout(5)\n",
    "        print('Новое соединение клиента:', addr, 'с таймаутом:', conn.gettimeout())\n",
    "        \n",
    "        with conn:\n",
    "            while True:\n",
    "                try:\n",
    "                    data = conn.recv(1024).decode('utf8')\n",
    "                except socket.timeout:\n",
    "                    print('Close connection by timeout')\n",
    "                    break\n",
    "\n",
    "                if not data.strip():\n",
    "                    break\n",
    "\n",
    "                print(data)\n",
    "        \n",
    "        print('Соединение с клиентом закрыто')"
   ]
  },
  {
   "cell_type": "markdown",
   "metadata": {},
   "source": [
    "### Клиент"
   ]
  },
  {
   "cell_type": "code",
   "execution_count": 3,
   "metadata": {},
   "outputs": [],
   "source": [
    "import socket\n",
    "\n",
    "# В параметрах соединения задается socket CONNECT timeout\n",
    "with socket.create_connection(('127.0.0.1', 10001), 5) as sock:\n",
    "    # Задается socket READ timeout (все операции с сокетом)\n",
    "    sock.settimeout(2)\n",
    "    try:\n",
    "        sock.sendall('ping'.encode('utf8'))\n",
    "    except socket.timeout:\n",
    "        print('send data timeout')\n",
    "    except socket.error as e:\n",
    "        print('send data error:', e)"
   ]
  },
  {
   "cell_type": "markdown",
   "metadata": {},
   "source": [
    "## Обработка нескольких соединений. Потоки\n",
    "\n",
    "* Как обработать несколько соединений одновременно?\n",
    "* Что использовать, процессы или потоки?\n",
    "* Рассмотрим примеры обработки сетевых запросов\n",
    "\n",
    "### Сервер"
   ]
  },
  {
   "cell_type": "code",
   "execution_count": null,
   "metadata": {},
   "outputs": [],
   "source": [
    "import socket\n",
    "import threading\n",
    "\n",
    "def process_request(conn, addr):\n",
    "    with conn:\n",
    "        while True:\n",
    "            # Метод recv() блокирует поток после получения данных от клиента в ожидание следующих данных:\n",
    "            data = conn.recv(1024).decode('utf8')\n",
    "            if not data.strip():\n",
    "                break\n",
    "            print(data, end='')\n",
    "\n",
    "\n",
    "with socket.socket() as sock:\n",
    "    sock.bind(('', 10001))\n",
    "    sock.listen()\n",
    "    \n",
    "    while True:\n",
    "        print('Ожидание нового соединения клиента на сокете')\n",
    "        # Метод блокирующий поток, ожидающий соединений.\n",
    "        conn, addr = sock.accept()\n",
    "        print('Новое соединение клиента:', addr)\n",
    "        # Создаем поток ОС\n",
    "        th = threading.Thread(target=process_request, args=(conn, addr,))\n",
    "        th.start() # Запускается поток обработки текущего соединения, а main поток идет дальше\n",
    "\n",
    "        # В этом месте, основной поток продолжает исполнение и переходит на новую итерацию цикла while для ожидания\n",
    "        # новых соединений, а запущенный поток обрабатывает существующее соединение."
   ]
  },
  {
   "cell_type": "markdown",
   "metadata": {},
   "source": [
    "## Обработка нескольких соединений. Потоки и процессы одновременно\n",
    "\n",
    "### Сервер"
   ]
  },
  {
   "cell_type": "code",
   "execution_count": null,
   "metadata": {},
   "outputs": [],
   "source": [
    "import os\n",
    "import socket\n",
    "import threading\n",
    "import multiprocessing\n",
    "\n",
    "\n",
    "def process_request(conn, addr):\n",
    "    with conn:\n",
    "        while True:\n",
    "            data = conn.recv(1024).decode('utf8')\n",
    "            if not data.strip():\n",
    "                break\n",
    "            print(data, end='')\n",
    "\n",
    "def worker(sock):\n",
    "    while True:\n",
    "        print('Ожидание нового соединения клиента на сокете. PID:', os.getpid())\n",
    "        conn, addr = sock.accept() # Здесь происходит блокирование до появления новых данных в сокете.\n",
    "        print('Новое соединение клиента:', addr)\n",
    "        th = threading.Thread(target=process_request, args=(conn, addr,))\n",
    "        th.start()\n",
    "        # А в этом месте, основной поток переходит на новую итерацию цикла while для ожидания\n",
    "        # новых соединений, а запущенный поток обрабатывает уже существующее соединение.\n",
    "\n",
    "\n",
    "with socket.socket() as sock:\n",
    "    sock.bind(('', 10001))\n",
    "    sock.listen()\n",
    "\n",
    "    # Пытаемся преодалеть ограничение GIL на потоки с помощью процессов.\n",
    "    # Генерируется список из 3-х объектов Process которые будут принимать соединения на сокете\n",
    "    workers_list = [multiprocessing.Process(target=worker, args=(sock,)) for _ in range(3)]\n",
    "\n",
    "    for w in workers_list:\n",
    "        w.start() # Запускаем процесс\n",
    "        w.join()  # и запускаем ожидание главным процессом завершение дочерних процессов"
   ]
  }
 ],
 "metadata": {
  "kernelspec": {
   "display_name": "Python 3",
   "language": "python",
   "name": "python3"
  },
  "language_info": {
   "codemirror_mode": {
    "name": "ipython",
    "version": 3
   },
   "file_extension": ".py",
   "mimetype": "text/x-python",
   "name": "python",
   "nbconvert_exporter": "python",
   "pygments_lexer": "ipython3",
   "version": "3.6.3"
  }
 },
 "nbformat": 4,
 "nbformat_minor": 2
}
