{
 "cells": [
  {
   "cell_type": "markdown",
   "metadata": {},
   "source": [
    "# Первые шаги с `asyncio`\n",
    "\n",
    "Первые шаги с `asyncio`:\n",
    "* Введение в `asyncio`\n",
    "* Примеры выполнения `asyncio` кода\n",
    "\n",
    "Фрэймворк `asyncio` это:\n",
    "* Часть Python3\n",
    "* Неблокирующий ввод/вывод\n",
    "* Сервисы с тысячами соединений одновременно\n",
    "* В основе лежат генераторы и корутины\n",
    "* Линейный код, отсутствие callback'ов!"
   ]
  },
  {
   "cell_type": "code",
   "execution_count": 1,
   "metadata": {},
   "outputs": [
    {
     "name": "stdout",
     "output_type": "stream",
     "text": [
      "Hello world!\n",
      "Hello world!\n",
      "Hello world!\n",
      "Hello world!\n"
     ]
    }
   ],
   "source": [
    "import asyncio\n",
    "\n",
    "# К функции добавляется декоратор, тем самым делая функцию корутиной\n",
    "@asyncio.coroutine\n",
    "def hello_world():\n",
    "    while True:\n",
    "        print('Hello world!')\n",
    "        # Даёт возможность исполнятся другим корутинам, вместо вызова time.sleep(1).\n",
    "        # yield from ... это что-то вроде inline вставки кода из другой функции.\n",
    "        yield from asyncio.sleep(1.0)\n",
    "\n",
    "\n",
    "# Весь код в asyncio строится на основе понятия цикла обработки событий или event_loop.\n",
    "# event_loop — это своего рода планировщик задач или корутин, которые в нем исполняются. Он отвечает за ввод/вывод,\n",
    "# он отвечает за управление сигналами, всеми сетевыми операциями и переключает контекст между всеми корутинами,\n",
    "# которые в нем зарегистрированы и выполняются. Если одна корутина ожидает завершения какой-то сетевой операции,\n",
    "# например, ждет, пока данные поступят в сокет, то в этот момент event_loop может переключиться на другую корутину\n",
    "# и продолжить ее выполнение.\n",
    "loop = asyncio.get_event_loop()\n",
    "try:\n",
    "    loop.run_until_complete(hello_world()) # Обычные функции исполнять нельзя, только корутины\n",
    "except KeyboardInterrupt:\n",
    "    pass\n",
    "loop.close()"
   ]
  },
  {
   "cell_type": "markdown",
   "metadata": {},
   "source": [
    "Начиная с версии Python 3.5, появился новый PEP 492, в котором был введен специальный синтаксис для написания корутин: это `async` и `await`:"
   ]
  },
  {
   "cell_type": "code",
   "execution_count": 1,
   "metadata": {},
   "outputs": [
    {
     "name": "stdout",
     "output_type": "stream",
     "text": [
      "Hello world!\n",
      "Hello world!\n",
      "Hello world!\n"
     ]
    }
   ],
   "source": [
    "import asyncio\n",
    "\n",
    "# Объявление функции через конструкцию async def гарантирует нам, что эта функция является\n",
    "# точно корутиной. Если мы используем этот синтаксис, то внутри мы не можем использовать\n",
    "# конструкцию yield from, мы обязаны использовать вызов await.\n",
    "async def hello_world():\n",
    "    while True:\n",
    "        print('Hello world!')\n",
    "        await asyncio.sleep(1.0)\n",
    "\n",
    "\n",
    "loop = asyncio.get_event_loop()\n",
    "try:\n",
    "    loop.run_until_complete(hello_world()) # Обычные функции исполнять нельзя, только корутины\n",
    "except KeyboardInterrupt:\n",
    "    pass\n",
    "\n",
    "loop.close()"
   ]
  },
  {
   "cell_type": "markdown",
   "metadata": {},
   "source": [
    "Запустим следующий код который откроет сокет и будет ожидать клиенское соединение:"
   ]
  },
  {
   "cell_type": "code",
   "execution_count": null,
   "metadata": {},
   "outputs": [],
   "source": [
    "import asyncio\n",
    "\n",
    "async def handle_echo(reader, writer):\n",
    "    data = await reader.read(1024)\n",
    "    message = data.decode('utf8').strip()\n",
    "    addr = writer.get_extra_info('peername')\n",
    "    print('received {} from {}'.format(message, addr))\n",
    "    writer.close() # Закрываем корутину\n",
    "\n",
    "\n",
    "loop = asyncio.get_event_loop()\n",
    "coro = asyncio.start_server(handle_echo, '127.0.0.1', 10002, loop=loop) # Запускаем сокет и регистрируем корутину\n",
    "server = loop.run_until_complete(coro)\n",
    "try:\n",
    "    loop.run_forever()\n",
    "except KeyboardInterrupt:\n",
    "    pass\n",
    "\n",
    "server.close()\n",
    "loop.run_until_complete(server.wait_closed())\n",
    "loop.close()"
   ]
  },
  {
   "cell_type": "markdown",
   "metadata": {},
   "source": [
    "Затем, создадим 2 клиента в инетрактивной консоли python запустив следующий код:"
   ]
  },
  {
   "cell_type": "code",
   "execution_count": null,
   "metadata": {},
   "outputs": [],
   "source": [
    "import socket\n",
    "sock = socket.create_connection(('127.0.0.1', 10001))"
   ]
  },
  {
   "cell_type": "markdown",
   "metadata": {},
   "source": [
    "и отправим тестовые данные в наш сервер с одной и второй консоли:"
   ]
  },
  {
   "cell_type": "code",
   "execution_count": null,
   "metadata": {},
   "outputs": [],
   "source": [
    "sock.send(b'ping2')\n",
    "sock.send(b'ping1')"
   ]
  },
  {
   "cell_type": "markdown",
   "metadata": {},
   "source": [
    "Сервер обработает эти запросы и выдаст сообщения:\n",
    "\n",
    "received ping2 from ('127.0.0.1', 37658)  \n",
    "received ping1 from ('127.0.0.1', 37660)\n",
    "\n",
    "## Итоги\n",
    "\n",
    "Код получился простым:\n",
    "* Не нужно организовывать взаимодействие между процессами и потоками\n",
    "* Код работает в одном потоке, поэтому он не захватывает GIL, нет проблемы с GIL\n",
    "* Нет никаких callback-ов, все очень просто и понятно\n",
    "\n",
    "Внутри этого кода заложена работа генераторов или корутин, то есть когда приходит новый запрос, создается новая корутина, и эти корутины исполняются последовательно, но тем самым мы смогли в одном потоке обработать несколько клиентов."
   ]
  },
  {
   "cell_type": "markdown",
   "metadata": {},
   "source": [
    "## Пример асинхронного клиента"
   ]
  },
  {
   "cell_type": "code",
   "execution_count": null,
   "metadata": {},
   "outputs": [],
   "source": [
    "import asyncio\n",
    "\n",
    "async def tcp_echo_client(message, loop):\n",
    "    reader, writer = await asyncio.open_connection('127.0.0.1', 10002, loop=loop)\n",
    "    print('send:', message)\n",
    "    writer.write(message.encode())\n",
    "    writer.close()\n",
    "\n",
    "\n",
    "loop = asyncio.get_event_loop()\n",
    "message = 'Hello, World!'\n",
    "loop.run_until_complete(tcp_echo_client(message, loop))\n",
    "loop.close()"
   ]
  }
 ],
 "metadata": {
  "kernelspec": {
   "display_name": "Python 3",
   "language": "python",
   "name": "python3"
  },
  "language_info": {
   "codemirror_mode": {
    "name": "ipython",
    "version": 3
   },
   "file_extension": ".py",
   "mimetype": "text/x-python",
   "name": "python",
   "nbconvert_exporter": "python",
   "pygments_lexer": "ipython3",
   "version": "3.6.3"
  },
  "toc": {
   "nav_menu": {
    "height": "66px",
    "width": "303px"
   },
   "number_sections": true,
   "sideBar": false,
   "skip_h1_title": true,
   "title_cell": "Table of Contents",
   "title_sidebar": "Contents",
   "toc_cell": false,
   "toc_position": {},
   "toc_section_display": true,
   "toc_window_display": false
  }
 },
 "nbformat": 4,
 "nbformat_minor": 2
}
