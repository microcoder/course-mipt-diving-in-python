{
 "cells": [
  {
   "cell_type": "markdown",
   "metadata": {},
   "source": [
    "# Генераторы и сопрограммы (coroutine)\n",
    "\n",
    "* Как устроены сопрограммы\n",
    "* Отличие между генераторами и сопрограммами\n",
    "* Как работает `yield from`\n",
    "* Примеры работы сопрограмм"
   ]
  },
  {
   "cell_type": "code",
   "execution_count": 1,
   "metadata": {},
   "outputs": [
    {
     "name": "stdout",
     "output_type": "stream",
     "text": [
      "start grep\n",
      "python is simple!\n"
     ]
    }
   ],
   "source": [
    "def grep(pattern):\n",
    "    print('start grep')\n",
    "    \n",
    "    while True:\n",
    "        # Переменной line присваивается результат работы yield. Функция grep как бы заморозит\n",
    "        # свое значение и будет ожидать ввода данных при помощи метода send()\n",
    "        # line будет равна значению переданному методом send()\n",
    "        line = yield\n",
    "\n",
    "        if pattern in line:\n",
    "            print(line)\n",
    "\n",
    "\n",
    "# Вызывая функцию grep() мы создаем (не вызываем!) coroutine или\n",
    "# по другому generator, по которому следует итерироваться:\n",
    "g = grep('python') # <class 'generator'>\n",
    "\n",
    "# Для того, чтобы запустить coroutine, необходимо вызвать метод next(),\n",
    "# после чего код функции запустится и на экран выведется строчка \"start grep\",\n",
    "# запустится бесконечный цикл while, код дойдет до инструкции yield, и здесь вернется\n",
    "# управление в основной поток.\n",
    "next(g) # g.send(None)\n",
    "\n",
    "# После того, как управление перешло в основной поток, мы отправляем данные\n",
    "# coroutine и код возобновляет свою работу дальше. В переменную line запишется\n",
    "# значение переданное методом send(), а параметр pattern возобновит свое значение\n",
    "# которое было присвоено при создании coroutine.\n",
    "g.send('golang is better?')\n",
    "g.send('python is simple!')"
   ]
  },
  {
   "cell_type": "markdown",
   "metadata": {},
   "source": [
    "Повторим:\n",
    "\n",
    "Инструкция `yield` возвращает результат и замораживает функцию. Этот возврат не равносилен инструкции `return`. В объекте `g` который является `coroutine` запомнился указатель на фрэйм стека, запомнились все локальные переменные. Функция как бы запомнила свое состояние, как бы заморозила свое выполнение в том месте, где была указана инструкция `yield`. С этого момента запущена `coroutine` которая ожидает вызова метода `send()` с переданными в неё данными."
   ]
  },
  {
   "cell_type": "markdown",
   "metadata": {},
   "source": [
    "##  Coroutine. Метод `close()`\n",
    "\n",
    "Иногда, необходимо закрыть запущенную `coroutine`. Выполняется это при помощи метода `close()` для объекта `coroutine`. Метод `close()` сгенерирует исключение `GeneratorExit` в том месте, где функция заморозила свою работу. Это исключение нельзя игнорировать, его нужно обрабатывать и корректно завершать работу `coroutine`."
   ]
  },
  {
   "cell_type": "code",
   "execution_count": 3,
   "metadata": {},
   "outputs": [
    {
     "name": "stdout",
     "output_type": "stream",
     "text": [
      "start grep\n",
      "python is the best!\n",
      "stop grep\n"
     ]
    }
   ],
   "source": [
    "def grep(pattern):\n",
    "    print('start grep')\n",
    "    try:\n",
    "        while True:\n",
    "            line = yield\n",
    "            if pattern in line:\n",
    "                print(line)\n",
    "    except GeneratorExit:\n",
    "        print('stop grep') # Вызывается каждый раз, когда доходит до инструкции yield в теле coroutine\n",
    "\n",
    "\n",
    "# Функция grep при вызове не исполняется привычным образом,\n",
    "# python видя инстуркцию yield создает итерируемый объект-генератор который ожидает итерацию\n",
    "g = grep('python') # <generator object grep at 0x7ff2fc2b5d00>\n",
    "next(g)            # Аналогично - g.send(None). Первой итерацией запускается coroutine\n",
    "g.send('python is the best!')\n",
    "g.close()          # Метод вызывает исключение типа GeneratorExit в coroutine"
   ]
  },
  {
   "cell_type": "markdown",
   "metadata": {},
   "source": [
    "## Coroutine. Метод `throw()`\n",
    "\n",
    "Иногда необходимо передать исключение в `coroutine`. Это выполняется при помощи вызова метода `throw()`:"
   ]
  },
  {
   "cell_type": "code",
   "execution_count": 6,
   "metadata": {},
   "outputs": [
    {
     "name": "stdout",
     "output_type": "stream",
     "text": [
      "start grep\n",
      "python is the best!\n",
      "Custom exception. e = something wrong\n"
     ]
    },
    {
     "ename": "StopIteration",
     "evalue": "",
     "output_type": "error",
     "traceback": [
      "\u001b[0;31m---------------------------------------------------------------------------\u001b[0m",
      "\u001b[0;31mStopIteration\u001b[0m                             Traceback (most recent call last)",
      "\u001b[0;32m<ipython-input-6-40a1cf757dda>\u001b[0m in \u001b[0;36m<module>\u001b[0;34m()\u001b[0m\n\u001b[1;32m     17\u001b[0m \u001b[0mnext\u001b[0m\u001b[0;34m(\u001b[0m\u001b[0mg\u001b[0m\u001b[0;34m)\u001b[0m            \u001b[0;31m# Аналогично - g.send(None). Первой итерацией запускается coroutine\u001b[0m\u001b[0;34m\u001b[0m\u001b[0m\n\u001b[1;32m     18\u001b[0m \u001b[0mg\u001b[0m\u001b[0;34m.\u001b[0m\u001b[0msend\u001b[0m\u001b[0;34m(\u001b[0m\u001b[0;34m'python is the best!'\u001b[0m\u001b[0;34m)\u001b[0m\u001b[0;34m\u001b[0m\u001b[0m\n\u001b[0;32m---> 19\u001b[0;31m \u001b[0mg\u001b[0m\u001b[0;34m.\u001b[0m\u001b[0mthrow\u001b[0m\u001b[0;34m(\u001b[0m\u001b[0mRuntimeError\u001b[0m\u001b[0;34m,\u001b[0m \u001b[0;34m'something wrong'\u001b[0m\u001b[0;34m)\u001b[0m\u001b[0;34m\u001b[0m\u001b[0m\n\u001b[0m\u001b[1;32m     20\u001b[0m \u001b[0;31m# g.close()\u001b[0m\u001b[0;34m\u001b[0m\u001b[0;34m\u001b[0m\u001b[0m\n",
      "\u001b[0;31mStopIteration\u001b[0m: "
     ]
    }
   ],
   "source": [
    "def grep(pattern):\n",
    "    print('start grep')\n",
    "    try:\n",
    "        while True:\n",
    "            line = yield\n",
    "            if pattern in line:\n",
    "                print(line)\n",
    "    except GeneratorExit:\n",
    "        print('stop grep') # Вызывается каждый раз, когда доходит до инструкции yield в теле coroutine\n",
    "    except RuntimeError as e:\n",
    "        print('Custom exception. e =', e)\n",
    "\n",
    "\n",
    "# Функция grep при вызове не исполняется привычным образом,\n",
    "# python видя инстуркцию yield создает итерируемый объект-генератор который ожидает итерацию\n",
    "g = grep('python') # <generator object grep at 0x7ff2fc2b5308>\n",
    "next(g)            # Аналогично - g.send(None). Первой итерацией запускается coroutine\n",
    "g.send('python is the best!')\n",
    "g.throw(RuntimeError, 'something wrong')\n",
    "# g.close()"
   ]
  },
  {
   "cell_type": "markdown",
   "metadata": {},
   "source": [
    "## Coroutine. Вызов `coroutine` из обычной функции"
   ]
  },
  {
   "cell_type": "code",
   "execution_count": 11,
   "metadata": {},
   "outputs": [
    {
     "name": "stdout",
     "output_type": "stream",
     "text": [
      "<class 'function'>\n",
      "start grep\n",
      "python is the best!\n"
     ]
    }
   ],
   "source": [
    "def grep(pattern):\n",
    "    print('start grep')\n",
    "    while True:\n",
    "        line = yield\n",
    "        if pattern in line:\n",
    "            print(line)\n",
    "\n",
    "def grep_python_coroutine():\n",
    "    g = grep('python') # Создается coroutine\n",
    "    next(g)            # Аналогично - g.send(None). Первой итерацией запускается coroutine\n",
    "    g.send('python is the best!')\n",
    "    g.close()\n",
    "\n",
    "\n",
    "# Функция grep_python_coroutine() не является coroutine, в ее теле нет инструкции yield,\n",
    "# поэтому она сразу выполнится, так как является обычной функцией:\n",
    "print(type(grep_python_coroutine))\n",
    "grep_python_coroutine()"
   ]
  },
  {
   "cell_type": "markdown",
   "metadata": {},
   "source": [
    "## Coroutine. Инструкция `yield from`\n",
    "\n",
    "Для того, чтобы из одной `coroutine` можно было вызывать другую `coroutine`, в Python используется инструкция `yield from`:"
   ]
  },
  {
   "cell_type": "code",
   "execution_count": 12,
   "metadata": {},
   "outputs": [
    {
     "name": "stdout",
     "output_type": "stream",
     "text": [
      "<generator object grep_python_coroutine at 0x7f8c18643af0>\n",
      "start grep\n",
      "python wow!\n"
     ]
    }
   ],
   "source": [
    "def grep(pattern):\n",
    "    print('start grep')\n",
    "    while True:\n",
    "        line = yield\n",
    "        if pattern in line:\n",
    "            print(line)\n",
    "\n",
    "def grep_python_coroutine():\n",
    "    g = grep('python')\n",
    "    yield from g\n",
    "\n",
    "\n",
    "# Сейчас функция grep_python_coroutine() является coroutine, так как содержит\n",
    "# инструкцию yield from вызывающую другую coroutine\n",
    "g = grep_python_coroutine()\n",
    "print(g)\n",
    "next(g)   # g.send(None)\n",
    "g.send('python wow!')"
   ]
  },
  {
   "cell_type": "markdown",
   "metadata": {},
   "source": [
    "## PEP 380. Генераторы"
   ]
  },
  {
   "cell_type": "code",
   "execution_count": 13,
   "metadata": {},
   "outputs": [
    {
     "name": "stdout",
     "output_type": "stream",
     "text": [
      "1\n",
      "2\n",
      "3\n",
      "4\n",
      "5\n"
     ]
    }
   ],
   "source": [
    "def chain(x_iterable, y_iterable):\n",
    "    # В инструкции 'yield from' указываем объект по которому возможна итерация,\n",
    "    # в этом случае этими объектами являются параметры переданные в эту функцию.\n",
    "    # В начале функция-генератор chain() возвращает элементы по первой инструкции 'yield from x_iterable',\n",
    "    # как только элементы закончаться, вызов перейдет ко второй инструкции 'yield from y_iterable'\n",
    "    yield from x_iterable\n",
    "    yield from y_iterable\n",
    "\n",
    "    # По сути, это тоже самое, если мы перепишем функцию:\n",
    "    #\n",
    "    # def chain(x_iterable, y_iterable):\n",
    "    #     for x in x_iterable:\n",
    "    #         yield x\n",
    "    #     for y in y_iterable:\n",
    "    #         yield y\n",
    "\n",
    "\n",
    "# Два объекта по которым возможно осуществлять итерацию, это list() и tuple()\n",
    "a = [1, 2, 3]\n",
    "b = (4, 5)\n",
    "\n",
    "for x in chain(a, b): # Итерация сначала идет по объекту 'a', а затем по 'b'\n",
    "    print(x)"
   ]
  },
  {
   "cell_type": "markdown",
   "metadata": {},
   "source": [
    "## Итоги\n",
    "* Как устроены генераторы и сопрограммы (coroutine)\n",
    "* Несмотря на некоторую схожесть, у генератора и корутины два важных отличия:\n",
    "  * Генераторы производят значения (yield item)\n",
    "  * Корутины потребляют значения (item = yield)\n",
    "* Корутина может иметь два состояния: suspended и resumed\n",
    "* `yield` приостанавливает корутину\n",
    "* `send()` возобновляет работу корутины\n",
    "* `close()` завершает выполнение\n",
    "* `yield from` используется для делегирования вызова генератора\n",
    "* Все эти знания необходимы для того, чтобы понять как работает фрэймворк `asyncio`"
   ]
  }
 ],
 "metadata": {
  "kernelspec": {
   "display_name": "Python 3",
   "language": "python",
   "name": "python3"
  },
  "language_info": {
   "codemirror_mode": {
    "name": "ipython",
    "version": 3
   },
   "file_extension": ".py",
   "mimetype": "text/x-python",
   "name": "python",
   "nbconvert_exporter": "python",
   "pygments_lexer": "ipython3",
   "version": "3.6.3"
  },
  "toc": {
   "nav_menu": {
    "height": "134px",
    "width": "375px"
   },
   "number_sections": true,
   "sideBar": false,
   "skip_h1_title": true,
   "title_cell": "Table of Contents",
   "title_sidebar": "Contents",
   "toc_cell": false,
   "toc_position": {},
   "toc_section_display": true,
   "toc_window_display": false
  }
 },
 "nbformat": 4,
 "nbformat_minor": 2
}
