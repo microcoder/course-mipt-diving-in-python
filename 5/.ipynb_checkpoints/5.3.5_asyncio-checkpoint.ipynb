{
 "cells": [
  {
   "cell_type": "markdown",
   "metadata": {},
   "source": [
    "# Framework asyncio.Future\n",
    "\n",
    "Выполнение кода в `asyncio`\n",
    "* `asyncio.Future`\n",
    "* `asyncio.Task`\n",
    "* `loop.run_in_executor`\n",
    "* Библиотеки для работы с `asyncio`\n",
    "\n",
    "`asyncio.Future`, это аналог `concurrent.futures.Future`"
   ]
  },
  {
   "cell_type": "code",
   "execution_count": 1,
   "metadata": {},
   "outputs": [
    {
     "name": "stdout",
     "output_type": "stream",
     "text": [
      "Future is done!\n"
     ]
    }
   ],
   "source": [
    "import asyncio\n",
    "\n",
    "async def slow_operation(future):\n",
    "    await asyncio.sleep(1)\n",
    "    future.set_result('Future is done!')\n",
    "\n",
    "\n",
    "loop = asyncio.get_event_loop()\n",
    "future = asyncio.Future()\n",
    "asyncio.ensure_future(slow_operation(future))\n",
    "loop.run_until_complete(future)\n",
    "print(future.result()) # Future is done!\n",
    "#loop.close()"
   ]
  },
  {
   "cell_type": "markdown",
   "metadata": {},
   "source": [
    "## Framework asyncio.Task\n",
    "\n",
    "Запуск нескольких корутин в одном `event loop`:"
   ]
  },
  {
   "cell_type": "code",
   "execution_count": 2,
   "metadata": {},
   "outputs": [
    {
     "name": "stdout",
     "output_type": "stream",
     "text": [
      "Process task: 0, iter: 0\n",
      "Process task: 1, iter: 0\n",
      "Process task: 0, iter: 1\n",
      "Process task: 1, iter: 1\n",
      "Process task: 0, iter: 2\n",
      "Process task: 1, iter: 2\n",
      "Process task: 0, iter: 3\n",
      "Process task: 1, iter: 3\n",
      "Process task: 0, iter: 4\n",
      "Process task: 1, iter: 4\n",
      "Process task: 3, iter: 0\n",
      "Process task: 3, iter: 1\n",
      "Process task: 3, iter: 2\n",
      "Process task: 3, iter: 3\n",
      "Process task: 3, iter: 4\n",
      "Process task: 20, iter: 0\n",
      "Process task: 10, iter: 0\n",
      "Process task: 20, iter: 1\n",
      "Process task: 10, iter: 1\n",
      "Process task: 20, iter: 2\n",
      "Process task: 10, iter: 2\n",
      "Process task: 20, iter: 3\n",
      "Process task: 10, iter: 3\n",
      "Process task: 20, iter: 4\n",
      "Process task: 10, iter: 4\n",
      "[10, 20]\n"
     ]
    }
   ],
   "source": [
    "import asyncio\n",
    "\n",
    "async def sleep_task(num):\n",
    "    for i in range(5):\n",
    "        print('Process task: {}, iter: {}'.format(num, i))\n",
    "        await asyncio.sleep(1)\n",
    "    return num\n",
    "\n",
    "\n",
    "loop = asyncio.get_event_loop()\n",
    "task_list = [ loop.create_task(sleep_task(i)) for i in range(2) ]\n",
    "# Вариант 1. Исполнение списка тасков:\n",
    "loop.run_until_complete(asyncio.wait(task_list))\n",
    "# Вариант 2. Исполнение одного конкретного таска. Не нужно никаких дополнительных вызовов, таких как asyncio.wait():\n",
    "loop.run_until_complete(loop.create_task(sleep_task(3)))\n",
    "# Вариант 3. asyncio.gather - более удобная обертка для исполнения списка тасков.\n",
    "# Не нужно вызывать метод loop.create_task(), внутри asyncio.gather() будет все вызвано автоматически\n",
    "# Не нужно запоминать список наших тасков\n",
    "result = loop.run_until_complete(asyncio.gather(sleep_task(10), sleep_task(20)))\n",
    "# Результат работы двух последних тасков\n",
    "print(result) # [10, 20]\n",
    "\n",
    "#loop.close()"
   ]
  },
  {
   "cell_type": "markdown",
   "metadata": {},
   "source": [
    "Мы видим, что таски хоть и работают последовательно, но запускаются они одновременно. Пока один таск выполняет `sleep`, второй продолжает работать и так далее."
   ]
  },
  {
   "cell_type": "markdown",
   "metadata": {},
   "source": [
    "## Framework asyncio loop.run_in_executor()"
   ]
  },
  {
   "cell_type": "code",
   "execution_count": 3,
   "metadata": {},
   "outputs": [
    {
     "name": "stdout",
     "output_type": "stream",
     "text": [
      "12927\n"
     ]
    }
   ],
   "source": [
    "import asyncio\n",
    "from urllib.request import urlopen\n",
    "\n",
    "# a synchronous function\n",
    "def sync_get_url(url):\n",
    "    return urlopen(url).read()\n",
    "\n",
    "async def load_url(url, loop=None):\n",
    "    # loop.run_in_executor() создаст необходимое количество потоков для блокирующей функции sync_get_url()\n",
    "    future = loop.run_in_executor(None, sync_get_url, url) # Функция sync_get_url будет выполнена в отдельном потоке\n",
    "    response = await future\n",
    "    print(len(response))\n",
    "\n",
    "\n",
    "loop = asyncio.get_event_loop()\n",
    "loop.run_until_complete(load_url('https://google.com', loop=loop)) # Запускаем корутину load_url()\n",
    "\n",
    "loop.close()"
   ]
  },
  {
   "cell_type": "markdown",
   "metadata": {},
   "source": [
    "## Итоги\n",
    "\n",
    "Библиотеки `asyncio`\n",
    "* https://github.com/aio-libs\n",
    "* aiohttp https://github.com/aio-libs/aiohttp\n",
    "* aiomysql https://github.com/aio-libs/aiomysql\n",
    "* aiomcache https://github.com/aio-libs/aiomcache\n",
    "* https://docs.python.org/3/library/asyncio.html\n",
    "\n",
    "Выполнение кода в `asyncio`, подводим итоги\n",
    "* Рассмотрели основные приемы для написания кода на `asyncio`\n",
    "* Использование `asyncio.Future` и `asyncio.Task` вместо объектов `Thread`\n",
    "* Обсудили для чего нужен `loop.run_in_executor()`, и как поступать с \"синхронным\" кодом\n",
    "* Обсудили особенности разработки для `asyncio`"
   ]
  }
 ],
 "metadata": {
  "kernelspec": {
   "display_name": "Python 3",
   "language": "python",
   "name": "python3"
  },
  "language_info": {
   "codemirror_mode": {
    "name": "ipython",
    "version": 3
   },
   "file_extension": ".py",
   "mimetype": "text/x-python",
   "name": "python",
   "nbconvert_exporter": "python",
   "pygments_lexer": "ipython3",
   "version": "3.6.3"
  },
  "toc": {
   "nav_menu": {
    "height": "92px",
    "width": "334px"
   },
   "number_sections": true,
   "sideBar": false,
   "skip_h1_title": true,
   "title_cell": "Table of Contents",
   "title_sidebar": "Contents",
   "toc_cell": false,
   "toc_position": {},
   "toc_section_display": true,
   "toc_window_display": false
  }
 },
 "nbformat": 4,
 "nbformat_minor": 2
}
