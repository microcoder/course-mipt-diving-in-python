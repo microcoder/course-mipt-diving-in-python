{
 "cells": [
  {
   "cell_type": "markdown",
   "metadata": {},
   "source": [
    "# Процесс и его характеристики\n",
    "\n",
    "* Что такое процесс?\n",
    "  * Процесс это программа запущенная в оперативной памяти компьютера\n",
    "  * Процесс это набор инструкций которые выполняются последовательно\n",
    "  * Характеристики процесса:\n",
    "    * Идентификатор процесса (PID)\n",
    "    * Объем оперативной памяти\n",
    "    * Стек\n",
    "    * Список открытых файлов\n",
    "    * Ввод/Вывод\n",
    "  * Процессы в Linux можно посмотреть консольной командой top:\n",
    "    * $ top\n",
    "* Какие процессы запущены в ОС?\n",
    "* Как запустить python процесс?\n",
    "* Что делает процесс во время исполнения?\n",
    "\n",
    "## Простой Python процесс"
   ]
  },
  {
   "cell_type": "code",
   "execution_count": null,
   "metadata": {
    "collapsed": true
   },
   "outputs": [],
   "source": [
    "import time\n",
    "import os\n",
    "\n",
    "pid = os.getpid()\n",
    "\n",
    "count = 0\n",
    "while True:\n",
    "    count += 1\n",
    "    print('{}) PID: {}, Time: {}. For brake press <CTRL+C>'.format(count, pid, time.time()))\n",
    "    time.sleep(5)\n",
    "    if count >= 10: break"
   ]
  },
  {
   "cell_type": "markdown",
   "metadata": {},
   "source": [
    "Посмотреть наш процесс мы можем следующей командой в системной консоли:"
   ]
  },
  {
   "cell_type": "code",
   "execution_count": 7,
   "metadata": {
    "scrolled": false
   },
   "outputs": [
    {
     "name": "stdout",
     "output_type": "stream",
     "text": [
      "USER        PID %CPU %MEM    VSZ   RSS TTY      STAT START   TIME COMMAND\n",
      "ubuntu     3077  0.0  0.1  29812  7716 pts/0    S+   13:27   0:00 python3 py_process.py\n",
      "ubuntu     3082  0.0  0.0  14792   784 ?        S    13:27   0:00 grep 3077\n"
     ]
    }
   ],
   "source": [
    "%%bash\n",
    "\n",
    "ps aux | head -1 && ps aux | grep 3077"
   ]
  },
  {
   "cell_type": "markdown",
   "metadata": {},
   "source": [
    "Чтобы посмотреть какие системные вызовы делает наш процесс, можно воспользоваться командой `strace`:"
   ]
  },
  {
   "cell_type": "code",
   "execution_count": 9,
   "metadata": {
    "scrolled": false
   },
   "outputs": [
    {
     "name": "stderr",
     "output_type": "stream",
     "text": [
      "strace: Process 3077 attached\n",
      "select(0, NULL, NULL, NULL, {tv_sec=2, tv_usec=17897}) = 0 (Timeout)\n",
      "write(1, \"6) PID: 3077, Time: 1512221278.0\"..., 65) = 65\n",
      "select(0, NULL, NULL, NULL, {tv_sec=5, tv_usec=0}) = 0 (Timeout)\n",
      "write(1, \"7) PID: 3077, Time: 1512221283.0\"..., 65) = 65\n",
      "select(0, NULL, NULL, NULL, {tv_sec=5, tv_usec=0}) = 0 (Timeout)\n",
      "write(1, \"8) PID: 3077, Time: 1512221288.0\"..., 65) = 65\n",
      "select(0, NULL, NULL, NULL, {tv_sec=5, tv_usec=0}) = 0 (Timeout)\n",
      "write(1, \"9) PID: 3077, Time: 1512221293.0\"..., 65) = 65\n",
      "select(0, NULL, NULL, NULL, {tv_sec=5, tv_usec=0}) = 0 (Timeout)\n",
      "write(1, \"10) PID: 3077, Time: 1512221298.\"..., 66) = 66\n",
      "select(0, NULL, NULL, NULL, {tv_sec=5, tv_usec=0}) = 0 (Timeout)\n",
      "rt_sigaction(SIGINT, {sa_handler=SIG_DFL, sa_mask=[], sa_flags=SA_RESTORER, sa_restorer=0x7f7559d9b150}, {sa_handler=0x444280, sa_mask=[], sa_flags=SA_RESTORER, sa_restorer=0x7f7559d9b150}, 8) = 0\n",
      "brk(0x23d5000)                          = 0x23d5000\n",
      "sigaltstack(NULL, {ss_sp=0x231a360, ss_flags=0, ss_size=8192}) = 0\n",
      "sigaltstack({ss_sp=NULL, ss_flags=SS_DISABLE, ss_size=0}, NULL) = 0\n",
      "exit_group(0)                           = ?\n",
      "+++ exited with 0 +++\n"
     ]
    }
   ],
   "source": [
    "%%bash\n",
    "\n",
    "sudo strace -p 3077"
   ]
  },
  {
   "cell_type": "markdown",
   "metadata": {},
   "source": [
    "Чтобы посмотреть список открытых файлов процессом, можно воспользоваться командой `lsof`.\n",
    "\n",
    "Список достаточно большой, так как когда интерпретатор python запускает наш процесс, он открывает дополнительные системные библиотеки, но самое главное, нас интересуют стандартные потоки ввода-вывода и ошибки указанные в поле `FD` (File Descriptor) как `0u`, `1u`, `2u`:"
   ]
  },
  {
   "cell_type": "code",
   "execution_count": 8,
   "metadata": {},
   "outputs": [
    {
     "name": "stdout",
     "output_type": "stream",
     "text": [
      "COMMAND  PID   USER   FD   TYPE DEVICE SIZE/OFF     NODE NAME\n",
      "python3 3077 ubuntu  cwd    DIR   0,53       15    71678 /home/ubuntu/coursera/4\n",
      "python3 3077 ubuntu  rtd    DIR   0,53       22       14 /\n",
      "python3 3077 ubuntu  txt    REG   0,53  4568920     3306 /usr/bin/python3.6\n",
      "python3 3077 ubuntu  mem    REG   0,53  1516558     3930 /usr/lib/locale/C.UTF-8/LC_COLLATE\n",
      "python3 3077 ubuntu  mem    REG   0,53  1960656     2425 /lib/x86_64-linux-gnu/libc-2.26.so\n",
      "python3 3077 ubuntu  mem    REG   0,53  1404912     2491 /lib/x86_64-linux-gnu/libm-2.26.so\n",
      "python3 3077 ubuntu  mem    REG   0,53   116960     2589 /lib/x86_64-linux-gnu/libz.so.1.2.11\n",
      "python3 3077 ubuntu  mem    REG   0,53   174280     2456 /lib/x86_64-linux-gnu/libexpat.so.1.6.5\n",
      "python3 3077 ubuntu  mem    REG   0,53    14760     2582 /lib/x86_64-linux-gnu/libutil-2.26.so\n",
      "python3 3077 ubuntu  mem    REG   0,53    14632     2449 /lib/x86_64-linux-gnu/libdl-2.26.so\n",
      "python3 3077 ubuntu  mem    REG   0,53   144776     2549 /lib/x86_64-linux-gnu/libpthread-2.26.so\n",
      "python3 3077 ubuntu  mem    REG   0,53   170960     2401 /lib/x86_64-linux-gnu/ld-2.26.so\n",
      "python3 3077 ubuntu  mem    REG   0,53   199772     3931 /usr/lib/locale/C.UTF-8/LC_CTYPE\n",
      "python3 3077 ubuntu  mem    REG   0,53       50     3938 /usr/lib/locale/C.UTF-8/LC_NUMERIC\n",
      "python3 3077 ubuntu  mem    REG   0,53     2498     3941 /usr/lib/locale/C.UTF-8/LC_TIME\n",
      "python3 3077 ubuntu  mem    REG   0,53      270     3936 /usr/lib/locale/C.UTF-8/LC_MONETARY\n",
      "python3 3077 ubuntu  mem    REG   0,53    26258     7805 /usr/lib/x86_64-linux-gnu/gconv/gconv-modules.cache\n",
      "python3 3077 ubuntu  mem    REG   0,53  1682192     3942 /usr/lib/locale/locale-archive\n",
      "python3 3077 ubuntu  mem    REG   0,53       48     3935 /usr/lib/locale/C.UTF-8/LC_MESSAGES/SYS_LC_MESSAGES\n",
      "python3 3077 ubuntu  mem    REG   0,53       34     3939 /usr/lib/locale/C.UTF-8/LC_PAPER\n",
      "python3 3077 ubuntu  mem    REG   0,53       62     3937 /usr/lib/locale/C.UTF-8/LC_NAME\n",
      "python3 3077 ubuntu  mem    REG   0,53      131     3929 /usr/lib/locale/C.UTF-8/LC_ADDRESS\n",
      "python3 3077 ubuntu  mem    REG   0,53       47     3940 /usr/lib/locale/C.UTF-8/LC_TELEPHONE\n",
      "python3 3077 ubuntu  mem    REG   0,53       23     3933 /usr/lib/locale/C.UTF-8/LC_MEASUREMENT\n",
      "python3 3077 ubuntu  mem    REG   0,53      243     3932 /usr/lib/locale/C.UTF-8/LC_IDENTIFICATION\n",
      "python3 3077 ubuntu    0u   CHR  136,0      0t0        3 /dev/pts/0\n",
      "python3 3077 ubuntu    1u   CHR  136,0      0t0        3 /dev/pts/0\n",
      "python3 3077 ubuntu    2u   CHR  136,0      0t0        3 /dev/pts/0\n",
      "python3 3077 ubuntu    7w  FIFO   0,12      0t0 14701389 pipe\n"
     ]
    }
   ],
   "source": [
    "%%bash\n",
    "\n",
    "lsof -p 3077"
   ]
  }
 ],
 "metadata": {
  "kernelspec": {
   "display_name": "Python 3",
   "language": "python",
   "name": "python3"
  },
  "language_info": {
   "codemirror_mode": {
    "name": "ipython",
    "version": 3
   },
   "file_extension": ".py",
   "mimetype": "text/x-python",
   "name": "python",
   "nbconvert_exporter": "python",
   "pygments_lexer": "ipython3",
   "version": "3.6.3"
  },
  "toc": {
   "nav_menu": {
    "height": "69px",
    "width": "333px"
   },
   "number_sections": true,
   "sideBar": false,
   "skip_h1_title": true,
   "title_cell": "Table of Contents",
   "title_sidebar": "Contents",
   "toc_cell": false,
   "toc_position": {},
   "toc_section_display": true,
   "toc_window_display": false
  }
 },
 "nbformat": 4,
 "nbformat_minor": 2
}
