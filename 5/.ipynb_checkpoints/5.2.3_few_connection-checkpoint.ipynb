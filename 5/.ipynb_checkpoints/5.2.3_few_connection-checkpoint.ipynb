{
 "cells": [
  {
   "cell_type": "markdown",
   "metadata": {},
   "source": [
    "# Обработка нескольких соединений\n",
    "\n",
    "* Как обработать несколько соединений одновременно?\n",
    "* Что использовать, процессы или потоки?\n",
    "* Рассмотрим примеры обработки сетевых запросов\n",
    "\n",
    "## Потоки. Сервер"
   ]
  },
  {
   "cell_type": "code",
   "execution_count": null,
   "metadata": {
    "ExecuteTime": {
     "start_time": "2018-07-11T10:04:25.494Z"
    }
   },
   "outputs": [],
   "source": [
    "import socket\n",
    "import threading\n",
    "\n",
    "def process_request(conn, addr):\n",
    "    with conn:\n",
    "        while True:\n",
    "            # Метод recv() блокирует поток после получения данных от клиента в ожидание следующих данных:\n",
    "            data = conn.recv(1024).decode('utf8')\n",
    "            if not data.strip():\n",
    "                break\n",
    "            print(data, end='')\n",
    "\n",
    "\n",
    "with socket.socket() as sock:\n",
    "    sock.bind(('', 10001))\n",
    "    sock.listen()\n",
    "    \n",
    "    while True:\n",
    "        print('Ожидание нового соединения клиента на сокете')\n",
    "        # Метод блокирующий поток, ожидающий соединений.\n",
    "        conn, addr = sock.accept()\n",
    "        print('Новое соединение клиента:', addr)\n",
    "        # Создаем поток ОС\n",
    "        th = threading.Thread(target=process_request, args=(conn, addr,))\n",
    "        th.start() # Запускается поток обработки текущего соединения, а main поток идет дальше\n",
    "\n",
    "        # В этом месте, основной поток продолжает исполнение и переходит на новую итерацию цикла while для ожидания\n",
    "        # новых соединений, а запущенный поток обрабатывает существующее соединение."
   ]
  },
  {
   "cell_type": "markdown",
   "metadata": {},
   "source": [
    "## Потоки и процессы одновременно. Сервер"
   ]
  },
  {
   "cell_type": "code",
   "execution_count": null,
   "metadata": {},
   "outputs": [],
   "source": [
    "import os\n",
    "import socket\n",
    "import threading\n",
    "import multiprocessing\n",
    "\n",
    "\n",
    "def process_request(conn, addr):\n",
    "    with conn:\n",
    "        while True:\n",
    "            data = conn.recv(1024).decode('utf8')\n",
    "            if not data.strip():\n",
    "                break\n",
    "            print(data, end='')\n",
    "\n",
    "def worker(sock):\n",
    "    while True:\n",
    "        print('Ожидание нового соединения клиента на сокете. PID:', os.getpid())\n",
    "        conn, addr = sock.accept() # Здесь происходит блокирование до появления новых данных в сокете.\n",
    "        print('Новое соединение клиента:', addr)\n",
    "        th = threading.Thread(target=process_request, args=(conn, addr,))\n",
    "        th.start()\n",
    "        # А в этом месте, основной поток переходит на новую итерацию цикла while для ожидания\n",
    "        # новых соединений, а запущенный поток обрабатывает уже существующее соединение.\n",
    "\n",
    "\n",
    "with socket.socket() as sock:\n",
    "    sock.bind(('', 10001))\n",
    "    sock.listen()\n",
    "\n",
    "    # Пытаемся преодалеть ограничение GIL на потоки с помощью процессов.\n",
    "    # Генерируется список из 3-х объектов Process которые будут принимать соединения на сокете\n",
    "    workers_list = [multiprocessing.Process(target=worker, args=(sock,)) for _ in range(3)]\n",
    "\n",
    "    for w in workers_list:\n",
    "        w.start() # Запускаем процесс\n",
    "        w.join()  # и запускаем ожидание главным процессом завершение дочерних процессов"
   ]
  }
 ],
 "metadata": {
  "kernelspec": {
   "display_name": "Python 3",
   "language": "python",
   "name": "python3"
  },
  "language_info": {
   "codemirror_mode": {
    "name": "ipython",
    "version": 3
   },
   "file_extension": ".py",
   "mimetype": "text/x-python",
   "name": "python",
   "nbconvert_exporter": "python",
   "pygments_lexer": "ipython3",
   "version": "3.6.3"
  },
  "toc": {
   "nav_menu": {},
   "number_sections": true,
   "sideBar": false,
   "skip_h1_title": true,
   "title_cell": "Table of Contents",
   "title_sidebar": "Contents",
   "toc_cell": false,
   "toc_position": {},
   "toc_section_display": true,
   "toc_window_display": false
  }
 },
 "nbformat": 4,
 "nbformat_minor": 2
}
