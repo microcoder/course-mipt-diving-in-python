{
 "cells": [
  {
   "cell_type": "markdown",
   "metadata": {},
   "source": [
    "# Создание потоков\n",
    "\n",
    "* Что такое поток\n",
    "  * Поток напоминает процесс\n",
    "  * У потока своя последовательность инструкций\n",
    "  * Каждый поток имеет собственный стек\n",
    "  * Все потоки выполняются в рамках процесса\n",
    "  * Потоки разделяют память и ресурсы процесса\n",
    "  * Управлением выполнения потоков занимается ОС\n",
    "  * Потоки в Python имеют свои ограничения\n",
    "* Создание потоков, модуль threading\n",
    "* Использование ThreadPoolExecutor\n",
    "\n",
    "Создание потока похоже на создание процесса:"
   ]
  },
  {
   "cell_type": "code",
   "execution_count": 1,
   "metadata": {},
   "outputs": [
    {
     "name": "stdout",
     "output_type": "stream",
     "text": [
      "hello Bob\n"
     ]
    }
   ],
   "source": [
    "from threading import Thread\n",
    "\n",
    "def f(name):\n",
    "    print('hello', name)\n",
    "\n",
    "th = Thread(target=f, args=('Bob',))\n",
    "th.start() # После вызова этого метода, поток будет запущен\n",
    "th.join()  # Ожидание главным потоком всех созданных дочерних потоков"
   ]
  },
  {
   "cell_type": "markdown",
   "metadata": {},
   "source": [
    "Альтернативный метод создания потоков при помощи наследования:"
   ]
  },
  {
   "cell_type": "code",
   "execution_count": 2,
   "metadata": {},
   "outputs": [
    {
     "name": "stdout",
     "output_type": "stream",
     "text": [
      "hello Mike\n"
     ]
    }
   ],
   "source": [
    "class PrintThread(Thread):\n",
    "\n",
    "    def __init__(self, name):\n",
    "        super().__init__()\n",
    "        self.name = name\n",
    "\n",
    "    def run(self):\n",
    "        print('hello', self.name)\n",
    "\n",
    "\n",
    "th = PrintThread('Mike')\n",
    "th.start()\n",
    "th.join()"
   ]
  },
  {
   "cell_type": "markdown",
   "metadata": {},
   "source": [
    "## Пул потоков - `ThreadPoolExecutor`\n",
    "\n",
    "В Python 3 появился очень удобный класс для создания пула потоков - ThreadPoolExecutor"
   ]
  },
  {
   "cell_type": "code",
   "execution_count": 3,
   "metadata": {},
   "outputs": [
    {
     "name": "stdout",
     "output_type": "stream",
     "text": [
      "[<Future at 0x7fec7d5dae80 state=finished returned int>, <Future at 0x7fec7d5daef0 state=finished returned int>, <Future at 0x7fec7c56a048 state=finished returned int>, <Future at 0x7fec7d5c6da0 state=pending>, <Future at 0x7fec7c56a2e8 state=pending>, <Future at 0x7fec7c56a390 state=pending>, <Future at 0x7fec7c56a438 state=pending>, <Future at 0x7fec7c56a4e0 state=pending>, <Future at 0x7fec7d62ada0 state=pending>, <Future at 0x7fec7d69a160 state=pending>]\n",
      "1\n",
      "4\n",
      "0\n",
      "9\n",
      "16\n",
      "25\n",
      "36\n",
      "49\n",
      "64\n",
      "81\n"
     ]
    }
   ],
   "source": [
    "from concurrent.futures import ThreadPoolExecutor, as_completed\n",
    "import time\n",
    "\n",
    "def f(a):\n",
    "    return a * a\n",
    "\n",
    "# По выходу из контекстного менеджера будет автоматически вызван метод shutdown()\n",
    "# для завершения всех созданных потоков\n",
    "with ThreadPoolExecutor(max_workers=3) as pool:\n",
    "    # Помещаем в список объект-поток, который запускается немедленно:\n",
    "    results = [pool.submit(f, i) for i in range(10)]\n",
    "    # time.sleep(1)\n",
    "    # Часть потоков уже отработало (state=finished), а другая часть в ожидании (state=pending):\n",
    "    print(results)\n",
    "\n",
    "    for future in as_completed(results):\n",
    "        print(future.result()) # Получаем из объекта результат работы переданной функции"
   ]
  },
  {
   "cell_type": "markdown",
   "metadata": {},
   "source": [
    "## Итоги\n",
    "\n",
    "* Обсудили что такое поток\n",
    "* Создание потоков при помощи модуля threading\n",
    "* Рассмотрели работу ThreadPoolExecutor"
   ]
  }
 ],
 "metadata": {
  "kernelspec": {
   "display_name": "Python 3",
   "language": "python",
   "name": "python3"
  },
  "language_info": {
   "codemirror_mode": {
    "name": "ipython",
    "version": 3
   },
   "file_extension": ".py",
   "mimetype": "text/x-python",
   "name": "python",
   "nbconvert_exporter": "python",
   "pygments_lexer": "ipython3",
   "version": "3.6.3"
  },
  "toc": {
   "nav_menu": {
    "height": "73px",
    "width": "344px"
   },
   "number_sections": true,
   "sideBar": false,
   "skip_h1_title": true,
   "title_cell": "Table of Contents",
   "title_sidebar": "Contents",
   "toc_cell": false,
   "toc_position": {},
   "toc_section_display": true,
   "toc_window_display": false
  }
 },
 "nbformat": 4,
 "nbformat_minor": 2
}
