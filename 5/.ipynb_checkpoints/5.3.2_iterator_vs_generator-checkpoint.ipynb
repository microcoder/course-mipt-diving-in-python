{
 "cells": [
  {
   "cell_type": "markdown",
   "metadata": {},
   "source": [
    "# Итераторы и генераторы, в чём разница?\n",
    "\n",
    "* Как устроены итераторы и генераторы?\n",
    "* Сходства и различия\n",
    "\n",
    "## Итераторы"
   ]
  },
  {
   "cell_type": "code",
   "execution_count": 13,
   "metadata": {},
   "outputs": [
    {
     "name": "stdout",
     "output_type": "stream",
     "text": [
      "<__main__.MyRangeIterator object at 0x7fdeb4195ba8>\n",
      "0\n",
      "1\n",
      "2\n"
     ]
    }
   ],
   "source": [
    "class MyRangeIterator():\n",
    "\n",
    "    def __init__(self, top):\n",
    "        self.top = top\n",
    "        self.current = 0\n",
    "\n",
    "    def __iter__(self):\n",
    "        return self\n",
    "\n",
    "    def __next__(self):\n",
    "        if self.current >= self.top:\n",
    "            raise StopIteration\n",
    "\n",
    "        current = self.current\n",
    "        self.current += 1\n",
    "        return current\n",
    "\n",
    "\n",
    "counter = MyRangeIterator(3)\n",
    "print(counter)\n",
    "\n",
    "for i in counter:\n",
    "    print(i)\n"
   ]
  },
  {
   "cell_type": "markdown",
   "metadata": {},
   "source": [
    "Давайте запустим и посмотрим как этот код будет выполняться в отладчике:"
   ]
  },
  {
   "cell_type": "code",
   "execution_count": null,
   "metadata": {},
   "outputs": [],
   "source": [
    "python3 -m pdb iterator.py"
   ]
  },
  {
   "cell_type": "markdown",
   "metadata": {},
   "source": [
    "## Генераторы\n",
    "\n",
    "Рассмотрим задачу, как можно выполнить ту же самую задачу при помощи генераторов:"
   ]
  },
  {
   "cell_type": "code",
   "execution_count": 15,
   "metadata": {},
   "outputs": [
    {
     "name": "stdout",
     "output_type": "stream",
     "text": [
      "<generator object MyRangeGenerator at 0x7fdeb4201af0>\n",
      "0\n",
      "1\n",
      "2\n"
     ]
    }
   ],
   "source": [
    "def MyRangeGenerator(top):\n",
    "    current = 0\n",
    "    while current < top:\n",
    "        # Как только в функции объявлено ключевое слово yield она сразу становится генератором\n",
    "        yield current\n",
    "        current += 1\n",
    "\n",
    "\n",
    "# Здесь, функция не вызывается(исполняется), а создается итерируемый объект generator\n",
    "counter = MyRangeGenerator(3)\n",
    "print(counter)\n",
    "\n",
    "# Здесь, инструкция yield вернула значение в цикл for и генератор как бы заморозил свою функцию\n",
    "# сохранив значения своего фрейм стека в объекте counter, ну или в объекте-генераторе.\n",
    "# После того как цикл for перейдет на следующую итерацию, и перед тем как функция продолжит свое выполнение,\n",
    "# стек восстановится, восстановится значения всех локальных переменных: current, top, и цикл while внутри\n",
    "# функции MyRangeGenerator продолжится с того места, где был вызов yield.\n",
    "for i in counter:\n",
    "    print(i)"
   ]
  },
  {
   "cell_type": "markdown",
   "metadata": {},
   "source": [
    "Давайте запустим и посмотрим как этот код будет выполняться в отладчике:"
   ]
  },
  {
   "cell_type": "code",
   "execution_count": null,
   "metadata": {},
   "outputs": [],
   "source": [
    "python3 -m pdb generator.py"
   ]
  },
  {
   "cell_type": "markdown",
   "metadata": {},
   "source": [
    "Ключевые отличия по сравнению с итератором:\n",
    "* Не нужно объявлять никакой класс, достаточно объявить функцию\n",
    "* Не нужно сохранять никаких значений или глобальных состояний в объектах типа генератор или итератор, мы используем обычные локальные переменные, и это очень удобно.\n",
    "\n",
    "## Итоги\n",
    "* Рассмотрели примеры работы итераторов и генераторов\n",
    "* Они решают одну и туже задачу - генерация последовательностей\n",
    "* Итератор хранит значение для следующей итерации в `self`\n",
    "* Генератор использует локальные переменные\n",
    "* В генераторе заложены большие возможности для написания concurrency кода"
   ]
  }
 ],
 "metadata": {
  "kernelspec": {
   "display_name": "Python 3",
   "language": "python",
   "name": "python3"
  },
  "language_info": {
   "codemirror_mode": {
    "name": "ipython",
    "version": 3
   },
   "file_extension": ".py",
   "mimetype": "text/x-python",
   "name": "python",
   "nbconvert_exporter": "python",
   "pygments_lexer": "ipython3",
   "version": "3.6.3"
  },
  "toc": {
   "nav_menu": {
    "height": "80px",
    "width": "311px"
   },
   "number_sections": true,
   "sideBar": false,
   "skip_h1_title": true,
   "title_cell": "Table of Contents",
   "title_sidebar": "Contents",
   "toc_cell": false,
   "toc_position": {},
   "toc_section_display": true,
   "toc_window_display": false
  }
 },
 "nbformat": 4,
 "nbformat_minor": 2
}
