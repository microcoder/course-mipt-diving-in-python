{
 "cells": [
  {
   "cell_type": "markdown",
   "metadata": {},
   "source": [
    "# GIL. Глобальная блокировка интерпретатора\n",
    "\n",
    "* Что такое Global Interpreter Lock?\n",
    "* Зачем нужен GIL?\n",
    "* GIL и системные вызовы\n",
    "\n",
    "## CPU bound program"
   ]
  },
  {
   "cell_type": "code",
   "execution_count": 1,
   "metadata": {},
   "outputs": [
    {
     "name": "stdout",
     "output_type": "stream",
     "text": [
      "series run time: 6.770232200622559\n",
      "parallel run time: 8.410377979278564\n"
     ]
    }
   ],
   "source": [
    "from threading import Thread\n",
    "import time\n",
    "\n",
    "\n",
    "def count(n):\n",
    "    while n > 0:\n",
    "        n -= 1\n",
    "\n",
    "# series run\n",
    "t0 = time.time()\n",
    "count(100000000)\n",
    "count(100000000)\n",
    "print('series run time:', time.time() - t0)\n",
    "\n",
    "# parallel run\n",
    "t0 = time.time()\n",
    "th1 = Thread(target=count, args=(100000000,))\n",
    "th2 = Thread(target=count, args=(100000000,))\n",
    "\n",
    "th1.start() # Стартуем поток №1\n",
    "th2.start() # Стартуем поток №2\n",
    "\n",
    "th1.join()  # Ожидаем главным потоком выполнение потока №1\n",
    "th2.join()  # Ожидаем главным потоком выполнение потока №2\n",
    "\n",
    "print('parallel run time:', time.time() - t0)"
   ]
  },
  {
   "cell_type": "markdown",
   "metadata": {},
   "source": [
    "Параллельное выполнение потоков не дало ожидаемого результата в сравнении с последовательным запуском функции `count()`  \n",
    "Как так? Почему так происходит?  \n",
    "Все дело в GIL. Потоки при выполнении своего кода каждый раз получают блокировку интерпретатора.  \n",
    "Если у нас задача которая потребляет только CPU, то код написанный с использованием потоков в Python будет неэффективным, он будет работать медленнее, чем код который запущен последовательно.\n",
    "\n",
    "Если мы заменим код нашей функции `count()` на операции ввода/вывода, то мы заметим большой прирост в итоговом времени выполнения, если сравнивать последовательное и параллельное выполнение.\n",
    "\n",
    "Как выполняется поток можно увидеть на схеме:\n",
    "\n",
    "```\n",
    "a      r      a            r              a           r    a\n",
    "  CPU  |------|    CPU     |--------------|    CPU    |----| CPU\n",
    "------>|  IO  |----------->|      IO      |---------->| IO |----->\n",
    "       |------|            |--------------|           |----|\n",
    "a      r      a            r              a           r    a\n",
    "\n",
    "```\n",
    "**a** - acquire GIL  \n",
    "**r** - release GIL  \n",
    "\n",
    "Допустим, у нас есть код который выполняется в потоке. Каждый раз, Python будет пытается получить глобальную блокировку интерпретатора (GIL). Если Python выполняет операцию ввода/вывода (IO) или системный вызов, то он эту блокировку (GIL) снимает и далее выполнение происходит без блокировки.\n",
    "\n",
    "## GIL, подводим итоги:\n",
    "\n",
    "* Потоки в Python это POSIX threads (но с ограничениями)\n",
    "* Потоки выполняются с получением GIL\n",
    "* Для системных вызовов GIL не захватывается"
   ]
  }
 ],
 "metadata": {
  "kernelspec": {
   "display_name": "Python 3",
   "language": "python",
   "name": "python3"
  },
  "language_info": {
   "codemirror_mode": {
    "name": "ipython",
    "version": 3
   },
   "file_extension": ".py",
   "mimetype": "text/x-python",
   "name": "python",
   "nbconvert_exporter": "python",
   "pygments_lexer": "ipython3",
   "version": "3.6.3"
  },
  "toc": {
   "nav_menu": {
    "height": "70px",
    "width": "316px"
   },
   "number_sections": true,
   "sideBar": false,
   "skip_h1_title": true,
   "title_cell": "Table of Contents",
   "title_sidebar": "Contents",
   "toc_cell": false,
   "toc_position": {},
   "toc_section_display": true,
   "toc_window_display": false
  }
 },
 "nbformat": 4,
 "nbformat_minor": 2
}
