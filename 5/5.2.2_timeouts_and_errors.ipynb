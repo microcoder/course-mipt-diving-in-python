{
 "cells": [
  {
   "cell_type": "markdown",
   "metadata": {},
   "source": [
    "# Таймауты и обработка сетевых ошибок\n",
    "\n",
    "* Connect timeout и read timeout, в чем разница?\n",
    "* Обработка ошибок\n",
    "\n",
    "## Сервер\n",
    "\n",
    "P.S. Код сервера следует запустить в другом IPython kernel, чтобы протестировать код клиента."
   ]
  },
  {
   "cell_type": "code",
   "execution_count": null,
   "metadata": {
    "ExecuteTime": {
     "end_time": "2018-07-11T10:16:53.861804Z",
     "start_time": "2018-07-11T10:16:53.755482Z"
    }
   },
   "outputs": [],
   "source": [
    "import socket\n",
    "\n",
    "\n",
    "with socket.socket() as sock:\n",
    "    sock.bind(('', 10001))\n",
    "    sock.listen() # Открываем сокет в ОС на прослушивание запросов\n",
    "\n",
    "    while True:\n",
    "        print('Ожидание нового соединения клиента на сокете')\n",
    "        # Метод блокирующий поток, ожидающий соединения:\n",
    "        conn, addr = sock.accept()\n",
    "        # Если данные не поступают на сокет в течении 5 секунд,\n",
    "        # то соединение с клиентом разрывается и сокет переходит в ожидание следующего подключения:\n",
    "        conn.settimeout(5)\n",
    "        print('Новое соединение клиента:', addr, 'с таймаутом:', conn.gettimeout())\n",
    "\n",
    "        with conn:\n",
    "            while True:\n",
    "                try:\n",
    "                    data = conn.recv(1024).decode('utf8')\n",
    "                except socket.timeout:\n",
    "                    print('Close connection by timeout')\n",
    "                    break\n",
    "\n",
    "                if not data.strip():\n",
    "                    break\n",
    "\n",
    "                print(data)\n",
    "\n",
    "        print('Соединение с клиентом закрыто')"
   ]
  },
  {
   "cell_type": "markdown",
   "metadata": {},
   "source": [
    "## Клиент"
   ]
  },
  {
   "cell_type": "code",
   "execution_count": null,
   "metadata": {
    "ExecuteTime": {
     "end_time": "2018-07-11T10:16:56.743190Z",
     "start_time": "2018-07-11T10:16:56.730628Z"
    }
   },
   "outputs": [],
   "source": [
    "import socket\n",
    "\n",
    "\n",
    "# В параметрах соединения задается socket CONNECT timeout\n",
    "with socket.create_connection(('127.0.0.1', 10001), 5) as sock:\n",
    "    # Задается socket READ timeout (все операции с сокетом)\n",
    "    sock.settimeout(2)\n",
    "    try:\n",
    "        sock.sendall('ping'.encode('utf8'))\n",
    "    except socket.timeout:\n",
    "        print('send data timeout')\n",
    "    except socket.error as e:\n",
    "        print('send data error:', e)"
   ]
  }
 ],
 "metadata": {
  "kernelspec": {
   "display_name": "Python 3",
   "language": "python",
   "name": "python3"
  },
  "language_info": {
   "codemirror_mode": {
    "name": "ipython",
    "version": 3
   },
   "file_extension": ".py",
   "mimetype": "text/x-python",
   "name": "python",
   "nbconvert_exporter": "python",
   "pygments_lexer": "ipython3",
   "version": "3.6.3"
  },
  "toc": {
   "nav_menu": {},
   "number_sections": true,
   "sideBar": false,
   "skip_h1_title": true,
   "title_cell": "Table of Contents",
   "title_sidebar": "Contents",
   "toc_cell": false,
   "toc_position": {},
   "toc_section_display": true,
   "toc_window_display": false
  }
 },
 "nbformat": 4,
 "nbformat_minor": 2
}
