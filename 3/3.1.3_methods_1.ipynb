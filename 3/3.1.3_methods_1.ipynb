{
 "cells": [
  {
   "cell_type": "markdown",
   "metadata": {},
   "source": [
    "# Методы. Часть 1\n",
    "\n",
    "Методы это функции которые действуют в контексте экземпляра класса."
   ]
  },
  {
   "cell_type": "code",
   "execution_count": 6,
   "metadata": {},
   "outputs": [
    {
     "name": "stdout",
     "output_type": "stream",
     "text": [
      "Welcome to Mars, Bob!\n",
      "Welcome to Mars, Jack!\n"
     ]
    }
   ],
   "source": [
    "class Human():\n",
    "    \n",
    "    def __init__(self, name, age=0):\n",
    "        self.name = name\n",
    "        self.age = age\n",
    "    def __repr__(self):\n",
    "        return '{}-{}'.format(self.name, self.age)\n",
    "\n",
    "\n",
    "class Planet():\n",
    "    \n",
    "    def __init__(self, name, population=None):\n",
    "        self.name = name\n",
    "        self.population = population or []\n",
    "\n",
    "    def add_human(self, human):\n",
    "        print('Welcome to {}, {}!'.format(self.name, human.name))\n",
    "        self.population.append(human)\n",
    "\n",
    "\n",
    "bob = Human('Bob')\n",
    "jack = Human('Jack', 39)\n",
    "\n",
    "mars = Planet('Mars')\n",
    "mars.add_human(bob)  # Welcome to Mars, Bob!\n",
    "mars.add_human(jack) # Welcome to Mars, Jack!"
   ]
  },
  {
   "cell_type": "code",
   "execution_count": 7,
   "metadata": {},
   "outputs": [
    {
     "data": {
      "text/plain": [
       "[Bob-0, Jack-39]"
      ]
     },
     "execution_count": 7,
     "metadata": {},
     "output_type": "execute_result"
    }
   ],
   "source": [
    "mars.population"
   ]
  },
  {
   "cell_type": "markdown",
   "metadata": {},
   "source": [
    "## Вызов методов из методов"
   ]
  },
  {
   "cell_type": "markdown",
   "metadata": {},
   "source": [
    "В Python не существует модификаторов защиты для атрибутов или методов таких как `public`, `protected`, `private` в других языках, но есть соглашение, что если атрибут/метод именуется с нижнего подчеркивания, то его вызов напрямую не желателен, так как программист в будущем может переименовать или отказаться от него:"
   ]
  },
  {
   "cell_type": "code",
   "execution_count": 8,
   "metadata": {},
   "outputs": [
    {
     "name": "stdout",
     "output_type": "stream",
     "text": [
      "Hello, I am Bob\n",
      "I am 29 years old\n"
     ]
    }
   ],
   "source": [
    "class Human():\n",
    "    \n",
    "    def __init__(self, name, age=0):\n",
    "        self._name = name\n",
    "        self._age = age\n",
    "\n",
    "    def _say(self, text):\n",
    "        print(text)\n",
    "\n",
    "    def say_name(self):\n",
    "        self._say('Hello, I am {}'.format(self._name))\n",
    "\n",
    "    def say_how_old(self):\n",
    "        self._say('I am {} years old'.format(self._age))\n",
    "\n",
    "\n",
    "bob = Human('Bob', 29)\n",
    "bob.say_name()         # Hello, I am Bob\n",
    "bob.say_how_old()      # I am 29 years old"
   ]
  },
  {
   "cell_type": "markdown",
   "metadata": {},
   "source": [
    "Такое обращение к атрибутам и методам не рекомендуемое, но возможное:"
   ]
  },
  {
   "cell_type": "code",
   "execution_count": 14,
   "metadata": {},
   "outputs": [
    {
     "data": {
      "text/plain": [
       "'Bob'"
      ]
     },
     "execution_count": 14,
     "metadata": {},
     "output_type": "execute_result"
    }
   ],
   "source": [
    "bob._name"
   ]
  },
  {
   "cell_type": "code",
   "execution_count": 15,
   "metadata": {},
   "outputs": [
    {
     "name": "stdout",
     "output_type": "stream",
     "text": [
      "Whatever we want\n"
     ]
    }
   ],
   "source": [
    "bob._say('Whatever we want')"
   ]
  },
  {
   "cell_type": "markdown",
   "metadata": {},
   "source": [
    "## Метод класса. Декоратор @classmethod\n",
    "\n",
    "Допустим, у нас есть некая реализация класса который хранит какое-то пользовательское событие:"
   ]
  },
  {
   "cell_type": "code",
   "execution_count": 1,
   "metadata": {},
   "outputs": [
    {
     "name": "stdout",
     "output_type": "stream",
     "text": [
      "Event \"Рассказать, что такое @classmethod\" at 2017-12-01\n"
     ]
    }
   ],
   "source": [
    "# Импортируем модуль работы с датой и временем\n",
    "from datetime import date\n",
    "\n",
    "class Event():\n",
    "\n",
    "    def __init__(self, description, event_date):\n",
    "        self.description = description\n",
    "        self.date = event_date\n",
    "\n",
    "    def __str__(self):\n",
    "        return 'Event \"{}\" at {}'.format(self.description, self.date)\n",
    "\n",
    "\n",
    "event_description = 'Рассказать, что такое @classmethod'\n",
    "event_date = date.today() # Получаем текущую дату из модуля datetime стандартной библиотеки Python\n",
    "\n",
    "event = Event(event_description, event_date)\n",
    "print(event)"
   ]
  },
  {
   "cell_type": "markdown",
   "metadata": {},
   "source": [
    "Сейчас мы добавим классу `Event` метод класса:"
   ]
  },
  {
   "cell_type": "code",
   "execution_count": 2,
   "metadata": {},
   "outputs": [],
   "source": [
    "def exctract_description(user_string):\n",
    "    # Допустим, что из этой функции возвращается некая распарсенная строка\n",
    "    return 'открытие чемпионата мира по футболу'\n",
    "\n",
    "def extract_date(user_string):\n",
    "    # Допустим, что из этой функции возвращается распарсенная дата полученная от пользователя\n",
    "    return date(2018, 6, 14)\n",
    "\n",
    "class Event():\n",
    "\n",
    "    def __init__(self, description, event_date):\n",
    "        self.description = description\n",
    "        self.date = event_date\n",
    "\n",
    "    def __str__(self):\n",
    "        return 'Event \"{}\" at {}'.format(self.description, self.date)\n",
    "\n",
    "    # Обертываение встроенным декоратором @classmethod.\n",
    "    # Данный декоратор делает метод объекта методом класса, который принимает в качестве\n",
    "    # первого аргумента ссылку на класс, а не на экземпляр класса (self).\n",
    "    # Добавляется возможность обращаться к атрибутам класса внутри метода или обращаться к классу\n",
    "    @classmethod\n",
    "    def from_string(cls, user_input): # Атрибутом cls передается класс, а не экземпляр класса (self)\n",
    "        description = exctract_description(user_input)\n",
    "        date = extract_date(user_input)\n",
    "        return cls(description, date) # Создание нового экземпляра класса Event. Аналогично: Event(description, date)\n",
    "\n",
    "    # Аналог метода from_string, но без декоратора @classmethod, поэтому ссылки на класс внутри метода нет\n",
    "    def from_string2(user_input):\n",
    "        description = exctract_description(user_input)\n",
    "        date = extract_date(user_input)\n",
    "        return Event(description, date) # Создание нового экземпляра класса Event"
   ]
  },
  {
   "cell_type": "markdown",
   "metadata": {},
   "source": [
    "Допустим, у нас есть некий месенджер который принимает от пользователя строку, парсит ее и заносит событие в календарь. Создание экземпляра класса через метод `from_string()`:"
   ]
  },
  {
   "cell_type": "code",
   "execution_count": 3,
   "metadata": {},
   "outputs": [
    {
     "name": "stdout",
     "output_type": "stream",
     "text": [
      "Event \"открытие чемпионата мира по футболу\" at 2018-06-14\n"
     ]
    }
   ],
   "source": [
    "event = Event.from_string('Добавить в мой календарь открытие чемпионата мира по футболу на 14 июня 2018 года')\n",
    "print(event)"
   ]
  },
  {
   "cell_type": "code",
   "execution_count": 4,
   "metadata": {},
   "outputs": [
    {
     "name": "stdout",
     "output_type": "stream",
     "text": [
      "Event \"открытие чемпионата мира по футболу\" at 2018-06-14\n"
     ]
    }
   ],
   "source": [
    "event = Event.from_string2('Добавить в мой календарь открытие чемпионата мира по футболу на 14 июня 2018 года')\n",
    "print(event)"
   ]
  },
  {
   "cell_type": "markdown",
   "metadata": {},
   "source": [
    "Внутри стандартной библиотеки, `@classmethod` активно используются. Например, вы знаете, что `dict` это класс\n",
    "и у этого словаря есть метод `fromkeys()`. Это как раз метод класса (не объекта!), который принимает какой-то\n",
    "итерабельный объект и возвращает проинициализированный словарь:"
   ]
  },
  {
   "cell_type": "code",
   "execution_count": 5,
   "metadata": {},
   "outputs": [
    {
     "name": "stdout",
     "output_type": "stream",
     "text": [
      "{'1': None, '2': None, '3': None, '4': None, '5': None}\n"
     ]
    }
   ],
   "source": [
    "d = dict.fromkeys('12345')\n",
    "print(d)"
   ]
  },
  {
   "cell_type": "markdown",
   "metadata": {},
   "source": [
    "## Итоги:\n",
    "\n",
    "* Научились объявлять и вызывать методы экземпляров класса\n",
    "* Посмотрели на метод класса (декоратор @classmethod)"
   ]
  }
 ],
 "metadata": {
  "kernelspec": {
   "display_name": "Python 3",
   "language": "python",
   "name": "python3"
  },
  "language_info": {
   "codemirror_mode": {
    "name": "ipython",
    "version": 3
   },
   "file_extension": ".py",
   "mimetype": "text/x-python",
   "name": "python",
   "nbconvert_exporter": "python",
   "pygments_lexer": "ipython3",
   "version": "3.6.3"
  }
 },
 "nbformat": 4,
 "nbformat_minor": 2
}
