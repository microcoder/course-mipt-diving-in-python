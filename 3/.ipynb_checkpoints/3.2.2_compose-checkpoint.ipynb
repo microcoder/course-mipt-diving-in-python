{
 "cells": [
  {
   "cell_type": "markdown",
   "metadata": {},
   "source": [
    "# Композиция классов\n",
    "\n",
    "В Python существует альтернативный подход наследованию, это композиция.\n",
    "\n",
    "## Композиция или наследование?\n",
    "\n",
    "Вспомним, множественное наследование:"
   ]
  },
  {
   "cell_type": "code",
   "execution_count": 1,
   "metadata": {},
   "outputs": [],
   "source": [
    "class Pet():\n",
    "    pass\n",
    "\n",
    "class Dog(Pet):\n",
    "    pass\n",
    "\n",
    "class ExportJSON():\n",
    "    pass\n",
    "\n",
    "class ExDog(Dog, ExportJSON):\n",
    "    pass"
   ]
  },
  {
   "cell_type": "markdown",
   "metadata": {},
   "source": [
    "Что, если, у нас добавится еще один класс, например с экспортом в XML?"
   ]
  },
  {
   "cell_type": "code",
   "execution_count": 2,
   "metadata": {},
   "outputs": [],
   "source": [
    "class Pet():\n",
    "    pass\n",
    "\n",
    "class Dog(Pet):\n",
    "    pass\n",
    "\n",
    "class ExportJSON(): # Класс-примесь, расширяет возможности потомка\n",
    "    def to_json(self):\n",
    "        pass\n",
    "\n",
    "class ExportXML(): # Класс-примесь, расширяет возможности потомка\n",
    "    def to_xml(self):\n",
    "        pass\n",
    "\n",
    "class ExDog(Dog, ExportJSON, ExportXML): # Множественное наследование\n",
    "    pass\n",
    "\n",
    "\n",
    "dog = ExDog()\n",
    "dog.to_xml()\n",
    "dog.to_json()"
   ]
  },
  {
   "cell_type": "markdown",
   "metadata": {},
   "source": [
    "Давайте представим, что нам нужно будет добавить еще несколько методов для экспорта.  \n",
    "Какие сложности могут возникнуть в таком случае?\n",
    "1. Нам придется постоянно изменять наследование класса `ExDog`.\n",
    "2. Сильно усложнит сам код, в итоговой программе нужно будет вызывать разные методы этих классов-примесей\n",
    "\n",
    "Попробуем рассмотреть, как в таком случае работает композиция:"
   ]
  },
  {
   "cell_type": "code",
   "execution_count": 6,
   "metadata": {},
   "outputs": [
    {
     "name": "stdout",
     "output_type": "stream",
     "text": [
      "{\"name\": \"\\u0422\\u0443\\u0437\\u0438\\u043a\", \"breed\": \"\\u041c\\u043e\\u043f\\u0441\"}\n"
     ]
    }
   ],
   "source": [
    "import json\n",
    "\n",
    "class PetExport():\n",
    "    \n",
    "    def export(self, dog):\n",
    "        raise NotImplementedError\n",
    "\n",
    "\n",
    "class PetExportJSON(PetExport):\n",
    "    \n",
    "    def export(self, dog):\n",
    "        return json.dumps({\n",
    "            'name': dog.name,\n",
    "            'breed': dog.breed,\n",
    "        })\n",
    "\n",
    "\n",
    "class PetExportXML(PetExport):\n",
    "    \n",
    "    def export(self, dog):\n",
    "        return \"\"\"<?xml version=\"1.0\" encoding=\"utf-8\" ?>\n",
    "<dog>\n",
    "    <name>{0}</name>\n",
    "    <breed>{1}</breed>\n",
    "</dog>\"\"\".format(dog.name, dog.breed)\n",
    "\n",
    "\n",
    "class Pet():\n",
    "    \n",
    "    def __init__(self, name):\n",
    "        self.name = name\n",
    "\n",
    "\n",
    "class Dog(Pet):\n",
    "    \n",
    "    def __init__(self, name, breed=None):\n",
    "        super().__init__(name)\n",
    "        self.breed = breed\n",
    "\n",
    "\n",
    "# Не используем множественное наследование. Расширяем только класс Dog\n",
    "class ExDog(Dog):\n",
    "\n",
    "    def __init__(self, name, breed=None, exporter=None):\n",
    "        super().__init__(name, breed=breed)\n",
    "        # По умолчанию будет задан экспорт в JSON:\n",
    "        self._exporter = exporter or PetExportJSON()\n",
    "        # Если передан не экземпляр класса PetExport, то генерируем ошибку:\n",
    "        if not isinstance(self._exporter, PetExport):\n",
    "            raise ValueError('bad exporter', exporter)\n",
    "\n",
    "    def export(self):\n",
    "        return self._exporter.export(self)\n",
    "\n",
    "\n",
    "dog = ExDog('Тузик', 'Мопс')\n",
    "print( dog.export() )"
   ]
  },
  {
   "cell_type": "markdown",
   "metadata": {},
   "source": [
    "Мы можем явно передать в аргументе объект экспорта:"
   ]
  },
  {
   "cell_type": "code",
   "execution_count": 8,
   "metadata": {},
   "outputs": [
    {
     "name": "stdout",
     "output_type": "stream",
     "text": [
      "<?xml version=\"1.0\" encoding=\"utf-8\" ?>\n",
      "<dog>\n",
      "    <name>Шарик</name>\n",
      "    <breed>Дворняга</breed>\n",
      "</dog>\n"
     ]
    }
   ],
   "source": [
    "dog = ExDog('Шарик', 'Дворняга', exporter=PetExportXML())\n",
    "print( dog.export() )"
   ]
  },
  {
   "cell_type": "markdown",
   "metadata": {},
   "source": [
    "Таким образом, если возникнет в дальнейшем потребность расширить функционал по экспортированию, то не придется изменять класс `ExDog`, достаточно будет создать новый класс для экспорта и указать его в аргументах `ExDog`.  \n",
    "Во всех местах код останется неизменным и легко может быть расширен."
   ]
  },
  {
   "cell_type": "markdown",
   "metadata": {},
   "source": [
    "## Улучшенная версия экспорта"
   ]
  },
  {
   "cell_type": "code",
   "execution_count": 10,
   "metadata": {},
   "outputs": [
    {
     "name": "stdout",
     "output_type": "stream",
     "text": [
      "{\"name\": \"\\u0422\\u0443\\u0437\\u0438\\u043a\", \"breed\": \"\\u041c\\u043e\\u043f\\u0441\"}\n"
     ]
    }
   ],
   "source": [
    "class Pet():\n",
    "    def __init__(self, name):\n",
    "        self.name = name\n",
    "\n",
    "\n",
    "class Dog(Pet):\n",
    "    def __init__(self, name, breed=None):\n",
    "        super().__init__(name)\n",
    "        self.breed = breed\n",
    "\n",
    "\n",
    "# Не используем множественное наследование. Расширяем только класс Dog\n",
    "class ExDog(Dog):\n",
    "    def __init__(self, name, breed=None, exporter=None):\n",
    "        super().__init__(name, breed=breed)\n",
    "\n",
    "\n",
    "    def export(self, exporter=PetExportJSON()):\n",
    "        # Если передан не экземпляр класса PetExport, то генерируем ошибку\n",
    "        if not isinstance(exporter, PetExport):\n",
    "            raise ValueError('bad exporter', exporter)\n",
    "        return exporter.export(self)\n",
    "\n",
    "\n",
    "dog = ExDog('Тузик', 'Мопс')\n",
    "print( dog.export() )"
   ]
  },
  {
   "cell_type": "code",
   "execution_count": 11,
   "metadata": {},
   "outputs": [
    {
     "name": "stdout",
     "output_type": "stream",
     "text": [
      "<?xml version=\"1.0\" encoding=\"utf-8\" ?>\n",
      "<dog>\n",
      "    <name>Шарик</name>\n",
      "    <breed>Дворняга</breed>\n",
      "</dog>\n"
     ]
    }
   ],
   "source": [
    "dog = ExDog('Шарик', 'Дворняга')\n",
    "print( dog.export(PetExportXML()) )"
   ]
  }
 ],
 "metadata": {
  "kernelspec": {
   "display_name": "Python 3",
   "language": "python",
   "name": "python3"
  },
  "language_info": {
   "codemirror_mode": {
    "name": "ipython",
    "version": 3
   },
   "file_extension": ".py",
   "mimetype": "text/x-python",
   "name": "python",
   "nbconvert_exporter": "python",
   "pygments_lexer": "ipython3",
   "version": "3.6.3"
  },
  "toc": {
   "nav_menu": {
    "height": "68px",
    "width": "300px"
   },
   "number_sections": true,
   "sideBar": false,
   "skip_h1_title": true,
   "title_cell": "Table of Contents",
   "title_sidebar": "Contents",
   "toc_cell": false,
   "toc_position": {},
   "toc_section_display": true,
   "toc_window_display": false
  }
 },
 "nbformat": 4,
 "nbformat_minor": 2
}
