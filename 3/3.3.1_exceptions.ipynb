{
 "cells": [
  {
   "cell_type": "markdown",
   "metadata": {},
   "source": [
    "# Классы исключений и их обработка\n",
    "\n",
    "Исключения в Python:\n",
    "* Генерация исключений\n",
    "* Типы исключений\n",
    "* Обработка исключений\n",
    "\n",
    "Типы исключений:\n",
    "* Исключения стандартной библиотеки Python\n",
    "* Пользовательские исключения\n",
    "\n",
    "Иерархия исключений:\n",
    "* BaseException\n",
    "  * SystemExit\n",
    "  * KeyboardInterrupt\n",
    "  * GeneratorExit\n",
    "  * Exception\n",
    "    * StopIteration\n",
    "    * AssertionError\n",
    "    * AttributeError\n",
    "    * LookupError\n",
    "      * IndexError\n",
    "      * KeyError\n",
    "    * OSError\n",
    "    * SystemError\n",
    "    * TypeError\n",
    "    * ValueError"
   ]
  },
  {
   "cell_type": "markdown",
   "metadata": {},
   "source": [
    "## Обработка исключений"
   ]
  },
  {
   "cell_type": "code",
   "execution_count": 1,
   "metadata": {},
   "outputs": [
    {
     "name": "stdout",
     "output_type": "stream",
     "text": [
      "Ошибка 1\n"
     ]
    }
   ],
   "source": [
    "try:\n",
    "    1 / 0\n",
    "except:\n",
    "    print('Ошибка 1')"
   ]
  },
  {
   "cell_type": "markdown",
   "metadata": {},
   "source": [
    "В блоке указываем тип отлавливаемого исключения:"
   ]
  },
  {
   "cell_type": "code",
   "execution_count": 2,
   "metadata": {},
   "outputs": [
    {
     "name": "stdout",
     "output_type": "stream",
     "text": [
      "Ошибка 2\n"
     ]
    }
   ],
   "source": [
    "try:\n",
    "    1 / 0\n",
    "except Exception: # Отлавливаем все типы исключений потомков класса Exception\n",
    "    print('Ошибка 2')"
   ]
  },
  {
   "cell_type": "markdown",
   "metadata": {},
   "source": [
    "## Обработка ожидаемого исключения"
   ]
  },
  {
   "cell_type": "markdown",
   "metadata": {},
   "source": [
    "В этом примере выполним 3 шага:\n",
    "1. Ввод некорректного числа, например `w20`\n",
    "2. Вызов прерывания программы нажатием `CTRL+C`\n",
    "3. Для выхода из программы введем корректно число, например - 10"
   ]
  },
  {
   "cell_type": "code",
   "execution_count": 3,
   "metadata": {},
   "outputs": [
    {
     "name": "stdout",
     "output_type": "stream",
     "text": [
      "Введите число:w20\n",
      "Некорректное число!\n",
      "Некорректное число!\n",
      "Введите число:10\n",
      "Введено корректное число: 10\n"
     ]
    }
   ],
   "source": [
    "while True:\n",
    "    try:\n",
    "        raw = input('Введите число:')\n",
    "        number = int(raw)\n",
    "        break # Если не возникает исключения на предыдущей строке, то прерываем цикл\n",
    "    except:\n",
    "        print('Некорректное число!')\n",
    "\n",
    "print('Введено корректное число:', number)"
   ]
  },
  {
   "cell_type": "markdown",
   "metadata": {},
   "source": [
    "Программа не прервется по `CTRL+C`. Почему программа стала вести себя непредвиденным образом?  \n",
    "Это говорит о том, что блок `exception` стал отлавливать все исключения, в том числе и по нажатию `CTRL+C`\n",
    "\n",
    "Перепишем код и укажем явно отлавливаемую ошибку:"
   ]
  },
  {
   "cell_type": "code",
   "execution_count": 4,
   "metadata": {},
   "outputs": [
    {
     "name": "stdout",
     "output_type": "stream",
     "text": [
      "Введите число:w20\n",
      "Некорректное число!\n",
      "Введите число:10\n",
      "Введено корректное число 10\n"
     ]
    }
   ],
   "source": [
    "while True:\n",
    "    try:\n",
    "        raw = input('Введите число:')\n",
    "        number = int(raw)\n",
    "        break\n",
    "    except ValueError: # Указываем конкретную отлавливаемую ошибку\n",
    "        print('Некорректное число!')\n",
    "\n",
    "print('Введено корректное число', number)"
   ]
  },
  {
   "cell_type": "markdown",
   "metadata": {},
   "source": [
    "## Блок `else`\n",
    "\n",
    "Блок `else` будет выполнен в том случае, если никакого исключения не произошло.  \n",
    "В этом примере, блок никогда не выполнится, так как в блоке `try` находится `break`:"
   ]
  },
  {
   "cell_type": "code",
   "execution_count": 6,
   "metadata": {},
   "outputs": [
    {
     "name": "stdout",
     "output_type": "stream",
     "text": [
      "Введите число:10\n",
      "Введено корректное число 10\n"
     ]
    }
   ],
   "source": [
    "while True:\n",
    "    try:\n",
    "        raw = input('Введите число:')\n",
    "        number = int(raw)\n",
    "        break\n",
    "    except ValueError:\n",
    "        print('Некорректное число!')\n",
    "    else:\n",
    "        print('Блок else')\n",
    "        break\n",
    "\n",
    "print('Введено корректное число', number)"
   ]
  },
  {
   "cell_type": "markdown",
   "metadata": {},
   "source": [
    "## Обработка нескольких исключений"
   ]
  },
  {
   "cell_type": "code",
   "execution_count": 7,
   "metadata": {},
   "outputs": [
    {
     "name": "stdout",
     "output_type": "stream",
     "text": [
      "Введите число:10\n",
      "Введено корректное число 10\n"
     ]
    }
   ],
   "source": [
    "while True:\n",
    "    try:\n",
    "        raw = input('Введите число:')\n",
    "        number = int(raw)\n",
    "        break\n",
    "    except ValueError:\n",
    "        print('Некорректное число!')\n",
    "    except KeyboardInterrupt:\n",
    "        print('Выход')\n",
    "        break\n",
    "\n",
    "print('Введено корректное число', number)"
   ]
  },
  {
   "cell_type": "markdown",
   "metadata": {},
   "source": [
    "Если обработчик исключений выглядит одинаково, то можно перечислить типы исключений.  \n",
    "Ожидаем некорректное число или число 0:"
   ]
  },
  {
   "cell_type": "code",
   "execution_count": 8,
   "metadata": {},
   "outputs": [
    {
     "name": "stdout",
     "output_type": "stream",
     "text": [
      "Введите число:0\n",
      "Некорректное число!\n",
      "Введите число:w20\n",
      "Некорректное число!\n",
      "Введите число:10\n",
      "Введено корректное число 10\n"
     ]
    }
   ],
   "source": [
    "total_count = 100000\n",
    "\n",
    "while True:\n",
    "    try:\n",
    "        raw = input('Введите число:')\n",
    "        number = int(raw)\n",
    "        total_count = total_count / number\n",
    "        break\n",
    "    except (ValueError, ZeroDivisionError): # Перечисляем в виде кортежа отлавливаемые исключения\n",
    "        print('Некорректное число!')\n",
    "\n",
    "print('Введено корректное число', number)"
   ]
  },
  {
   "cell_type": "markdown",
   "metadata": {},
   "source": [
    "## Обработка нескольких исключений, наследование"
   ]
  },
  {
   "cell_type": "code",
   "execution_count": 9,
   "metadata": {},
   "outputs": [
    {
     "data": {
      "text/plain": [
       "True"
      ]
     },
     "execution_count": 9,
     "metadata": {},
     "output_type": "execute_result"
    }
   ],
   "source": [
    "issubclass(KeyError, LookupError)"
   ]
  },
  {
   "cell_type": "code",
   "execution_count": 10,
   "metadata": {},
   "outputs": [
    {
     "data": {
      "text/plain": [
       "True"
      ]
     },
     "execution_count": 10,
     "metadata": {},
     "output_type": "execute_result"
    }
   ],
   "source": [
    "issubclass(IndexError, LookupError)"
   ]
  },
  {
   "cell_type": "code",
   "execution_count": 11,
   "metadata": {},
   "outputs": [
    {
     "name": "stdout",
     "output_type": "stream",
     "text": [
      "Введите цвет:red\n",
      "Введите номер по порядку:0\n",
      "Вы выбрали: fox\n"
     ]
    }
   ],
   "source": [
    "database = {\n",
    "    'red': ['fox', 'flower'],\n",
    "    'green': ['peace', 'M', 'python']\n",
    "}\n",
    "\n",
    "try:\n",
    "    color = input('Введите цвет:')\n",
    "    number = input('Введите номер по порядку:')\n",
    "    label = database[color][int(number)]\n",
    "    print('Вы выбрали:', label)\n",
    "except LookupError: # Исключения KeyError и IndexError обрабатываем базовым (родительским) классом LookupError\n",
    "    print('Объект не найден')"
   ]
  },
  {
   "cell_type": "markdown",
   "metadata": {},
   "source": [
    "## Блок `finally`"
   ]
  },
  {
   "cell_type": "code",
   "execution_count": 1,
   "metadata": {},
   "outputs": [
    {
     "name": "stdout",
     "output_type": "stream",
     "text": [
      "Вызван блок try -> else\n",
      "Вызван блок try -> finally\n"
     ]
    }
   ],
   "source": [
    "f = open('log.txt', 'w+')\n",
    "try:\n",
    "    for line in f:\n",
    "        print(line.rstrip('\\n'))\n",
    "        1 / 0 # Исключение ZeroDivisionError\n",
    "    # В программе возникает исключение ZeroDivisionError, файловый дескриптор\n",
    "    # не будет закрыт, так как это исключение не отлавливается, но к счастью есть блок finally.\n",
    "    f.close\n",
    "except OSError:\n",
    "    print('Ошибка')\n",
    "else:         # Блок else будет выполнен в том случае, если никакого исключения не произошло\n",
    "    print('Вызван блок try -> else')\n",
    "finally:      # Блок finally будет выполнен в любом случае\n",
    "    print('Вызван блок try -> finally')\n",
    "    f.close"
   ]
  },
  {
   "cell_type": "markdown",
   "metadata": {},
   "source": [
    "## Итоги\n",
    "\n",
    "Мы узнали про:\n",
    "* Генерацию исключений\n",
    "* Типы исключений\n",
    "* Обработку исключений"
   ]
  }
 ],
 "metadata": {
  "kernelspec": {
   "display_name": "Python 3",
   "language": "python",
   "name": "python3"
  },
  "language_info": {
   "codemirror_mode": {
    "name": "ipython",
    "version": 3
   },
   "file_extension": ".py",
   "mimetype": "text/x-python",
   "name": "python",
   "nbconvert_exporter": "python",
   "pygments_lexer": "ipython3",
   "version": "3.6.3"
  }
 },
 "nbformat": 4,
 "nbformat_minor": 2
}
