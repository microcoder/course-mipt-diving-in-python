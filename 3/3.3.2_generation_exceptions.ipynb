{
 "cells": [
  {
   "cell_type": "markdown",
   "metadata": {},
   "source": [
    "# Генерация исключений\n",
    "\n",
    "Исключения в Python:\n",
    "* Доступ к объекту исключения\n",
    "* Генерация исключений, инструкция raise\n",
    "* Исключения типа AssertionError\n",
    "* Вопросы производительности\n",
    "* Работа с пользовательскими исключениями\n",
    "\n",
    "## Доступ к объекту исключения"
   ]
  },
  {
   "cell_type": "code",
   "execution_count": 1,
   "metadata": {},
   "outputs": [
    {
     "name": "stdout",
     "output_type": "stream",
     "text": [
      "2 No such file or directory\n"
     ]
    }
   ],
   "source": [
    "try:\n",
    "    with open('/file/not/found') as f:\n",
    "        content = f.read()\n",
    "except OSError as e:\n",
    "    print(e.errno, e.strerror) # У каждого типа исключения могут быть свои атрибуты"
   ]
  },
  {
   "cell_type": "markdown",
   "metadata": {},
   "source": [
    "## Доступ к объекту исключения, атрибут `args`"
   ]
  },
  {
   "cell_type": "code",
   "execution_count": 4,
   "metadata": {},
   "outputs": [
    {
     "name": "stdout",
     "output_type": "stream",
     "text": [
      "Файл не существует /file/not/found\n"
     ]
    }
   ],
   "source": [
    "import os.path\n",
    "\n",
    "filename = '/file/not/found'\n",
    "try:\n",
    "    if not os.path.exists(filename):\n",
    "        raise ValueError('Файл не существует', filename)\n",
    "except ValueError as e:\n",
    "    message, filename = e.args[0], e.args[1]\n",
    "    print(message, filename)"
   ]
  },
  {
   "cell_type": "markdown",
   "metadata": {},
   "source": [
    "## Доступ к стеку вызовов"
   ]
  },
  {
   "cell_type": "code",
   "execution_count": 5,
   "metadata": {},
   "outputs": [
    {
     "name": "stderr",
     "output_type": "stream",
     "text": [
      "Traceback (most recent call last):\n",
      "  File \"<ipython-input-5-2a01c49a37e6>\", line 4, in <module>\n",
      "    with open('/file/not/found') as f:\n",
      "FileNotFoundError: [Errno 2] No such file or directory: '/file/not/found'\n"
     ]
    }
   ],
   "source": [
    "import traceback\n",
    "\n",
    "try:\n",
    "    with open('/file/not/found') as f:\n",
    "        content = f.read()\n",
    "except OSError as e:\n",
    "    traceback.print_exc() # Печать стека вызовов"
   ]
  },
  {
   "cell_type": "markdown",
   "metadata": {},
   "source": [
    "## Генерация исключения, инструкция `raise`"
   ]
  },
  {
   "cell_type": "code",
   "execution_count": 7,
   "metadata": {},
   "outputs": [
    {
     "name": "stdout",
     "output_type": "stream",
     "text": [
      "Введите некорректное число:w20\n",
      "Некорректное значение! ('Плохое число', 'w20')\n"
     ]
    }
   ],
   "source": [
    "try:\n",
    "    raw = input('Введите некорректное число:')\n",
    "    if not raw.isdigit():\n",
    "        raise ValueError('Плохое число', raw)\n",
    "except ValueError as e:\n",
    "    print('Некорректное значение!', e)"
   ]
  },
  {
   "cell_type": "markdown",
   "metadata": {},
   "source": [
    "## Проброс исключения выше по стеку"
   ]
  },
  {
   "cell_type": "code",
   "execution_count": 8,
   "metadata": {},
   "outputs": [
    {
     "name": "stdout",
     "output_type": "stream",
     "text": [
      "Введите некорректное число:w20\n",
      "Некорректное значение! ('Плохое число', 'w20')\n"
     ]
    },
    {
     "ename": "ValueError",
     "evalue": "('Плохое число', 'w20')",
     "output_type": "error",
     "traceback": [
      "\u001b[0;31m---------------------------------------------------------------------------\u001b[0m",
      "\u001b[0;31mValueError\u001b[0m                                Traceback (most recent call last)",
      "\u001b[0;32m<ipython-input-8-41091ca645d7>\u001b[0m in \u001b[0;36m<module>\u001b[0;34m()\u001b[0m\n\u001b[1;32m      2\u001b[0m     \u001b[0mraw\u001b[0m \u001b[0;34m=\u001b[0m \u001b[0minput\u001b[0m\u001b[0;34m(\u001b[0m\u001b[0;34m'Введите некорректное число:'\u001b[0m\u001b[0;34m)\u001b[0m\u001b[0;34m\u001b[0m\u001b[0m\n\u001b[1;32m      3\u001b[0m     \u001b[0;32mif\u001b[0m \u001b[0;32mnot\u001b[0m \u001b[0mraw\u001b[0m\u001b[0;34m.\u001b[0m\u001b[0misdigit\u001b[0m\u001b[0;34m(\u001b[0m\u001b[0;34m)\u001b[0m\u001b[0;34m:\u001b[0m\u001b[0;34m\u001b[0m\u001b[0m\n\u001b[0;32m----> 4\u001b[0;31m         \u001b[0;32mraise\u001b[0m \u001b[0mValueError\u001b[0m\u001b[0;34m(\u001b[0m\u001b[0;34m'Плохое число'\u001b[0m\u001b[0;34m,\u001b[0m \u001b[0mraw\u001b[0m\u001b[0;34m)\u001b[0m\u001b[0;34m\u001b[0m\u001b[0m\n\u001b[0m\u001b[1;32m      5\u001b[0m \u001b[0;32mexcept\u001b[0m \u001b[0mValueError\u001b[0m \u001b[0;32mas\u001b[0m \u001b[0me\u001b[0m\u001b[0;34m:\u001b[0m\u001b[0;34m\u001b[0m\u001b[0m\n\u001b[1;32m      6\u001b[0m     \u001b[0mprint\u001b[0m\u001b[0;34m(\u001b[0m\u001b[0;34m'Некорректное значение!'\u001b[0m\u001b[0;34m,\u001b[0m \u001b[0me\u001b[0m\u001b[0;34m)\u001b[0m\u001b[0;34m\u001b[0m\u001b[0m\n",
      "\u001b[0;31mValueError\u001b[0m: ('Плохое число', 'w20')"
     ]
    }
   ],
   "source": [
    "try:\n",
    "    raw = input('Введите некорректное число:')\n",
    "    if not raw.isdigit():\n",
    "        raise ValueError('Плохое число', raw)\n",
    "except ValueError as e:\n",
    "    print('Некорректное значение!', e)\n",
    "    # Делегирование обработки исключений выше по стеку. Вызов raise без параметров\n",
    "    raise"
   ]
  },
  {
   "cell_type": "markdown",
   "metadata": {},
   "source": [
    "## Исключение через `raise from Exception`"
   ]
  },
  {
   "cell_type": "markdown",
   "metadata": {},
   "source": [
    "Результат: сначала идет `ValueError`, а затем `TypeError`:"
   ]
  },
  {
   "cell_type": "code",
   "execution_count": 10,
   "metadata": {},
   "outputs": [
    {
     "name": "stdout",
     "output_type": "stream",
     "text": [
      "Введите некорректное число:w20\n"
     ]
    },
    {
     "ename": "TypeError",
     "evalue": "Ошибка xxx",
     "output_type": "error",
     "traceback": [
      "\u001b[0;31m---------------------------------------------------------------------------\u001b[0m",
      "\u001b[0;31mValueError\u001b[0m                                Traceback (most recent call last)",
      "\u001b[0;32m<ipython-input-10-08d780990549>\u001b[0m in \u001b[0;36m<module>\u001b[0;34m()\u001b[0m\n\u001b[1;32m      3\u001b[0m     \u001b[0;32mif\u001b[0m \u001b[0;32mnot\u001b[0m \u001b[0mraw\u001b[0m\u001b[0;34m.\u001b[0m\u001b[0misdigit\u001b[0m\u001b[0;34m(\u001b[0m\u001b[0;34m)\u001b[0m\u001b[0;34m:\u001b[0m\u001b[0;34m\u001b[0m\u001b[0m\n\u001b[0;32m----> 4\u001b[0;31m         \u001b[0;32mraise\u001b[0m \u001b[0mValueError\u001b[0m\u001b[0;34m(\u001b[0m\u001b[0;34m'Плохое число'\u001b[0m\u001b[0;34m,\u001b[0m \u001b[0mraw\u001b[0m\u001b[0;34m)\u001b[0m\u001b[0;34m\u001b[0m\u001b[0m\n\u001b[0m\u001b[1;32m      5\u001b[0m \u001b[0;32mexcept\u001b[0m \u001b[0mValueError\u001b[0m \u001b[0;32mas\u001b[0m \u001b[0merr\u001b[0m\u001b[0;34m:\u001b[0m\u001b[0;34m\u001b[0m\u001b[0m\n",
      "\u001b[0;31mValueError\u001b[0m: ('Плохое число', 'w20')",
      "\nThe above exception was the direct cause of the following exception:\n",
      "\u001b[0;31mTypeError\u001b[0m                                 Traceback (most recent call last)",
      "\u001b[0;32m<ipython-input-10-08d780990549>\u001b[0m in \u001b[0;36m<module>\u001b[0;34m()\u001b[0m\n\u001b[1;32m      4\u001b[0m         \u001b[0;32mraise\u001b[0m \u001b[0mValueError\u001b[0m\u001b[0;34m(\u001b[0m\u001b[0;34m'Плохое число'\u001b[0m\u001b[0;34m,\u001b[0m \u001b[0mraw\u001b[0m\u001b[0;34m)\u001b[0m\u001b[0;34m\u001b[0m\u001b[0m\n\u001b[1;32m      5\u001b[0m \u001b[0;32mexcept\u001b[0m \u001b[0mValueError\u001b[0m \u001b[0;32mas\u001b[0m \u001b[0merr\u001b[0m\u001b[0;34m:\u001b[0m\u001b[0;34m\u001b[0m\u001b[0m\n\u001b[0;32m----> 6\u001b[0;31m     \u001b[0;32mraise\u001b[0m \u001b[0mTypeError\u001b[0m\u001b[0;34m(\u001b[0m\u001b[0;34m'Ошибка xxx'\u001b[0m\u001b[0;34m)\u001b[0m \u001b[0;32mfrom\u001b[0m \u001b[0merr\u001b[0m\u001b[0;34m\u001b[0m\u001b[0m\n\u001b[0m",
      "\u001b[0;31mTypeError\u001b[0m: Ошибка xxx"
     ]
    }
   ],
   "source": [
    "try:\n",
    "    raw = input('Введите некорректное число:')\n",
    "    if not raw.isdigit():\n",
    "        raise ValueError('Плохое число', raw)\n",
    "except ValueError as err:\n",
    "    raise TypeError('Ошибка xxx') from err"
   ]
  },
  {
   "cell_type": "markdown",
   "metadata": {},
   "source": [
    "## Инструкция `assert`"
   ]
  },
  {
   "cell_type": "code",
   "execution_count": 11,
   "metadata": {},
   "outputs": [
    {
     "name": "stderr",
     "output_type": "stream",
     "text": [
      "Traceback (most recent call last):\n",
      "  File \"<ipython-input-11-1e1fad63c562>\", line 5, in <module>\n",
      "    assert 1 == 0, '1 не равен 0'\n",
      "AssertionError: 1 не равен 0\n"
     ]
    }
   ],
   "source": [
    "assert True   # Если что-то выполняется, то исключение не выбрасывается\n",
    "\n",
    "try:\n",
    "    # Если что-то возвращает ложь, то будет сгенерировано исключение AssertionError\n",
    "    assert 1 == 0, '1 не равен 0'\n",
    "except AssertionError as e:\n",
    "    traceback.print_exc() # Печать стека вызовов"
   ]
  },
  {
   "cell_type": "markdown",
   "metadata": {},
   "source": [
    "Инструкция `assert` с флагом `-O`:"
   ]
  },
  {
   "cell_type": "code",
   "execution_count": 12,
   "metadata": {},
   "outputs": [
    {
     "name": "stderr",
     "output_type": "stream",
     "text": [
      "Traceback (most recent call last):\n",
      "  File \"<ipython-input-12-34cdd117eaee>\", line 15, in <module>\n",
      "    get_user_by_id('foo') # Вызовет исключение AssertionError\n",
      "  File \"<ipython-input-12-34cdd117eaee>\", line 3, in get_user_by_id\n",
      "    assert isinstance(id, int), 'id должен быть целым числом'\n",
      "AssertionError: id должен быть целым числом\n"
     ]
    }
   ],
   "source": [
    "def get_user_by_id(id):\n",
    "    # Если isinstance возвращает False, то генерируется исключение AssertionError:\n",
    "    assert isinstance(id, int), 'id должен быть целым числом'\n",
    "    print('Выполняем поиск...')\n",
    "\n",
    "# Инструкция assert аналогична следующему коду:\n",
    "def get_user_by_id2(id):\n",
    "    if not isinstance(id, int):\n",
    "        raise AssertionError('id должен быть целым числом')\n",
    "    print('Выполняем поиск...')\n",
    "\n",
    "\n",
    "if __name__ == '__main__':\n",
    "    try:\n",
    "        get_user_by_id('foo') # Вызовет исключение AssertionError\n",
    "    except AssertionError:\n",
    "        traceback.print_exc() # Печать стека вызовов"
   ]
  },
  {
   "cell_type": "markdown",
   "metadata": {},
   "source": [
    "`assert` нужен на этапе разработки, в реальном приложении его не желательно использовать.  \n",
    "Он не предназначен для отлова его в блоке `try..except`.  \n",
    "Также, он может быть отключен передачей интерпретатору опции `-O` и не будет сгенерирован:\n",
    "\n",
    "  `$ python -O myapp.py`"
   ]
  },
  {
   "cell_type": "markdown",
   "metadata": {},
   "source": [
    "## Производительность исключений\n",
    "\n",
    "Исключения очень сильно влияют на производительность программы.  \n",
    "\n",
    "**Пример 1.**\n",
    "\n",
    "`try..except` обрабатываются медленно (дорого).  \n",
    "Тест из 1 млн циклов:"
   ]
  },
  {
   "cell_type": "code",
   "execution_count": 18,
   "metadata": {},
   "outputs": [
    {
     "name": "stdout",
     "output_type": "stream",
     "text": [
      "Elapsed time: 0.225 sec\n"
     ]
    }
   ],
   "source": [
    "import time\n",
    "\n",
    "class Profiler():\n",
    "    def __enter__(self):\n",
    "        self._startTime = time.time()\n",
    "    \n",
    "    def __exit__(self, type, value, traceback):\n",
    "        print (\"Elapsed time: {:.3f} sec\".format(time.time() - self._startTime))\n",
    "\n",
    "my_dict = {'foo': 1}\n",
    "\n",
    "with Profiler():\n",
    "    for _ in range(1000000):\n",
    "        try:\n",
    "            my_dict['bar']\n",
    "        except:\n",
    "            pass"
   ]
  },
  {
   "cell_type": "markdown",
   "metadata": {},
   "source": [
    "**Пример 2.**\n",
    "\n",
    "Здесь блок `try..except` заменен логическим выражением `if`, это в несколько раз быстрее.  \n",
    "Тест из 1 млн циклов:"
   ]
  },
  {
   "cell_type": "code",
   "execution_count": 19,
   "metadata": {},
   "outputs": [
    {
     "name": "stdout",
     "output_type": "stream",
     "text": [
      "Elapsed time: 0.059 sec\n"
     ]
    }
   ],
   "source": [
    "with Profiler():\n",
    "    for _ in range(1000000):\n",
    "        if 'bar' in my_dict:\n",
    "            _ = my_dict['bar']"
   ]
  },
  {
   "cell_type": "markdown",
   "metadata": {},
   "source": [
    "## Итоги:\n",
    "\n",
    "* Доступ к объекту исключения\n",
    "* Генерация исключений, инструкция assert\n",
    "* Исключения типа AssertionError\n",
    "* Вопросы производительности\n",
    "* Работа с пользовательскими исключениями (поговорим в следующем слайде)"
   ]
  }
 ],
 "metadata": {
  "kernelspec": {
   "display_name": "Python 3",
   "language": "python",
   "name": "python3"
  },
  "language_info": {
   "codemirror_mode": {
    "name": "ipython",
    "version": 3
   },
   "file_extension": ".py",
   "mimetype": "text/x-python",
   "name": "python",
   "nbconvert_exporter": "python",
   "pygments_lexer": "ipython3",
   "version": "3.6.3"
  }
 },
 "nbformat": 4,
 "nbformat_minor": 2
}
