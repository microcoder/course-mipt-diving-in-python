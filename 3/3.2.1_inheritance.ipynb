{
 "cells": [
  {
   "cell_type": "markdown",
   "metadata": {},
   "source": [
    "# Наследование в Python\n",
    "\n",
    "Наследование в Python\n",
    "* Наследование классов\n",
    "* Множественное наследование\n",
    "* Вызов super()\n",
    "* name mangling\n",
    "* Композиция vs наследование\n",
    "\n",
    "Зачем нужно наследование классов?\n",
    "* Изменение поведения класса\n",
    "* Расширение функционала класса"
   ]
  },
  {
   "cell_type": "code",
   "execution_count": 1,
   "metadata": {},
   "outputs": [
    {
     "name": "stdout",
     "output_type": "stream",
     "text": [
      "Шарик\n",
      "Доберман\n",
      "Шарик: waw!\n"
     ]
    }
   ],
   "source": [
    "# Класс домашнего питомца\n",
    "class Pet():\n",
    "    def __init__(self, name=None):\n",
    "        self.name = name\n",
    "\n",
    "\n",
    "# Класс собак\n",
    "class Dog(Pet): # В скобках указан родительский класс, его еще называют базовый или супер класс\n",
    "    \n",
    "    def __init__(self, name, breed=None):\n",
    "        super().__init__(name) # Вызов инициализации родительского класса\n",
    "        self.breed = breed\n",
    "\n",
    "    def say(self):\n",
    "        return '{}: waw!'.format(self.name)\n",
    "\n",
    "\n",
    "dog = Dog('Шарик', 'Доберман')\n",
    "\n",
    "print(dog.name)  # Шарик\n",
    "print(dog.breed) # Доберман\n",
    "print(dog.say()) # Шарик: waw!"
   ]
  },
  {
   "cell_type": "markdown",
   "metadata": {},
   "source": [
    "## Множественное наследование"
   ]
  },
  {
   "cell_type": "code",
   "execution_count": 2,
   "metadata": {},
   "outputs": [
    {
     "name": "stdout",
     "output_type": "stream",
     "text": [
      "{'name': 'Белка', 'breed': 'Дворняжка'}\n",
      "{\"name\": \"\\u0411\\u0435\\u043b\\u043a\\u0430\", \"breed\": \"\\u0414\\u0432\\u043e\\u0440\\u043d\\u044f\\u0436\\u043a\\u0430\"}\n"
     ]
    }
   ],
   "source": [
    "import json\n",
    "\n",
    "class ExportJSON():\n",
    "\n",
    "    def to_json(self):\n",
    "        return json.dumps({\n",
    "            'name': self.name,\n",
    "            'breed': self.breed\n",
    "        })\n",
    "\n",
    "class ExDog(Dog, ExportJSON): # Множественное наследование\n",
    "    pass\n",
    "\n",
    "# Создаем экземпляр класса ExDog\n",
    "dog = ExDog('Белка', breed='Дворняжка')\n",
    "\n",
    "# Просмотр всех значений атрибутов экземпляра класса\n",
    "print(dog.__dict__)\n",
    "print(dog.to_json())"
   ]
  },
  {
   "cell_type": "markdown",
   "metadata": {},
   "source": [
    "## Наследование от object (issubclass)\n",
    "\n",
    "Любой класс является наследником класса `object`:"
   ]
  },
  {
   "cell_type": "code",
   "execution_count": 3,
   "metadata": {},
   "outputs": [
    {
     "data": {
      "text/plain": [
       "True"
      ]
     },
     "execution_count": 3,
     "metadata": {},
     "output_type": "execute_result"
    }
   ],
   "source": [
    "issubclass(int, object)"
   ]
  },
  {
   "cell_type": "code",
   "execution_count": 4,
   "metadata": {},
   "outputs": [
    {
     "data": {
      "text/plain": [
       "True"
      ]
     },
     "execution_count": 4,
     "metadata": {},
     "output_type": "execute_result"
    }
   ],
   "source": [
    "issubclass(Dog, object)"
   ]
  },
  {
   "cell_type": "code",
   "execution_count": 5,
   "metadata": {},
   "outputs": [
    {
     "data": {
      "text/plain": [
       "True"
      ]
     },
     "execution_count": 5,
     "metadata": {},
     "output_type": "execute_result"
    }
   ],
   "source": [
    "issubclass(Dog, Pet)"
   ]
  },
  {
   "cell_type": "code",
   "execution_count": 6,
   "metadata": {},
   "outputs": [
    {
     "data": {
      "text/plain": [
       "False"
      ]
     },
     "execution_count": 6,
     "metadata": {},
     "output_type": "execute_result"
    }
   ],
   "source": [
    "issubclass(Dog, int)"
   ]
  },
  {
   "cell_type": "markdown",
   "metadata": {},
   "source": [
    "## Объект является экземпляром класса? (isinstance)"
   ]
  },
  {
   "cell_type": "code",
   "execution_count": 7,
   "metadata": {},
   "outputs": [
    {
     "data": {
      "text/plain": [
       "True"
      ]
     },
     "execution_count": 7,
     "metadata": {},
     "output_type": "execute_result"
    }
   ],
   "source": [
    "isinstance(dog, Dog)"
   ]
  },
  {
   "cell_type": "code",
   "execution_count": 8,
   "metadata": {},
   "outputs": [
    {
     "data": {
      "text/plain": [
       "True"
      ]
     },
     "execution_count": 8,
     "metadata": {},
     "output_type": "execute_result"
    }
   ],
   "source": [
    "isinstance(dog, Pet)"
   ]
  },
  {
   "cell_type": "code",
   "execution_count": 9,
   "metadata": {},
   "outputs": [
    {
     "data": {
      "text/plain": [
       "True"
      ]
     },
     "execution_count": 9,
     "metadata": {},
     "output_type": "execute_result"
    }
   ],
   "source": [
    "isinstance(dog, object)"
   ]
  },
  {
   "cell_type": "markdown",
   "metadata": {},
   "source": [
    "## Поиск атрибутов и методов объекта. Линеаризация класса\n",
    "\n",
    "MRO - **M**ethod **R**esolution **O**rder.  \n",
    "Показывает иерархию классов и последовательность поиска атрибутов и методов объекта.  \n",
    "Например, в начале поиск атрибутов или методов будет в классе `ExDog`, затем в `Dog`, `Pet`, `ExportJSON` и наконец в `object`:"
   ]
  },
  {
   "cell_type": "code",
   "execution_count": 10,
   "metadata": {},
   "outputs": [
    {
     "data": {
      "text/plain": [
       "(__main__.ExDog, __main__.Dog, __main__.Pet, __main__.ExportJSON, object)"
      ]
     },
     "execution_count": 10,
     "metadata": {},
     "output_type": "execute_result"
    }
   ],
   "source": [
    "ExDog.__mro__"
   ]
  },
  {
   "cell_type": "markdown",
   "metadata": {},
   "source": [
    "## Использование super()"
   ]
  },
  {
   "cell_type": "code",
   "execution_count": 11,
   "metadata": {},
   "outputs": [
    {
     "name": "stdout",
     "output_type": "stream",
     "text": [
      "Шерстяная собака породы Такса\n"
     ]
    }
   ],
   "source": [
    "class ExDog(Dog, ExportJSON):\n",
    "\n",
    "    def __init__(self, name, breed=None):\n",
    "        # Вызов метода super() без параметров. Метод __init__ ищется по MRO\n",
    "        super().__init__(name)\n",
    "\n",
    "class WoolenDog(Dog, ExportJSON):\n",
    "\n",
    "    def __init__(self, name, breed=None):\n",
    "        # Вызов метода super() с параметрами. Явное указание метода __init__ конкретного класса\n",
    "        super(Dog, self).__init__(name)\n",
    "        self.breed = 'Шерстяная собака породы {}'.format(breed)\n",
    "\n",
    "\n",
    "dog = WoolenDog('Жучка', 'Такса')\n",
    "\n",
    "print(dog.breed)"
   ]
  },
  {
   "cell_type": "markdown",
   "metadata": {},
   "source": [
    "## Разрешение конфликта имен, name mangling"
   ]
  },
  {
   "cell_type": "code",
   "execution_count": 13,
   "metadata": {},
   "outputs": [
    {
     "ename": "AttributeError",
     "evalue": "'ExDog' object has no attribute '_ExDog__breed'",
     "output_type": "error",
     "traceback": [
      "\u001b[0;31m---------------------------------------------------------------------------\u001b[0m",
      "\u001b[0;31mAttributeError\u001b[0m                            Traceback (most recent call last)",
      "\u001b[0;32m<ipython-input-13-b8445dad15b4>\u001b[0m in \u001b[0;36m<module>\u001b[0;34m()\u001b[0m\n\u001b[1;32m     21\u001b[0m \u001b[0mdog\u001b[0m \u001b[0;34m=\u001b[0m \u001b[0mExDog\u001b[0m\u001b[0;34m(\u001b[0m\u001b[0;34m'Фокс'\u001b[0m\u001b[0;34m,\u001b[0m \u001b[0;34m'Мопс'\u001b[0m\u001b[0;34m)\u001b[0m\u001b[0;34m\u001b[0m\u001b[0m\n\u001b[1;32m     22\u001b[0m \u001b[0;34m\u001b[0m\u001b[0m\n\u001b[0;32m---> 23\u001b[0;31m \u001b[0mprint\u001b[0m\u001b[0;34m(\u001b[0m \u001b[0mdog\u001b[0m\u001b[0;34m.\u001b[0m\u001b[0mget_breed\u001b[0m\u001b[0;34m(\u001b[0m\u001b[0;34m)\u001b[0m \u001b[0;34m)\u001b[0m \u001b[0;31m# AttributeError: 'ExDog' object has no attribute '_ExDog__breed'\u001b[0m\u001b[0;34m\u001b[0m\u001b[0m\n\u001b[0m",
      "\u001b[0;32m<ipython-input-13-b8445dad15b4>\u001b[0m in \u001b[0;36mget_breed\u001b[0;34m(self)\u001b[0m\n\u001b[1;32m     16\u001b[0m     \u001b[0;32mdef\u001b[0m \u001b[0mget_breed\u001b[0m\u001b[0;34m(\u001b[0m\u001b[0mself\u001b[0m\u001b[0;34m)\u001b[0m\u001b[0;34m:\u001b[0m\u001b[0;34m\u001b[0m\u001b[0m\n\u001b[1;32m     17\u001b[0m         \u001b[0;31m# self.__breed - Этот атрибут недоступен, ошибка AttributeError\u001b[0m\u001b[0;34m\u001b[0m\u001b[0;34m\u001b[0m\u001b[0m\n\u001b[0;32m---> 18\u001b[0;31m         \u001b[0;32mreturn\u001b[0m \u001b[0;34m'Порода: {} - {}'\u001b[0m\u001b[0;34m.\u001b[0m\u001b[0mformat\u001b[0m\u001b[0;34m(\u001b[0m\u001b[0mself\u001b[0m\u001b[0;34m.\u001b[0m\u001b[0mname\u001b[0m\u001b[0;34m,\u001b[0m \u001b[0mself\u001b[0m\u001b[0;34m.\u001b[0m\u001b[0m__breed\u001b[0m\u001b[0;34m)\u001b[0m\u001b[0;34m\u001b[0m\u001b[0m\n\u001b[0m\u001b[1;32m     19\u001b[0m \u001b[0;34m\u001b[0m\u001b[0m\n\u001b[1;32m     20\u001b[0m \u001b[0;34m\u001b[0m\u001b[0m\n",
      "\u001b[0;31mAttributeError\u001b[0m: 'ExDog' object has no attribute '_ExDog__breed'"
     ]
    }
   ],
   "source": [
    "class Dog(Pet):\n",
    "\n",
    "    def __init__(self, name, breed=None):\n",
    "        super().__init__(name)\n",
    "        self.__breed = breed  # 2 символа подчеркивания обозначает как приватный атрибут\n",
    "\n",
    "    def say(self):\n",
    "        return '{}: wow!'.format(self.name)\n",
    "\n",
    "    def get_breed(self):\n",
    "        return self.__breed\n",
    "\n",
    "\n",
    "class ExDog(Dog, ExportJSON):\n",
    "\n",
    "    def get_breed(self):\n",
    "        # self.__breed - Этот атрибут недоступен, ошибка AttributeError\n",
    "        return 'Порода: {} - {}'.format(self.name, self.__breed)\n",
    "\n",
    "\n",
    "dog = ExDog('Фокс', 'Мопс')\n",
    "\n",
    "print( dog.get_breed() ) # AttributeError: 'ExDog' object has no attribute '_ExDog__breed'"
   ]
  },
  {
   "cell_type": "code",
   "execution_count": 14,
   "metadata": {},
   "outputs": [
    {
     "data": {
      "text/plain": [
       "{'_Dog__breed': 'Мопс', 'name': 'Фокс'}"
      ]
     },
     "execution_count": 14,
     "metadata": {},
     "output_type": "execute_result"
    }
   ],
   "source": [
    "dog.__dict__"
   ]
  },
  {
   "cell_type": "markdown",
   "metadata": {},
   "source": [
    "Что же произошло? Метод `dog.get_breed()` попытался обратится к атрибуту `__breed (_ExDog__breed)` объекта класса `ExDog`, но такого атрибута не нашел. В словаре экземпляра класса `ExDog` мы видим атрибут `__breed (_Dog__breed)`, который пренадлежащит объекту класса `Dog`.  \n",
    "Python позволяет обращаться к приватным атрибутам класса, поэтому мы можем исправить код нашего класса, но\n",
    "лучше этим не увлекаться:"
   ]
  },
  {
   "cell_type": "code",
   "execution_count": 16,
   "metadata": {},
   "outputs": [
    {
     "name": "stdout",
     "output_type": "stream",
     "text": [
      "Порода: Фокс - Мопс\n"
     ]
    }
   ],
   "source": [
    "class ExDog(Dog, ExportJSON):\n",
    "\n",
    "    def get_breed(self):\n",
    "        # Исправление с self.__breed на self._Dog__breed\n",
    "        return 'Порода: {} - {}'.format(self.name, self._Dog__breed)\n",
    "\n",
    "\n",
    "dog = ExDog('Фокс', 'Мопс')\n",
    "\n",
    "print( dog.get_breed() )"
   ]
  },
  {
   "cell_type": "markdown",
   "metadata": {},
   "source": [
    "## Итоги\n",
    "\n",
    "* Обсудили наследование классов\n",
    "* Обсудили множественное наследование\n",
    "* Рассмотрели вызов super()\n",
    "* Узнали про `name mangling` (приватные атрибуты)"
   ]
  }
 ],
 "metadata": {
  "kernelspec": {
   "display_name": "Python 3",
   "language": "python",
   "name": "python3"
  },
  "language_info": {
   "codemirror_mode": {
    "name": "ipython",
    "version": 3
   },
   "file_extension": ".py",
   "mimetype": "text/x-python",
   "name": "python",
   "nbconvert_exporter": "python",
   "pygments_lexer": "ipython3",
   "version": "3.6.3"
  }
 },
 "nbformat": 4,
 "nbformat_minor": 2
}
