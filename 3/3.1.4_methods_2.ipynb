{
 "cells": [
  {
   "cell_type": "markdown",
   "metadata": {},
   "source": [
    "# Методы. Часть 2\n",
    "\n",
    "## Статический метод класса @staticmethod"
   ]
  },
  {
   "cell_type": "code",
   "execution_count": 1,
   "metadata": {},
   "outputs": [],
   "source": [
    "class Human():\n",
    "\n",
    "    def __init__(self, name, age=0):\n",
    "        self.name = name\n",
    "        self.age = age\n",
    "\n",
    "    # Декоратор @staticmethod является встроенным в Python, его не нужно ни откуда импортировать.\n",
    "    # Статический метод принимает только те аргументы, которые ему передают,\n",
    "    # ссылки на объект (self) не существует внутри такого метода. Этот декоратор просто вырезает ссылку на объект.\n",
    "    # Эту функцию, мы могли бы определить вне контекста класса и не использовать декоратор, но допустим,\n",
    "    # мы посчитали, что так будет удобней.\n",
    "    @staticmethod\n",
    "    def is_age_valid(age):\n",
    "        return 0 < age < 150 # age between 0 and 150\n",
    "\n",
    "    def is_age_valid2(age):\n",
    "        return 0 < age < 150 # age between 0 and 150"
   ]
  },
  {
   "cell_type": "markdown",
   "metadata": {},
   "source": [
    "К статическому методу можно обращаться относительно класса или экземпляра класса:"
   ]
  },
  {
   "cell_type": "code",
   "execution_count": 2,
   "metadata": {},
   "outputs": [
    {
     "data": {
      "text/plain": [
       "True"
      ]
     },
     "execution_count": 2,
     "metadata": {},
     "output_type": "execute_result"
    }
   ],
   "source": [
    "Human.is_age_valid(35)"
   ]
  },
  {
   "cell_type": "code",
   "execution_count": 3,
   "metadata": {},
   "outputs": [
    {
     "data": {
      "text/plain": [
       "False"
      ]
     },
     "execution_count": 3,
     "metadata": {},
     "output_type": "execute_result"
    }
   ],
   "source": [
    "human = Human('Old Bobby')\n",
    "human.is_age_valid(234)"
   ]
  },
  {
   "cell_type": "markdown",
   "metadata": {},
   "source": [
    "Однако, без декоратора `@staticmethod` к методу можно обратится только через класс, а через экземпляр класса вызовет ошибку `TypeError`, так как метод экземпляра класса обязан принимать в качестве первого аргумента ссылку на экземпляр класса (self):"
   ]
  },
  {
   "cell_type": "code",
   "execution_count": 4,
   "metadata": {},
   "outputs": [
    {
     "data": {
      "text/plain": [
       "True"
      ]
     },
     "execution_count": 4,
     "metadata": {},
     "output_type": "execute_result"
    }
   ],
   "source": [
    "Human.is_age_valid2(35)"
   ]
  },
  {
   "cell_type": "code",
   "execution_count": 5,
   "metadata": {},
   "outputs": [
    {
     "ename": "TypeError",
     "evalue": "is_age_valid2() takes 1 positional argument but 2 were given",
     "output_type": "error",
     "traceback": [
      "\u001b[0;31m---------------------------------------------------------------------------\u001b[0m",
      "\u001b[0;31mTypeError\u001b[0m                                 Traceback (most recent call last)",
      "\u001b[0;32m<ipython-input-5-37b4bb37347f>\u001b[0m in \u001b[0;36m<module>\u001b[0;34m()\u001b[0m\n\u001b[0;32m----> 1\u001b[0;31m \u001b[0mhuman\u001b[0m\u001b[0;34m.\u001b[0m\u001b[0mis_age_valid2\u001b[0m\u001b[0;34m(\u001b[0m\u001b[0;36m234\u001b[0m\u001b[0;34m)\u001b[0m\u001b[0;34m\u001b[0m\u001b[0m\n\u001b[0m",
      "\u001b[0;31mTypeError\u001b[0m: is_age_valid2() takes 1 positional argument but 2 were given"
     ]
    }
   ],
   "source": [
    "human.is_age_valid2(234)"
   ]
  },
  {
   "cell_type": "markdown",
   "metadata": {},
   "source": [
    "## Вычисляемые свойства класса (класс property)\n",
    "\n",
    "`Property` позволяют изменять поведение и выполнять какую-то вычислительную работу при обращении, изменении, удалении атрибута экземпляра класса.\n",
    "\n",
    "Рассмотрим пример, когда класс `property` не используется и к каким проблемам это приводит:"
   ]
  },
  {
   "cell_type": "code",
   "execution_count": 11,
   "metadata": {},
   "outputs": [
    {
     "name": "stdout",
     "output_type": "stream",
     "text": [
      "200\n"
     ]
    }
   ],
   "source": [
    "class Robot():\n",
    "\n",
    "    def __init__(self, power):\n",
    "        self.power = power\n",
    "\n",
    "\n",
    "wall_e = Robot(100) # Инициализируем значением атрибут экземпляра класса\n",
    "wall_e.power = 200  # Изменяем значение атрибута экземпляра класса\n",
    "\n",
    "print(wall_e.power)"
   ]
  },
  {
   "cell_type": "markdown",
   "metadata": {},
   "source": [
    "Допустим, вы заметили, что другие программисты ставят вашему роботу отрицательную мощность:"
   ]
  },
  {
   "cell_type": "code",
   "execution_count": 12,
   "metadata": {},
   "outputs": [
    {
     "name": "stdout",
     "output_type": "stream",
     "text": [
      "-20\n"
     ]
    }
   ],
   "source": [
    "wall_e.power = -20\n",
    "\n",
    "print(wall_e.power)"
   ]
  },
  {
   "cell_type": "markdown",
   "metadata": {},
   "source": [
    "Это не валидное значение для мощности робота и вам бы хотелось, чтобы когда устанавливалось новое значение\n",
    "с отрицательным значением, то оно приводилось бы к нулю. Как можно поступить в таком случае? Например, мы можем добавить метод `set_power` для валидации значения:"
   ]
  },
  {
   "cell_type": "code",
   "execution_count": 13,
   "metadata": {},
   "outputs": [
    {
     "name": "stdout",
     "output_type": "stream",
     "text": [
      "0\n"
     ]
    }
   ],
   "source": [
    "class Robot():\n",
    "\n",
    "    def __init__(self, power):\n",
    "        self.power = power\n",
    "\n",
    "    def set_power(self, power):\n",
    "        if power < 0:\n",
    "            self.power = 0\n",
    "        else:\n",
    "            self.power = power\n",
    "\n",
    "\n",
    "wall_e = Robot(100)\n",
    "wall_e.set_power(-20)\n",
    "\n",
    "print(wall_e.power)"
   ]
  },
  {
   "cell_type": "markdown",
   "metadata": {},
   "source": [
    "Однако, здесь есть небольшой нюанс. В таком случае, программисту нужно будет менять свой код, т.е., это потребует не только рефакторинга кода от вас, но и от других программистов использующих этот класс.  \n",
    "Есть ли способ проще, еффективней? Есть, это использовать `property`:"
   ]
  },
  {
   "cell_type": "code",
   "execution_count": 14,
   "metadata": {},
   "outputs": [
    {
     "name": "stdout",
     "output_type": "stream",
     "text": [
      "0\n"
     ]
    }
   ],
   "source": [
    "class Robot():\n",
    "\n",
    "    def __init__(self, power):\n",
    "        self._power = power # Это просто какой-то тип, например число\n",
    "\n",
    "    # Атрибут power теперь является объектом встроенного класса property(),\n",
    "    # который является реализацией концепта Descriptor.\n",
    "    # У этого property есть 3 метода: getter, setter и deleter.\n",
    "    # Атрибут power без нижнего подчеркивания доступен из вне, это что-то вроде\n",
    "    # прокси атрибута к \"скрытому\" атрибуту self._power:\n",
    "    power = property()\n",
    "\n",
    "    @power.getter\n",
    "    def power(self):\n",
    "        return self._power\n",
    "\n",
    "    @power.setter\n",
    "    def power(self, value):\n",
    "        if value < 0:\n",
    "            self._power = 0\n",
    "        else:\n",
    "            self._power = value\n",
    "\n",
    "    @power.deleter\n",
    "    def power(self):\n",
    "        print('make robot useless')\n",
    "        del self._power\n",
    "\n",
    "\n",
    "wall_e = Robot(100)\n",
    "wall_e.power = -20  # Сейчас, отрицательное значение не установить атрибуту power\n",
    "\n",
    "print(wall_e.power)"
   ]
  },
  {
   "cell_type": "markdown",
   "metadata": {},
   "source": [
    "Однако, приватный атрибут нам попрежнему доступен и в него мы можем установить отрицательное значение:"
   ]
  },
  {
   "cell_type": "code",
   "execution_count": 15,
   "metadata": {},
   "outputs": [
    {
     "name": "stdout",
     "output_type": "stream",
     "text": [
      "-20\n"
     ]
    }
   ],
   "source": [
    "wall_e._power = -20 # Устанавливаем значение напрямую \"приватному\" атрибуту\n",
    "\n",
    "print(wall_e.power)"
   ]
  },
  {
   "cell_type": "markdown",
   "metadata": {},
   "source": [
    "Если мы попробуем удалить атрибут `power`, то получим сообщение `make robot useless`, а затем только он будет удален командой `del`. Если мы не хотим его не удалять, то достаточно не вызывать оператор `del` в методе `@power.deleter`:"
   ]
  },
  {
   "cell_type": "code",
   "execution_count": 16,
   "metadata": {},
   "outputs": [
    {
     "name": "stdout",
     "output_type": "stream",
     "text": [
      "make robot useless\n"
     ]
    }
   ],
   "source": [
    "del wall_e.power"
   ]
  },
  {
   "cell_type": "markdown",
   "metadata": {},
   "source": [
    "## Декоратор @property\n",
    "\n",
    "Иногда, нужно как-то модифицировать чтение атрибута и выполнять какую-то полезную работу при чтении и это единственное что вам требуется, т.е., не нужно менять поведение при изменении, удалении значения атрибута. В таком случае есть более короткая запись (декоратор @property):"
   ]
  },
  {
   "cell_type": "code",
   "execution_count": 17,
   "metadata": {},
   "outputs": [
    {
     "name": "stdout",
     "output_type": "stream",
     "text": [
      "210\n"
     ]
    }
   ],
   "source": [
    "class Robot():\n",
    "\n",
    "    def __init__(self, power):\n",
    "        self._power = power\n",
    "\n",
    "    # @property - встроенный декоратор. Реализует геттер атрибута объекта, аналог @power.getter\n",
    "    @property\n",
    "    def power(self):\n",
    "        return self._power + 10\n",
    "\n",
    "\n",
    "wall_e = Robot(200)\n",
    "\n",
    "print(wall_e.power)"
   ]
  },
  {
   "cell_type": "markdown",
   "metadata": {},
   "source": [
    "## Итоги\n",
    "\n",
    "* Узнали, что такое статический метод (@staticmethod)\n",
    "* Узнали, что такое свойство класса (@property)"
   ]
  }
 ],
 "metadata": {
  "kernelspec": {
   "display_name": "Python 3",
   "language": "python",
   "name": "python3"
  },
  "language_info": {
   "codemirror_mode": {
    "name": "ipython",
    "version": 3
   },
   "file_extension": ".py",
   "mimetype": "text/x-python",
   "name": "python",
   "nbconvert_exporter": "python",
   "pygments_lexer": "ipython3",
   "version": "3.6.3"
  }
 },
 "nbformat": 4,
 "nbformat_minor": 2
}
