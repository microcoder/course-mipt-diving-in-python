{
 "cells": [
  {
   "cell_type": "markdown",
   "metadata": {},
   "source": [
    "# Исключения в requests, пример"
   ]
  },
  {
   "cell_type": "code",
   "execution_count": 1,
   "metadata": {},
   "outputs": [
    {
     "name": "stdout",
     "output_type": "stream",
     "text": [
      "Ошибка timeout, url: https://not-found.com/\n"
     ]
    }
   ],
   "source": [
    "import requests\n",
    "\n",
    "url = 'https://github.com/'\n",
    "url = 'https://github.com/not_found'\n",
    "url = 'https://not-found.com/'\n",
    "\n",
    "try:\n",
    "    response = requests.get(url, timeout=5)\n",
    "    response.raise_for_status() # Генерируем исключение\n",
    "except requests.Timeout:\n",
    "    print('Ошибка timeout, url:', url)\n",
    "except requests.HTTPError as e:\n",
    "    code = e.response.status_code\n",
    "    print('Ошибка HTTP, url: {0}, code: {1}'.format(url, code))\n",
    "except requests.RequestException:\n",
    "    print('Ошибка загрузки url:', url)\n",
    "else:\n",
    "    print(response.content[:500])"
   ]
  }
 ],
 "metadata": {
  "kernelspec": {
   "display_name": "Python 3",
   "language": "python",
   "name": "python3"
  },
  "language_info": {
   "codemirror_mode": {
    "name": "ipython",
    "version": 3
   },
   "file_extension": ".py",
   "mimetype": "text/x-python",
   "name": "python",
   "nbconvert_exporter": "python",
   "pygments_lexer": "ipython3",
   "version": "3.6.3"
  }
 },
 "nbformat": 4,
 "nbformat_minor": 2
}
