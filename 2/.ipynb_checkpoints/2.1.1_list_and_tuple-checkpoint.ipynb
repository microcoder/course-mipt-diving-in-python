{
 "cells": [
  {
   "cell_type": "markdown",
   "metadata": {},
   "source": [
    "# Списки и кортежи\n",
    "\n",
    "## Списки"
   ]
  },
  {
   "cell_type": "code",
   "execution_count": 1,
   "metadata": {},
   "outputs": [
    {
     "name": "stdout",
     "output_type": "stream",
     "text": [
      "[]\n"
     ]
    }
   ],
   "source": [
    "empty_list = []\n",
    "empty_list = list()\n",
    "print(empty_list)"
   ]
  },
  {
   "cell_type": "code",
   "execution_count": 2,
   "metadata": {},
   "outputs": [
    {
     "name": "stdout",
     "output_type": "stream",
     "text": [
      "[None, None, None, None, None, None, None, None, None, None]\n"
     ]
    }
   ],
   "source": [
    "none_list = [None] * 10\n",
    "print(none_list)"
   ]
  },
  {
   "cell_type": "code",
   "execution_count": 3,
   "metadata": {},
   "outputs": [
    {
     "name": "stdout",
     "output_type": "stream",
     "text": [
      "['list', 'tuple', 'dict', 'set']\n"
     ]
    }
   ],
   "source": [
    "collections = ['list', 'tuple', 'dict', 'set']\n",
    "print(collections)"
   ]
  },
  {
   "cell_type": "markdown",
   "metadata": {},
   "source": [
    "Вложенные списки:"
   ]
  },
  {
   "cell_type": "code",
   "execution_count": 4,
   "metadata": {},
   "outputs": [
    {
     "name": "stdout",
     "output_type": "stream",
     "text": [
      "[['Elena', 4.4], ['Andrey', 4.2]]\n"
     ]
    }
   ],
   "source": [
    "user_data = [\n",
    "    ['Elena', 4.4],\n",
    "    ['Andrey', 4.2],\n",
    "]\n",
    "print(user_data)"
   ]
  },
  {
   "cell_type": "markdown",
   "metadata": {},
   "source": [
    "### Длина списков\n",
    "\n",
    "Чтобы получить длину списка, можно использовать встроенную функцию `len()`:"
   ]
  },
  {
   "cell_type": "code",
   "execution_count": 5,
   "metadata": {},
   "outputs": [
    {
     "name": "stdout",
     "output_type": "stream",
     "text": [
      "4\n"
     ]
    }
   ],
   "source": [
    "print( len(collections) )"
   ]
  },
  {
   "cell_type": "markdown",
   "metadata": {},
   "source": [
    "### Индексы и срезы"
   ]
  },
  {
   "cell_type": "code",
   "execution_count": 6,
   "metadata": {},
   "outputs": [
    {
     "name": "stdout",
     "output_type": "stream",
     "text": [
      "['list', 'tuple', 'dict', 'set']\n",
      "list\n",
      "set\n"
     ]
    }
   ],
   "source": [
    "print(collections)      # ['list', 'tuple', 'dict', 'set']\n",
    "print(collections[0])   # list\n",
    "print(collections[-1])  # set"
   ]
  },
  {
   "cell_type": "markdown",
   "metadata": {},
   "source": [
    "Также, индексы можно использовать для того, чтобы менять какие-то элементы внутри списка:"
   ]
  },
  {
   "cell_type": "code",
   "execution_count": 7,
   "metadata": {},
   "outputs": [
    {
     "name": "stdout",
     "output_type": "stream",
     "text": [
      "['list', 'tuple', 'dict', 'frozenset']\n"
     ]
    }
   ],
   "source": [
    "collections[3] = 'frozenset'\n",
    "print(collections)"
   ]
  },
  {
   "cell_type": "markdown",
   "metadata": {},
   "source": [
    "Если мы обратимся по индексу, который не существует, то получим исключение `IndexError`:"
   ]
  },
  {
   "cell_type": "code",
   "execution_count": 8,
   "metadata": {},
   "outputs": [
    {
     "name": "stdout",
     "output_type": "stream",
     "text": [
      "Произошло исключение IndexError: list index out of range\n"
     ]
    }
   ],
   "source": [
    "try:\n",
    "    print(collections[10]) # Доступ к несуществующему индексу возбудит исключение IndexError\n",
    "except IndexError as e:\n",
    "    print('Произошло исключение IndexError:', e)"
   ]
  },
  {
   "cell_type": "markdown",
   "metadata": {},
   "source": [
    "Можно проверить, существует ли конкретный объект в списке:"
   ]
  },
  {
   "cell_type": "code",
   "execution_count": 9,
   "metadata": {},
   "outputs": [
    {
     "name": "stdout",
     "output_type": "stream",
     "text": [
      "True\n"
     ]
    }
   ],
   "source": [
    "print( 'tuple' in collections ) # True"
   ]
  },
  {
   "cell_type": "markdown",
   "metadata": {},
   "source": [
    "Списки поддерживают следующие конструкции срезов:"
   ]
  },
  {
   "cell_type": "code",
   "execution_count": 10,
   "metadata": {},
   "outputs": [
    {
     "name": "stdout",
     "output_type": "stream",
     "text": [
      "[0, 1, 2, 3, 4, 5, 6, 7, 8, 9]\n",
      "[1, 2]\n",
      "[3, 4, 5, 6, 7, 8, 9]\n",
      "[0, 1, 2, 3, 4]\n",
      "[0, 2, 4, 6, 8]\n",
      "[1, 3, 5, 7, 9]\n",
      "[9, 8, 7, 6, 5, 4, 3, 2, 1, 0]\n",
      "[5, 4, 3, 2]\n"
     ]
    }
   ],
   "source": [
    "range_list = list(range(10))\n",
    "print( range_list )             # [0, 1, 2, 3, 4, 5, 6, 7, 8, 9]\n",
    "print( range_list[1:3] )        # [1, 2]\n",
    "print( range_list[3:] )         # [3, 4, 5, 6, 7, 8, 9]\n",
    "print( range_list[:5] )         # [0, 1, 2, 3, 4]\n",
    "print( range_list[::2] )        # [0, 2, 4, 6, 8] (Только четные элементы списка)\n",
    "print( range_list[1::2] )       # [1, 3, 5, 7, 9] (Только НЕ четные элементы списка)\n",
    "print( range_list[::-1] )       # [9, 8, 7, 6, 5, 4, 3, 2, 1, 0] (Развернутый список)\n",
    "print( range_list[5:1:-1] )     # [5, 4, 3, 2]"
   ]
  },
  {
   "cell_type": "markdown",
   "metadata": {},
   "source": [
    "При получении среза создается новый объект, а не изменяется старый:"
   ]
  },
  {
   "cell_type": "code",
   "execution_count": 11,
   "metadata": {},
   "outputs": [
    {
     "name": "stdout",
     "output_type": "stream",
     "text": [
      "False\n",
      "139933326101960 139933326101512\n"
     ]
    }
   ],
   "source": [
    "print( range_list[:] is range_list )       # False\n",
    "print( id(range_list), id(range_list[:]) ) # Разные ID объекта"
   ]
  },
  {
   "cell_type": "markdown",
   "metadata": {},
   "source": [
    "### Итерация по списку"
   ]
  },
  {
   "cell_type": "code",
   "execution_count": 12,
   "metadata": {},
   "outputs": [],
   "source": [
    "collections = ['list', 'tuple', 'dict', 'set']"
   ]
  },
  {
   "cell_type": "markdown",
   "metadata": {},
   "source": [
    "Цикл по элементам списка:"
   ]
  },
  {
   "cell_type": "code",
   "execution_count": 13,
   "metadata": {},
   "outputs": [
    {
     "name": "stdout",
     "output_type": "stream",
     "text": [
      "Learning list...\n",
      "Learning tuple...\n",
      "Learning dict...\n",
      "Learning set...\n"
     ]
    }
   ],
   "source": [
    "for collection in collections:\n",
    "    print('Learning {}...'.format(collection))"
   ]
  },
  {
   "cell_type": "markdown",
   "metadata": {},
   "source": [
    "Элементы списка можно пронумеровать:"
   ]
  },
  {
   "cell_type": "code",
   "execution_count": 14,
   "metadata": {},
   "outputs": [
    {
     "name": "stdout",
     "output_type": "stream",
     "text": [
      "0 list\n",
      "1 tuple\n",
      "2 dict\n",
      "3 set\n"
     ]
    }
   ],
   "source": [
    "for i, collection in enumerate(collections):\n",
    "    print('{} {}'.format(i, collection))"
   ]
  },
  {
   "cell_type": "markdown",
   "metadata": {},
   "source": [
    "### Добавление и удаление элементов списка"
   ]
  },
  {
   "cell_type": "markdown",
   "metadata": {},
   "source": [
    "Добавление одного элемента, это может быть вложенный список. Объект остается тот же самый, так как списки являются изменяемыми структурами данных:"
   ]
  },
  {
   "cell_type": "code",
   "execution_count": 15,
   "metadata": {},
   "outputs": [
    {
     "name": "stdout",
     "output_type": "stream",
     "text": [
      "['list', 'tuple', 'dict', 'set', 'OrderedDict']\n"
     ]
    }
   ],
   "source": [
    "collections.append('OrderedDict')\n",
    "print(collections)"
   ]
  },
  {
   "cell_type": "markdown",
   "metadata": {},
   "source": [
    "Расширение списка каким-то другим списком. Объект остается тот же самый, так как списки являются изменяемыми структурами данных:"
   ]
  },
  {
   "cell_type": "code",
   "execution_count": 16,
   "metadata": {},
   "outputs": [
    {
     "name": "stdout",
     "output_type": "stream",
     "text": [
      "['list', 'tuple', 'dict', 'set', 'OrderedDict', 'ponyset', 'unicorndict']\n"
     ]
    }
   ],
   "source": [
    "collections.extend(['ponyset', 'unicorndict'])\n",
    "print(collections)"
   ]
  },
  {
   "cell_type": "markdown",
   "metadata": {},
   "source": [
    "Можно использовать оператор `+`. Работает также как методы `append` или `extend`:"
   ]
  },
  {
   "cell_type": "code",
   "execution_count": 17,
   "metadata": {},
   "outputs": [
    {
     "name": "stdout",
     "output_type": "stream",
     "text": [
      "['list', 'tuple', 'dict', 'set', 'OrderedDict', 'ponyset', 'unicorndict', None]\n"
     ]
    }
   ],
   "source": [
    "collections += [None]\n",
    "print(collections)"
   ]
  },
  {
   "cell_type": "markdown",
   "metadata": {},
   "source": [
    "Удалить элемент можно функцией `del`:"
   ]
  },
  {
   "cell_type": "code",
   "execution_count": 18,
   "metadata": {},
   "outputs": [
    {
     "name": "stdout",
     "output_type": "stream",
     "text": [
      "['list', 'tuple', 'dict', 'set', 'ponyset', 'unicorndict', None]\n"
     ]
    }
   ],
   "source": [
    "del collections[4]\n",
    "print(collections)"
   ]
  },
  {
   "cell_type": "markdown",
   "metadata": {},
   "source": [
    "### min, max, sum, str.join"
   ]
  },
  {
   "cell_type": "code",
   "execution_count": 20,
   "metadata": {},
   "outputs": [
    {
     "name": "stdout",
     "output_type": "stream",
     "text": [
      "2 19 80\n"
     ]
    }
   ],
   "source": [
    "numbers = [4, 17, 19, 9, 2, 6, 10, 13]\n",
    "\n",
    "print(min(numbers), max(numbers), sum(numbers))"
   ]
  },
  {
   "cell_type": "code",
   "execution_count": 21,
   "metadata": {},
   "outputs": [
    {
     "name": "stdout",
     "output_type": "stream",
     "text": [
      "python, course, coursera\n"
     ]
    }
   ],
   "source": [
    "tag_list = ['python', 'course', 'coursera']\n",
    "\n",
    "print( ', '.join(tag_list) )"
   ]
  },
  {
   "cell_type": "markdown",
   "metadata": {},
   "source": [
    "### Сортировка"
   ]
  },
  {
   "cell_type": "code",
   "execution_count": 30,
   "metadata": {},
   "outputs": [
    {
     "name": "stdout",
     "output_type": "stream",
     "text": [
      "[3, 10, 4, 12, 18, 8, 13, 6, 17, 10]\n",
      "[3, 4, 6, 8, 10, 10, 12, 13, 17, 18]\n",
      "[3, 10, 4, 12, 18, 8, 13, 6, 17, 10]\n"
     ]
    }
   ],
   "source": [
    "import random\n",
    "\n",
    "numbers = []\n",
    "\n",
    "for _ in range(10):\n",
    "    numbers.append(random.randint(1, 20))\n",
    "\n",
    "print(numbers)\n",
    "print(sorted(numbers)) # Возвращается новый сортированный список\n",
    "print(numbers)         # Исходный список не изменился"
   ]
  },
  {
   "cell_type": "markdown",
   "metadata": {},
   "source": [
    "Если нужно изменить исходный список, тогда используется метод списка `sort()`:"
   ]
  },
  {
   "cell_type": "code",
   "execution_count": 31,
   "metadata": {},
   "outputs": [
    {
     "name": "stdout",
     "output_type": "stream",
     "text": [
      "[3, 4, 6, 8, 10, 10, 12, 13, 17, 18]\n"
     ]
    }
   ],
   "source": [
    "numbers.sort()\n",
    "print(numbers) # Исходный список изменился"
   ]
  },
  {
   "cell_type": "markdown",
   "metadata": {},
   "source": [
    "Возвращается новый сортированный список в обратном порядке:"
   ]
  },
  {
   "cell_type": "code",
   "execution_count": 32,
   "metadata": {},
   "outputs": [
    {
     "name": "stdout",
     "output_type": "stream",
     "text": [
      "[18, 17, 13, 12, 10, 10, 8, 6, 4, 3]\n"
     ]
    }
   ],
   "source": [
    "print(sorted(numbers, reverse=True))"
   ]
  },
  {
   "cell_type": "markdown",
   "metadata": {},
   "source": [
    "или"
   ]
  },
  {
   "cell_type": "code",
   "execution_count": 33,
   "metadata": {},
   "outputs": [
    {
     "name": "stdout",
     "output_type": "stream",
     "text": [
      "[18, 17, 13, 12, 10, 10, 8, 6, 4, 3]\n"
     ]
    }
   ],
   "source": [
    "numbers.sort(reverse=True)\n",
    "print(numbers)"
   ]
  },
  {
   "cell_type": "markdown",
   "metadata": {},
   "source": [
    "Так же, существует встроенная функция `reversed`, которая возвращает итератор списка:"
   ]
  },
  {
   "cell_type": "code",
   "execution_count": 34,
   "metadata": {},
   "outputs": [
    {
     "name": "stdout",
     "output_type": "stream",
     "text": [
      "<list_reverseiterator object at 0x7f44c430dc18>\n"
     ]
    }
   ],
   "source": [
    "print(reversed(numbers))"
   ]
  },
  {
   "cell_type": "markdown",
   "metadata": {},
   "source": [
    "Этот объект можно итерировать или преобразовать в список встроенной функцией `list()`:"
   ]
  },
  {
   "cell_type": "code",
   "execution_count": 35,
   "metadata": {},
   "outputs": [
    {
     "name": "stdout",
     "output_type": "stream",
     "text": [
      "[3, 4, 6, 8, 10, 10, 12, 13, 17, 18]\n"
     ]
    }
   ],
   "source": [
    "print(list(reversed(numbers)))  # Перевернул перевернутый ранее список"
   ]
  },
  {
   "cell_type": "markdown",
   "metadata": {},
   "source": [
    "Кроме тех методов, что мы обсудили, есть и другие:\n",
    "* append\n",
    "* clear\n",
    "* copy\n",
    "* count\n",
    "* extend\n",
    "* index\n",
    "* insert\n",
    "* pop\n",
    "* remove\n",
    "* reverse\n",
    "* sort"
   ]
  },
  {
   "cell_type": "markdown",
   "metadata": {},
   "source": [
    "## Кортежи"
   ]
  },
  {
   "cell_type": "markdown",
   "metadata": {},
   "source": [
    "Кортежи - это неизменяемые списки.\n",
    "\n",
    "Невозможно удалять, добавлять и изменять элементы в списке, но сами элементы могут изменяться!"
   ]
  },
  {
   "cell_type": "code",
   "execution_count": 36,
   "metadata": {},
   "outputs": [
    {
     "name": "stdout",
     "output_type": "stream",
     "text": [
      "()\n"
     ]
    }
   ],
   "source": [
    "empty_tuple = ()\n",
    "empty_tuple = tuple()\n",
    "print(empty_tuple)"
   ]
  },
  {
   "cell_type": "code",
   "execution_count": 37,
   "metadata": {},
   "outputs": [
    {
     "name": "stdout",
     "output_type": "stream",
     "text": [
      "(<class 'int'>, <class 'str'>, <class 'tuple'>)\n"
     ]
    }
   ],
   "source": [
    "immutables = (int, str, tuple)\n",
    "print(immutables)"
   ]
  },
  {
   "cell_type": "markdown",
   "metadata": {},
   "source": [
    "Если мы попробуем изменить элемент, то получим исключение `TypeError`:"
   ]
  },
  {
   "cell_type": "code",
   "execution_count": 39,
   "metadata": {},
   "outputs": [
    {
     "name": "stdout",
     "output_type": "stream",
     "text": [
      "Произошло исключение TypeError: 'tuple' object does not support item assignment\n"
     ]
    }
   ],
   "source": [
    "try:\n",
    "    immutables[0] = float\n",
    "except TypeError as e:\n",
    "    print('Произошло исключение TypeError:', e)"
   ]
  },
  {
   "cell_type": "markdown",
   "metadata": {},
   "source": [
    "Не смотря на то, что кортежи неизменяемый тип, внутренние объекты могут быть изменяемы:"
   ]
  },
  {
   "cell_type": "code",
   "execution_count": 41,
   "metadata": {},
   "outputs": [
    {
     "name": "stdout",
     "output_type": "stream",
     "text": [
      "([], [])\n"
     ]
    }
   ],
   "source": [
    "blink = ([], [])\n",
    "print(blink)"
   ]
  },
  {
   "cell_type": "code",
   "execution_count": 42,
   "metadata": {},
   "outputs": [
    {
     "name": "stdout",
     "output_type": "stream",
     "text": [
      "([0], [])\n"
     ]
    }
   ],
   "source": [
    "blink[0].append(0) # Добавляется элемент 0 в список который содержится в нулевом индексе кортежа\n",
    "print(blink)"
   ]
  },
  {
   "cell_type": "markdown",
   "metadata": {},
   "source": [
    "Важная особенность. У кортежей есть функция `hash()` и они могут использоваться в качестве ключей в словарях (dict):"
   ]
  },
  {
   "cell_type": "code",
   "execution_count": 44,
   "metadata": {},
   "outputs": [
    {
     "name": "stdout",
     "output_type": "stream",
     "text": [
      "3527539\n",
      "5480889231067207366\n",
      "5480889231067207366\n",
      "5783049400980371050\n"
     ]
    }
   ],
   "source": [
    "print( hash(tuple()) )\n",
    "print( hash(('1', 2, 'five')) )\n",
    "print( hash(('1', 2, 'five')) )\n",
    "print( hash(('1', 2, 'five', 6)) )"
   ]
  },
  {
   "cell_type": "markdown",
   "metadata": {},
   "source": [
    "При определении кортежа из одного элемента не забывайте писать запятую, иначе Python сочтет переменную типом `int`:"
   ]
  },
  {
   "cell_type": "code",
   "execution_count": 45,
   "metadata": {},
   "outputs": [
    {
     "name": "stdout",
     "output_type": "stream",
     "text": [
      "<class 'int'>\n"
     ]
    }
   ],
   "source": [
    "one_element_tuple = (1,)\n",
    "guess_what = (1)\n",
    "\n",
    "print( type(guess_what) )"
   ]
  },
  {
   "cell_type": "markdown",
   "metadata": {},
   "source": [
    "## Итоги\n",
    "\n",
    "+ Списки\n",
    "  - Упорядочненный изменяемый набор объектов\n",
    "  - Поддерживают индексы и срезы\n",
    "  - Поддерживают итерацию\n",
    "  - Встроенные функции и методы\n",
    "+ Кортежи\n",
    "  - Упорядочненный НЕизменяемый набор объектов\n",
    "  - Похожи на списки с поправкой на неизменяемость\n",
    "  - Хешируемы"
   ]
  },
  {
   "cell_type": "markdown",
   "metadata": {},
   "source": [
    "## Списки. Пример программы \"Медиана\"\n",
    "\n",
    "Задача: Найти медиану случайного списка"
   ]
  },
  {
   "cell_type": "code",
   "execution_count": 47,
   "metadata": {},
   "outputs": [
    {
     "name": "stdout",
     "output_type": "stream",
     "text": [
      "[17, 18, 13, 14, 11, 19, 10, 18, 20, 11, 20, 14, 15, 11]\n",
      "[10, 11, 11, 11, 13, 14, 14, 15, 17, 18, 18, 19, 20, 20]\n",
      "Median = 14.5\n",
      "Median = 14.5\n"
     ]
    }
   ],
   "source": [
    "import random\n",
    "\n",
    "numbers = []\n",
    "numbers_size = random.randint(10, 15) # Определяем количество номеров\n",
    "\n",
    "# Переменная for нам не интересна, поэтому ей даем имя из одного подчеркивания\n",
    "for _ in range(numbers_size):\n",
    "    numbers.append(random.randint(10, 20))\n",
    "\n",
    "print(numbers)\n",
    "\n",
    "# Аналогичная генерация списка с помощью генератора списков (этот вариант предпочтительнее):\n",
    "# numbers = [ random.randint(10, 20) for i in range(random.randint(10, 15)) ]\n",
    "\n",
    "# Отсортируем список\n",
    "numbers.sort() # Объект numbers остается прежним, так как вызван метод у списка, а списки, объект изменяемый\n",
    "print(numbers)\n",
    "\n",
    "half_size = len(numbers) // 2\n",
    "median = None\n",
    "\n",
    "if numbers_size % 2 == 1: # Если numbers_size нечетный, при делении даёт остаток 1\n",
    "    median = numbers[half_size]\n",
    "else:\n",
    "    # Воспользуемся срезом, чтобы вычислить среднее из двух чисел\n",
    "    median = sum(numbers[half_size-1:half_size+1]) / 2\n",
    "\n",
    "print('Median =', median)\n",
    "\n",
    "\n",
    "# Аналогичное вычисление медианы можно было бы выполнить с помощью модуля statistics\n",
    "import statistics\n",
    "\n",
    "print('Median =', statistics.median(numbers))"
   ]
  }
 ],
 "metadata": {
  "kernelspec": {
   "display_name": "Python 3",
   "language": "python",
   "name": "python3"
  },
  "language_info": {
   "codemirror_mode": {
    "name": "ipython",
    "version": 3
   },
   "file_extension": ".py",
   "mimetype": "text/x-python",
   "name": "python",
   "nbconvert_exporter": "python",
   "pygments_lexer": "ipython3",
   "version": "3.6.3"
  },
  "toc": {
   "nav_menu": {
    "height": "223px",
    "width": "437px"
   },
   "number_sections": true,
   "sideBar": false,
   "skip_h1_title": true,
   "title_cell": "Table of Contents",
   "title_sidebar": "Contents",
   "toc_cell": false,
   "toc_position": {},
   "toc_section_display": true,
   "toc_window_display": false
  }
 },
 "nbformat": 4,
 "nbformat_minor": 2
}
