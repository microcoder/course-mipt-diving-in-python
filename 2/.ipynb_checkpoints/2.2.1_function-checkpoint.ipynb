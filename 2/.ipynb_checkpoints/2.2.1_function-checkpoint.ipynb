{
 "cells": [
  {
   "cell_type": "markdown",
   "metadata": {},
   "source": [
    "# Функции"
   ]
  },
  {
   "cell_type": "code",
   "execution_count": 1,
   "metadata": {},
   "outputs": [
    {
     "name": "stdout",
     "output_type": "stream",
     "text": [
      "48\n",
      "Return current seconds\n",
      "get_seconds\n"
     ]
    }
   ],
   "source": [
    "from datetime import datetime\n",
    "\n",
    "def get_seconds():\n",
    "    \"\"\"Return current seconds\"\"\"\n",
    "    return datetime.now().second\n",
    "\n",
    "print( get_seconds() )        # Вызов функции\n",
    "print( get_seconds.__doc__ )  # Получение документационной строки из магического атрибута\n",
    "print( get_seconds.__name__ ) # Получение имени функции из магического атрибута"
   ]
  },
  {
   "cell_type": "markdown",
   "metadata": {},
   "source": [
    "Чаще всего функция определяется с параметрами. Если эту функцию вызвать без параметров, то выпадет ошибка `TypeError`:"
   ]
  },
  {
   "cell_type": "code",
   "execution_count": 3,
   "metadata": {},
   "outputs": [
    {
     "name": "stdout",
     "output_type": "stream",
     "text": [
      "['python', 'coursera', 'mooc']\n"
     ]
    }
   ],
   "source": [
    "def split_tags(tag_string):\n",
    "    tag_list = []\n",
    "    for tag in tag_string.split(','):\n",
    "        tag_list.append(tag.strip()) # Обрезаем пробелы и заносим элементы в новый список tag_list\n",
    "\n",
    "    return tag_list\n",
    "\n",
    "print( split_tags('python, coursera, mooc') ) # Передаем строку"
   ]
  },
  {
   "cell_type": "markdown",
   "metadata": {},
   "source": [
    "## Аннотация типов\n",
    "\n",
    "В функции можно указать тип аргументов, а также тип возвращаемого значения:"
   ]
  },
  {
   "cell_type": "code",
   "execution_count": 5,
   "metadata": {},
   "outputs": [],
   "source": [
    "def add(x: int, y: int) -> int:\n",
    "    return x + y"
   ]
  },
  {
   "cell_type": "markdown",
   "metadata": {},
   "source": [
    "Ошибки нет, код исполняется, потому что Python это динамический язык и аннотация типов призвана помочь программисту или его IDE отловить какие-то ошибки:"
   ]
  },
  {
   "cell_type": "code",
   "execution_count": 8,
   "metadata": {},
   "outputs": [
    {
     "name": "stdout",
     "output_type": "stream",
     "text": [
      "21\n",
      "still works\n"
     ]
    }
   ],
   "source": [
    "print( add(10, 11) )\n",
    "print( add('still ', 'works') )"
   ]
  },
  {
   "cell_type": "markdown",
   "metadata": {},
   "source": [
    "## По ссылке или по значению?"
   ]
  },
  {
   "cell_type": "code",
   "execution_count": 9,
   "metadata": {},
   "outputs": [
    {
     "name": "stdout",
     "output_type": "stream",
     "text": [
      "[1, 2, 3, 4, 5, 6]\n"
     ]
    }
   ],
   "source": [
    "def extender(source_list, extend_list):\n",
    "    return source_list.extend(extend_list)\n",
    "\n",
    "source_list = [1, 2, 3]\n",
    "extender(source_list, [4, 5, 6])\n",
    "\n",
    "print(source_list)"
   ]
  },
  {
   "cell_type": "markdown",
   "metadata": {},
   "source": [
    "Неизменяемый объект:"
   ]
  },
  {
   "cell_type": "code",
   "execution_count": 11,
   "metadata": {},
   "outputs": [
    {
     "name": "stdout",
     "output_type": "stream",
     "text": [
      "('Guido', '31/01')\n"
     ]
    }
   ],
   "source": [
    "def replacer(source_tuple, replace_with):\n",
    "    source_tuple = replace_with # Менять значения передаваемых в функцию переменных - дурной тон\n",
    "\n",
    "user_info = ('Guido', '31/01')\n",
    "replacer(user_info, ('Larry', '27/09'))\n",
    "\n",
    "# Объект не изменился, так как tuple() неизменяемый тип\n",
    "print(user_info)"
   ]
  },
  {
   "cell_type": "markdown",
   "metadata": {},
   "source": [
    "## Именованные аргументы"
   ]
  },
  {
   "cell_type": "code",
   "execution_count": 12,
   "metadata": {},
   "outputs": [
    {
     "name": "stdout",
     "output_type": "stream",
     "text": [
      "Hello Kitty!\n",
      "Hello Kitty!\n"
     ]
    }
   ],
   "source": [
    "def say(greeting, name):\n",
    "    print('{} {}!'.format(greeting, name))\n",
    "\n",
    "# Можно передать аргументы в функцию в другом порядке, указав имя и значение аргумента\n",
    "say('Hello', 'Kitty')               # Hello Kitty!\n",
    "say(name='Kitty', greeting='Hello') # Hello Kitty!"
   ]
  },
  {
   "cell_type": "markdown",
   "metadata": {},
   "source": [
    "## Область видимости"
   ]
  },
  {
   "cell_type": "code",
   "execution_count": 16,
   "metadata": {},
   "outputs": [],
   "source": [
    "result = 0\n",
    "\n",
    "def increment():\n",
    "    # Переменные объявленные вне функции нельзя изменять внутри функции\n",
    "    # Существуют модификаторы global или non local, но эти особенности не рекомендуется использовать\n",
    "    result += 1\n",
    "\n",
    "# Если вызвать функцию increment(), то она выпадет в ошибку:\n",
    "# UnboundLocalError: local variable 'result' referenced before assignment\n",
    "#\n",
    "# increment()"
   ]
  },
  {
   "cell_type": "markdown",
   "metadata": {},
   "source": [
    "## Аргументы по умолчанию"
   ]
  },
  {
   "cell_type": "code",
   "execution_count": 17,
   "metadata": {},
   "outputs": [
    {
     "name": "stdout",
     "output_type": "stream",
     "text": [
      "Hello, Vasya\n",
      "Hello, Petya\n"
     ]
    }
   ],
   "source": [
    "def greeting(name='Vasya'):\n",
    "    print('Hello, {}'.format(name))\n",
    "\n",
    "greeting()        # Hello, Vasya\n",
    "greeting('Petya') # Hello, Petya"
   ]
  },
  {
   "cell_type": "markdown",
   "metadata": {},
   "source": [
    "Однако, надо быть осторожным, если в качестве аргумента мы передаем изменяемое значение, например, список:"
   ]
  },
  {
   "cell_type": "code",
   "execution_count": 18,
   "metadata": {},
   "outputs": [
    {
     "name": "stdout",
     "output_type": "stream",
     "text": [
      "[5, 1]\n"
     ]
    }
   ],
   "source": [
    "def append_one(iterable=[]):\n",
    "    iterable.append(1)\n",
    "    return iterable\n",
    "\n",
    "# Ожидаемый результат:\n",
    "print( append_one([5]) ) # [5, 1]"
   ]
  },
  {
   "cell_type": "markdown",
   "metadata": {},
   "source": [
    "Однако, что же произойдет, если мы вызовем функцию несколько раз?"
   ]
  },
  {
   "cell_type": "code",
   "execution_count": 19,
   "metadata": {},
   "outputs": [
    {
     "name": "stdout",
     "output_type": "stream",
     "text": [
      "[1]\n",
      "[1, 1]\n",
      "[1, 1, 1]\n"
     ]
    }
   ],
   "source": [
    "print( append_one() ) # [1]\n",
    "print( append_one() ) # [1, 1]\n",
    "print( append_one() ) # [1, 1, 1]"
   ]
  },
  {
   "cell_type": "markdown",
   "metadata": {},
   "source": [
    "Почему так происходит? Вначале, как мы ожидали вернется список из одной единицы, потому что функция взяла дефолтное значение (пустой список) и вставила значение 1. Если функция вызывается второй раз, то в списке возвращается две единички, хотя мы ожидаем одну. Чтобы понять, почему так, можно посмотреть у функции атрибут `__defaults__`:"
   ]
  },
  {
   "cell_type": "code",
   "execution_count": 20,
   "metadata": {},
   "outputs": [
    {
     "name": "stdout",
     "output_type": "stream",
     "text": [
      "([1, 1, 1],)\n"
     ]
    }
   ],
   "source": [
    "print( append_one.__defaults__ )"
   ]
  },
  {
   "cell_type": "markdown",
   "metadata": {},
   "source": [
    "Оказывается, там уже содержаться эти самые 3 единички. Почему так происходит? При определении/инициализации функции определяются связи между именем функции и дефолтными значениями, т.о. у каждой функции появляется `tuple()` с дефолтными значениями-переменными и именно для этой переменной каждый раз вызывается метод `append()` в теле функции.\n",
    "Таким образом, дефолтные значения не инициализируются каждый раз при вызове функции.\n",
    "\n",
    "Что же нужно делать в таком случае? Как избежать этого?\n",
    "\n",
    "В объявлении функции нужно указать дефолтное значение как `None`, и если значение аргумента не передано,\n",
    "то создать его с помощью условия внутри функции:"
   ]
  },
  {
   "cell_type": "code",
   "execution_count": 21,
   "metadata": {},
   "outputs": [
    {
     "name": "stdout",
     "output_type": "stream",
     "text": [
      "[1]\n",
      "[1]\n"
     ]
    }
   ],
   "source": [
    "def append_one(iterable=None):\n",
    "    if iterable is None:\n",
    "        iterable = [] # Список создается в локальной области видимости функции, а не в атрибуте __defaults__\n",
    "    iterable.append(1)\n",
    "    return iterable   # Возвращаем из функции ссылку на созданный объект\n",
    "\n",
    "print( append_one() ) # [1]\n",
    "print( append_one() ) # [1]"
   ]
  },
  {
   "cell_type": "markdown",
   "metadata": {},
   "source": [
    "## Звездочки в аргументах. Распаковка аргументов\n",
    "\n",
    "Функция принимает разное количество аргументов:"
   ]
  },
  {
   "cell_type": "code",
   "execution_count": 27,
   "metadata": {},
   "outputs": [
    {
     "name": "stdout",
     "output_type": "stream",
     "text": [
      "<class 'tuple'>\n",
      "1\n",
      "2\n",
      "3\n",
      "4\n",
      "5\n"
     ]
    }
   ],
   "source": [
    "def printer(*args):\n",
    "    print(type(args)) # <class 'tuple'>\n",
    "\n",
    "    for arg in args:\n",
    "        print(arg)\n",
    "\n",
    "printer(1, 2, 3, 4, 5)"
   ]
  },
  {
   "cell_type": "markdown",
   "metadata": {},
   "source": [
    "Точно так же, мы можем разворачивать список в аргументы:"
   ]
  },
  {
   "cell_type": "code",
   "execution_count": 28,
   "metadata": {},
   "outputs": [
    {
     "name": "stdout",
     "output_type": "stream",
     "text": [
      "<class 'tuple'>\n",
      "John\n",
      "Bill\n",
      "Amy\n"
     ]
    }
   ],
   "source": [
    "name_list = ['John', 'Bill', 'Amy']\n",
    "printer(*name_list) # Список распаковывается в аргументы"
   ]
  },
  {
   "cell_type": "markdown",
   "metadata": {},
   "source": [
    "Так же, это работает в случае со словарями:"
   ]
  },
  {
   "cell_type": "code",
   "execution_count": 29,
   "metadata": {},
   "outputs": [
    {
     "name": "stdout",
     "output_type": "stream",
     "text": [
      "<class 'dict'>\n",
      "a: 10\n",
      "b: 11\n"
     ]
    }
   ],
   "source": [
    "def printer(**kwargs):  # Происходит упаковка переданных аргументов в словарь kwargs\n",
    "    print(type(kwargs)) # <class 'dict'>\n",
    "\n",
    "    for k, v in kwargs.items():\n",
    "        print('{}: {}'.format(k, v))\n",
    "\n",
    "printer(a=10, b=11)"
   ]
  },
  {
   "cell_type": "markdown",
   "metadata": {},
   "source": [
    "Возможно разворачивать словари в обратную сторону:"
   ]
  },
  {
   "cell_type": "code",
   "execution_count": 31,
   "metadata": {},
   "outputs": [
    {
     "name": "stdout",
     "output_type": "stream",
     "text": [
      "<class 'dict'>\n",
      "user_id: 117\n",
      "feedback: {'subject': 'Registration fields', 'message': 'There is no country for old man'}\n"
     ]
    }
   ],
   "source": [
    "payload = {\n",
    "    'user_id': 117,\n",
    "    'feedback': {\n",
    "        'subject': 'Registration fields',\n",
    "        'message': 'There is no country for old man'\n",
    "    }\n",
    "}\n",
    "\n",
    "printer(**payload) # Распаковывается в последовательность аргументов user_id и feedback"
   ]
  },
  {
   "cell_type": "markdown",
   "metadata": {},
   "source": [
    "* Когда используется одна звездочка, то:\n",
    "  - Вне функции, **СПИСОК** распаковывается в последовательность аргументов передаваемых в функцию\n",
    "  - Внутри функции переданные аргументы запаковываются в **СПИСОК** (tuple)\n",
    "* Когда используется две звездочки, то:\n",
    "  - Вне функции, **СЛОВАРЬ** распаковывается в последовательность аргументов передаваемых в функцию\n",
    "  - Внутри функции переданные аргументы запаковываются в **СЛОВАРЬ** (tuple)"
   ]
  }
 ],
 "metadata": {
  "kernelspec": {
   "display_name": "Python 3",
   "language": "python",
   "name": "python3"
  },
  "language_info": {
   "codemirror_mode": {
    "name": "ipython",
    "version": 3
   },
   "file_extension": ".py",
   "mimetype": "text/x-python",
   "name": "python",
   "nbconvert_exporter": "python",
   "pygments_lexer": "ipython3",
   "version": "3.6.3"
  },
  "toc": {
   "nav_menu": {
    "height": "146px",
    "width": "413px"
   },
   "number_sections": true,
   "sideBar": false,
   "skip_h1_title": true,
   "title_cell": "Table of Contents",
   "title_sidebar": "Contents",
   "toc_cell": false,
   "toc_position": {},
   "toc_section_display": true,
   "toc_window_display": false
  }
 },
 "nbformat": 4,
 "nbformat_minor": 2
}
