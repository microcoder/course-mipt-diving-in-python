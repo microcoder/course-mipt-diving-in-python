{
 "cells": [
  {
   "cell_type": "markdown",
   "metadata": {},
   "source": [
    "# Декораторы\n",
    "\n",
    "**Декоратор** - это функция которая принимает функцию и возвращает функцию.\n",
    "\n",
    "Простейший декоратор, который ничего не делает, кроме того, что возвращает функцию:"
   ]
  },
  {
   "cell_type": "code",
   "execution_count": 1,
   "metadata": {},
   "outputs": [],
   "source": [
    "def decorator(func):\n",
    "    return func\n",
    "\n",
    "# @decorator - Эта запись, применение декоратора. Это синтаксический сахар.\n",
    "# На самом деле происходит следующее: decorated = decorator(decorated)\n",
    "@decorator\n",
    "def decorated():\n",
    "    print('Hello!')"
   ]
  },
  {
   "cell_type": "markdown",
   "metadata": {},
   "source": [
    "Еще пример, когда исходная функция меняется на другую в декораторе:"
   ]
  },
  {
   "cell_type": "code",
   "execution_count": 2,
   "metadata": {},
   "outputs": [
    {
     "name": "stdout",
     "output_type": "stream",
     "text": [
      "new_func\n",
      "I am new_func\n"
     ]
    }
   ],
   "source": [
    "def decorator(func):\n",
    "    def new_func():\n",
    "        print('I am new_func')\n",
    "    return new_func\n",
    "\n",
    "@decorator\n",
    "def decorated():\n",
    "    print('Hello!')\n",
    "\n",
    "print(decorated.__name__) # Теперь, функция decorated стала функцией new_func.\n",
    "decorated()               # Результат: I am new_func"
   ]
  },
  {
   "cell_type": "markdown",
   "metadata": {},
   "source": [
    "## Пример декоратора `logger`"
   ]
  },
  {
   "cell_type": "code",
   "execution_count": 3,
   "metadata": {},
   "outputs": [],
   "source": [
    "# Декоратор\n",
    "def logger(func):\n",
    "    def wrapped(*args, **kwargs):      # *args, **kwargs - Принимаем любое количество последовательных, а также именованных параметров/аргументов\n",
    "        result = func(*args, **kwargs) # Воспользуемся концептом замыкания (closure), запишем результат работы функции summator\n",
    "        print('logging:', str(result)) # Здесь можно делать всё, что угодно, писать в файл, в БД, передать по сети и т.д.\n",
    "        return result                  # Возвращает результат работы функции summator\n",
    "    return wrapped\n",
    "\n",
    "@logger # Подменяем функцию summator новой функцией wrapped из декоратора logger\n",
    "def summator(num_list):\n",
    "    return sum(num_list)"
   ]
  },
  {
   "cell_type": "markdown",
   "metadata": {},
   "source": [
    "Вызываем декорированную фнкцию summator (wrapped):"
   ]
  },
  {
   "cell_type": "code",
   "execution_count": 4,
   "metadata": {},
   "outputs": [
    {
     "name": "stdout",
     "output_type": "stream",
     "text": [
      "logging: 15\n",
      "Summator: 15\n"
     ]
    }
   ],
   "source": [
    "print('Summator:', summator([1, 2, 3, 4, 5]))"
   ]
  },
  {
   "cell_type": "code",
   "execution_count": 5,
   "metadata": {},
   "outputs": [
    {
     "name": "stdout",
     "output_type": "stream",
     "text": [
      "summator.__name__: wrapped\n"
     ]
    }
   ],
   "source": [
    "print('summator.__name__:', summator.__name__)"
   ]
  },
  {
   "cell_type": "markdown",
   "metadata": {},
   "source": [
    "После декорации имя функции `summator` изменилось на `wrapped`, произошла подмена функций.  \n",
    "Это поведение не всегда удобно, например, иногда нужно узнать в какой функции произошло исключение для этого существует модуль `functools`. Перепишем код:"
   ]
  },
  {
   "cell_type": "code",
   "execution_count": 6,
   "metadata": {},
   "outputs": [],
   "source": [
    "import functools\n",
    "\n",
    "# Декоратор\n",
    "def logger(func):\n",
    "    @functools.wraps(func)             # Декоратор подменяет __doc__, __name__ для того, чтобы функция осталась с именем summator\n",
    "    def wrapped(*args, **kwargs):      # *args, **kwargs - Принимаем любое количество последовательных, а также именованных параметров/аргументов\n",
    "        result = func(*args, **kwargs) # Воспользуемся концептом замыкания (closure), запишем результат работы функции summator\n",
    "        print('logging:', str(result)) # Здесь можно делать всё, что угодно, писать в файл, в БД, передать по сети и т.д.\n",
    "        return result                  # Возвращает результат работы функции summator\n",
    "    return wrapped\n",
    "\n",
    "@logger # Подменяем функцию summator новой функцией wrapped из декоратора logger\n",
    "def summator(num_list):\n",
    "    return sum(num_list)"
   ]
  },
  {
   "cell_type": "markdown",
   "metadata": {},
   "source": [
    "Вызываем декорированную фнкцию summator (wrapped):"
   ]
  },
  {
   "cell_type": "code",
   "execution_count": 7,
   "metadata": {},
   "outputs": [
    {
     "name": "stdout",
     "output_type": "stream",
     "text": [
      "logging: 15\n",
      "Summator: 15\n"
     ]
    }
   ],
   "source": [
    "print('Summator:', summator([1, 2, 3, 4, 5]))"
   ]
  },
  {
   "cell_type": "code",
   "execution_count": 8,
   "metadata": {},
   "outputs": [
    {
     "name": "stdout",
     "output_type": "stream",
     "text": [
      "summator.__name__: summator\n"
     ]
    }
   ],
   "source": [
    "print('summator.__name__:', summator.__name__)"
   ]
  },
  {
   "cell_type": "markdown",
   "metadata": {},
   "source": [
    "## Более сложный пример `logger'a`"
   ]
  },
  {
   "cell_type": "code",
   "execution_count": 12,
   "metadata": {},
   "outputs": [],
   "source": [
    "# Логгер с параметром\n",
    "def logger(filename):\n",
    "    def decorator(func):\n",
    "        def wrapped(*args, **kwargs):\n",
    "            result = func(*args, **kwargs)\n",
    "            # Эмуляция логирования в файл:\n",
    "            print('Запись в файл: {}. Результат функции {} = {}'.format(filename, func.__name__, result))\n",
    "            return result # Возвращаем результат работы функции summator\n",
    "        return wrapped\n",
    "    return decorator\n",
    "\n",
    "@logger('log.txt') # Декоратор с параметром\n",
    "def summator(num_list):\n",
    "    return sum(num_list)"
   ]
  },
  {
   "cell_type": "code",
   "execution_count": 13,
   "metadata": {},
   "outputs": [
    {
     "name": "stdout",
     "output_type": "stream",
     "text": [
      "Запись в файл: log.txt. Результат функции summator = 15\n",
      "15\n"
     ]
    }
   ],
   "source": [
    "print( summator([1, 2, 3, 4, 5]) )"
   ]
  },
  {
   "cell_type": "markdown",
   "metadata": {},
   "source": [
    "Что происходит? Ниже представлен аналог без синтаксического сахара.  \n",
    "Пояснение: `logger` возвращает функцию-декоратор, которая в свою очередь принимает аргументы, поэтому следом мы можем записать круглые скобки, чтобы передать в вызов декоратора декорируемую функцию."
   ]
  },
  {
   "cell_type": "code",
   "execution_count": 17,
   "metadata": {},
   "outputs": [
    {
     "name": "stdout",
     "output_type": "stream",
     "text": [
      "summator.__name__: wrapped\n"
     ]
    }
   ],
   "source": [
    "summator = logger('log.txt')(summator)\n",
    "\n",
    "print('summator.__name__:', summator.__name__)"
   ]
  },
  {
   "cell_type": "markdown",
   "metadata": {},
   "source": [
    "## Применение нескольких декораторов подряд"
   ]
  },
  {
   "cell_type": "code",
   "execution_count": 18,
   "metadata": {},
   "outputs": [
    {
     "name": "stdout",
     "output_type": "stream",
     "text": [
      "inside first_decorator\n",
      "inside second_decorator\n",
      "inside decorated\n"
     ]
    }
   ],
   "source": [
    "def first_decorator(func):\n",
    "    def wrapped():\n",
    "        print('inside first_decorator')\n",
    "        return func()\n",
    "    return wrapped\n",
    "\n",
    "def second_decorator(func):\n",
    "    def wrapped():\n",
    "        print('inside second_decorator')\n",
    "        return func()\n",
    "    return wrapped\n",
    "\n",
    "@first_decorator\n",
    "@second_decorator\n",
    "def decorated():\n",
    "    print('inside decorated')\n",
    "\n",
    "decorated()"
   ]
  },
  {
   "cell_type": "markdown",
   "metadata": {},
   "source": [
    "Аналог без синтаксического сахара:"
   ]
  },
  {
   "cell_type": "code",
   "execution_count": 26,
   "metadata": {},
   "outputs": [
    {
     "name": "stdout",
     "output_type": "stream",
     "text": [
      "inside first_decorator\n",
      "inside second_decorator\n",
      "inside decorated\n"
     ]
    }
   ],
   "source": [
    "def decorated():\n",
    "    print('inside decorated')\n",
    "\n",
    "decorated = first_decorator(second_decorator(decorated)) # Декорирование функции decorated\n",
    "\n",
    "decorated()"
   ]
  },
  {
   "cell_type": "markdown",
   "metadata": {},
   "source": [
    "Еще один пример применения нескольких декораторов:"
   ]
  },
  {
   "cell_type": "code",
   "execution_count": 27,
   "metadata": {},
   "outputs": [
    {
     "name": "stdout",
     "output_type": "stream",
     "text": [
      "<b><i>Hello, world!</i></b>\n"
     ]
    }
   ],
   "source": [
    "def bold(func):\n",
    "    def wrapped():\n",
    "        return '<b>' + func() + '</b>'\n",
    "    return wrapped\n",
    "\n",
    "def italic(func):\n",
    "    def wrapped():\n",
    "        return '<i>' + func() + '</i>'\n",
    "    return wrapped\n",
    "\n",
    "@bold\n",
    "@italic\n",
    "def hello():\n",
    "    return 'Hello, world!'\n",
    "\n",
    "\n",
    "print(hello())"
   ]
  },
  {
   "cell_type": "markdown",
   "metadata": {},
   "source": [
    "Что происходит? Без синтаксического сахара:"
   ]
  },
  {
   "cell_type": "code",
   "execution_count": 29,
   "metadata": {},
   "outputs": [
    {
     "name": "stdout",
     "output_type": "stream",
     "text": [
      "<b><i>Hello, world!</i></b>\n"
     ]
    }
   ],
   "source": [
    "def hello():\n",
    "    return 'Hello, world!'\n",
    "\n",
    "hello = bold(italic(hello))\n",
    "\n",
    "print(hello())"
   ]
  }
 ],
 "metadata": {
  "kernelspec": {
   "display_name": "Python 3",
   "language": "python",
   "name": "python3"
  },
  "language_info": {
   "codemirror_mode": {
    "name": "ipython",
    "version": 3
   },
   "file_extension": ".py",
   "mimetype": "text/x-python",
   "name": "python",
   "nbconvert_exporter": "python",
   "pygments_lexer": "ipython3",
   "version": "3.6.3"
  },
  "toc": {
   "nav_menu": {
    "height": "99px",
    "width": "358px"
   },
   "number_sections": true,
   "sideBar": false,
   "skip_h1_title": true,
   "title_cell": "Table of Contents",
   "title_sidebar": "Contents",
   "toc_cell": false,
   "toc_position": {},
   "toc_section_display": true,
   "toc_window_display": false
  }
 },
 "nbformat": 4,
 "nbformat_minor": 2
}
