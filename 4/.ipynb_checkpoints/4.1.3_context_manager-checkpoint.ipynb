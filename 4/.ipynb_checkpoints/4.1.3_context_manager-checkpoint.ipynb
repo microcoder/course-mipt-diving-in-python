{
 "cells": [
  {
   "cell_type": "markdown",
   "metadata": {},
   "source": [
    "# Контекстный менеджер\n",
    "\n",
    "С контекстным менеджером, по выходу из блока видимости, например, не нужно забодится о закрытии файла, он его закроет автоматически."
   ]
  },
  {
   "cell_type": "code",
   "execution_count": 5,
   "metadata": {},
   "outputs": [],
   "source": [
    "with open('file.txt', 'w+') as f:\n",
    "    f.write('Основы Python от МФТИ')\n",
    "\n",
    "# В этом месте файл уже закрыт"
   ]
  },
  {
   "cell_type": "markdown",
   "metadata": {},
   "source": [
    "## Определяем пользовательский контекстный менеджер"
   ]
  },
  {
   "cell_type": "code",
   "execution_count": 6,
   "metadata": {},
   "outputs": [],
   "source": [
    "class open_file():\n",
    "\n",
    "    def __init__(self, filename, mode):\n",
    "        self.f = open(filename, mode)\n",
    "\n",
    "    def __enter__(self):\n",
    "        print('Событие открытия контекстного менеджера')\n",
    "        # Объект возвращается в переменную которая объявлена после ключевого слова as.\n",
    "        # В нее можно ничего возвращать.\n",
    "        return self.f\n",
    "\n",
    "    def __exit__(self, *args):\n",
    "        print('Событие закрытия контекстного менеджера')\n",
    "        self.f.close()"
   ]
  },
  {
   "cell_type": "markdown",
   "metadata": {},
   "source": [
    "В переменную которая идет после ключевого слова `as` возвращается результат метода `__enter__`, который может в принципе ничего не возвращать, и тогда в переменной после `as` ничего не будет:"
   ]
  },
  {
   "cell_type": "code",
   "execution_count": 7,
   "metadata": {},
   "outputs": [
    {
     "name": "stdout",
     "output_type": "stream",
     "text": [
      "Событие открытия контекстного менеджера\n",
      "Основы Python от МФТИ\n",
      "Событие закрытия контекстного менеджера\n"
     ]
    }
   ],
   "source": [
    "with open_file('file.txt', 'r') as f:\n",
    "    print(f.read())\n",
    "\n",
    "# В этом месте кода файл закрыт вызовом магического метода __exit__"
   ]
  },
  {
   "cell_type": "markdown",
   "metadata": {},
   "source": [
    "## Исключения внутри блока контекстного менеджера\n",
    "\n",
    "Контекстный менеджер позволяет управлять исключениями которые возникают внутри блока:"
   ]
  },
  {
   "cell_type": "code",
   "execution_count": 8,
   "metadata": {},
   "outputs": [],
   "source": [
    "class suppress_exception():\n",
    "\n",
    "    def __enter__(self):\n",
    "        return\n",
    "\n",
    "    def __exit__(self, exc_type, exc_value, traceback):\n",
    "        if exc_type:\n",
    "            print('Отлов исключения:', exc_type, exc_value)\n",
    "            return True"
   ]
  },
  {
   "cell_type": "markdown",
   "metadata": {},
   "source": [
    "Обратите внимание, оператор `as` не используется:"
   ]
  },
  {
   "cell_type": "code",
   "execution_count": 10,
   "metadata": {},
   "outputs": [
    {
     "name": "stdout",
     "output_type": "stream",
     "text": [
      "Отлов исключения: <class 'ZeroDivisionError'> division by zero\n",
      "Блок with корректно завершен, код продолжается исполнятся далее...\n"
     ]
    }
   ],
   "source": [
    "with suppress_exception():\n",
    "    number = 1 / 0  # Вызываем исключение\n",
    "    print('Продолжение выполнения кода в блоке with') # Этот код уже не выполняется\n",
    "\n",
    "print('Блок with корректно завершен, код продолжается исполнятся далее...')"
   ]
  },
  {
   "cell_type": "markdown",
   "metadata": {},
   "source": [
    "## Подсчет времени выполнения кода с помощью блока контекстного менеджера"
   ]
  },
  {
   "cell_type": "code",
   "execution_count": 11,
   "metadata": {},
   "outputs": [],
   "source": [
    "import time\n",
    "\n",
    "class timer():\n",
    "\n",
    "    def __init__(self):\n",
    "        self.start = time.time()\n",
    "\n",
    "    def current_time(self):\n",
    "        return time.time() - self.start\n",
    "\n",
    "    def __enter__(self):\n",
    "        return self\n",
    "\n",
    "    def __exit__(self, *args):\n",
    "        print('Elapsed time:', self.current_time()) # Время проведенное в контекстном менеджере"
   ]
  },
  {
   "cell_type": "markdown",
   "metadata": {},
   "source": [
    "Допустим, у нас есть некий код, который мы бы хотели измерить на длительность исполнения. Для этого мы его помещаем в блок `with`:"
   ]
  },
  {
   "cell_type": "code",
   "execution_count": 12,
   "metadata": {},
   "outputs": [
    {
     "name": "stdout",
     "output_type": "stream",
     "text": [
      "Current time: 1.001408576965332\n",
      "Elapsed time: 2.0037147998809814\n"
     ]
    }
   ],
   "source": [
    "with timer() as t:\n",
    "    time.sleep(1) # Эмулируем время выполнения\n",
    "    print('Current time:', t.current_time())\n",
    "    time.sleep(1) # Эмулируем время выполнения"
   ]
  },
  {
   "cell_type": "markdown",
   "metadata": {},
   "source": [
    "## Еще один пример применения контекстного менеджера"
   ]
  },
  {
   "cell_type": "code",
   "execution_count": 13,
   "metadata": {},
   "outputs": [],
   "source": [
    "class ClassA():\n",
    "\n",
    "    def __init__(self, list_names=None):\n",
    "        self.list_names = []\n",
    "        if isinstance(list_names, str):\n",
    "            self.list_names.append(list_names)\n",
    "        elif isinstance(list_names, list):\n",
    "            self.list_names += list_names\n",
    "\n",
    "    def __enter__(self):\n",
    "        print('Выполняется вход в контекстный менеджер')\n",
    "        return self\n",
    "\n",
    "    def __exit__(self, exc_type, exc_value, traceback):\n",
    "        print('Выполняется закрытие контекстного менеджера')\n",
    "\n",
    "        if exc_type:\n",
    "            print('Произошло исключение внутри блока with. exc_type={}, exc_value={}'.format(exc_type, exc_value))\n",
    "            return True\n",
    "\n",
    "    def __str__(self):\n",
    "        return str(self.list_names)\n",
    "\n",
    "\n",
    "obj = ClassA(['vasya', 'petya', 'vova'])"
   ]
  },
  {
   "cell_type": "markdown",
   "metadata": {},
   "source": [
    "Используем контекстный менеджер с созданным объектом:"
   ]
  },
  {
   "cell_type": "code",
   "execution_count": 14,
   "metadata": {},
   "outputs": [
    {
     "name": "stdout",
     "output_type": "stream",
     "text": [
      "Выполняется вход в контекстный менеджер\n",
      "['vasya', 'petya', 'vova']\n",
      "Выполняется закрытие контекстного менеджера\n"
     ]
    }
   ],
   "source": [
    "with obj:\n",
    "    print(obj)"
   ]
  },
  {
   "cell_type": "code",
   "execution_count": 15,
   "metadata": {},
   "outputs": [
    {
     "name": "stdout",
     "output_type": "stream",
     "text": [
      "Выполняется вход в контекстный менеджер\n",
      "['vasya', 'petya', 'vova']\n",
      "Выполняется закрытие контекстного менеджера\n"
     ]
    }
   ],
   "source": [
    "with obj as a:\n",
    "    print(a)"
   ]
  }
 ],
 "metadata": {
  "kernelspec": {
   "display_name": "Python 3",
   "language": "python",
   "name": "python3"
  },
  "language_info": {
   "codemirror_mode": {
    "name": "ipython",
    "version": 3
   },
   "file_extension": ".py",
   "mimetype": "text/x-python",
   "name": "python",
   "nbconvert_exporter": "python",
   "pygments_lexer": "ipython3",
   "version": "3.6.3"
  },
  "toc": {
   "nav_menu": {
    "height": "130px",
    "width": "547px"
   },
   "number_sections": true,
   "sideBar": false,
   "skip_h1_title": true,
   "title_cell": "Table of Contents",
   "title_sidebar": "Contents",
   "toc_cell": false,
   "toc_position": {},
   "toc_section_display": true,
   "toc_window_display": false
  }
 },
 "nbformat": 4,
 "nbformat_minor": 2
}
