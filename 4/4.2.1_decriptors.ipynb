{
 "cells": [
  {
   "cell_type": "markdown",
   "metadata": {},
   "source": [
    "# Дескрипторы\n",
    "\n",
    "Дескриптор атрибута определяет поведение при доступе, изменении и удалении атрибута.  \n",
    "Позволяет контролировать значение конкретного атрибута.  \n",
    "В отличии от декораторов (getter, setter, deleter) и декоратора-геттера @property которые реализованы этой же концепцией дескрипторов, сам дескриптор находится и реализуется в отдельном классе."
   ]
  },
  {
   "cell_type": "markdown",
   "metadata": {},
   "source": [
    "## Пример дескриптора № 1"
   ]
  },
  {
   "cell_type": "code",
   "execution_count": 2,
   "metadata": {
    "ExecuteTime": {
     "end_time": "2018-03-02T06:48:01.767804Z",
     "start_time": "2018-03-02T06:48:01.757126Z"
    }
   },
   "outputs": [],
   "source": [
    "class Descriptor():\n",
    "\n",
    "    def __get__(self, obj, obj_type):\n",
    "        print('get attribute') # Здесь может быть любая логика со значением атрибута\n",
    "\n",
    "    def __set__(self, obj, value):\n",
    "        print('set attribute') # Здесь может быть любая логика со значением атрибута\n",
    "\n",
    "    def __delete__(self, obj):\n",
    "        print('delete attribute') # Здесь может быть любая логика со значением атрибута\n",
    "\n",
    "\n",
    "class Class():\n",
    "    myattr = Descriptor() # Использование дескриптора\n",
    "\n",
    "\n",
    "obj = Class()"
   ]
  },
  {
   "cell_type": "markdown",
   "metadata": {},
   "source": [
    "Обращаемся к атрибуту:"
   ]
  },
  {
   "cell_type": "code",
   "execution_count": 6,
   "metadata": {},
   "outputs": [
    {
     "name": "stdout",
     "output_type": "stream",
     "text": [
      "get attribute\n"
     ]
    }
   ],
   "source": [
    "obj.myattr"
   ]
  },
  {
   "cell_type": "markdown",
   "metadata": {},
   "source": [
    "Устанавливаем значение атрибуту:"
   ]
  },
  {
   "cell_type": "code",
   "execution_count": 7,
   "metadata": {},
   "outputs": [
    {
     "name": "stdout",
     "output_type": "stream",
     "text": [
      "set attribute\n"
     ]
    }
   ],
   "source": [
    "obj.myattr = 1"
   ]
  },
  {
   "cell_type": "markdown",
   "metadata": {},
   "source": [
    "Удаляем атрибут:"
   ]
  },
  {
   "cell_type": "code",
   "execution_count": 8,
   "metadata": {},
   "outputs": [
    {
     "name": "stdout",
     "output_type": "stream",
     "text": [
      "delete attribute\n"
     ]
    }
   ],
   "source": [
    "del obj.myattr"
   ]
  },
  {
   "cell_type": "markdown",
   "metadata": {},
   "source": [
    "## Пример дескриптора № 2"
   ]
  },
  {
   "cell_type": "code",
   "execution_count": 9,
   "metadata": {},
   "outputs": [],
   "source": [
    "class Value():\n",
    "\n",
    "    def __init__(self):\n",
    "        self.value = None\n",
    "\n",
    "    @staticmethod\n",
    "    def _prepare_value(value):\n",
    "        return value * 10\n",
    "\n",
    "    def __get__(self, obj, obj_type):\n",
    "        return self.value\n",
    "\n",
    "    def __set__(self, obj, value):\n",
    "        self.value = self._prepare_value(value)\n",
    "\n",
    "    def __delete__(self):\n",
    "        pass\n",
    "\n",
    "\n",
    "class Class():\n",
    "    myattr = Value()\n",
    "\n",
    "\n",
    "obj = Class()"
   ]
  },
  {
   "cell_type": "markdown",
   "metadata": {},
   "source": [
    "Установим значение атрибуту:"
   ]
  },
  {
   "cell_type": "code",
   "execution_count": 10,
   "metadata": {},
   "outputs": [],
   "source": [
    "obj.myattr = 10"
   ]
  },
  {
   "cell_type": "markdown",
   "metadata": {},
   "source": [
    "Проверим значение обратившись к атрибуту:"
   ]
  },
  {
   "cell_type": "code",
   "execution_count": 11,
   "metadata": {},
   "outputs": [
    {
     "data": {
      "text/plain": [
       "100"
      ]
     },
     "execution_count": 11,
     "metadata": {},
     "output_type": "execute_result"
    }
   ],
   "source": [
    "obj.myattr"
   ]
  },
  {
   "cell_type": "markdown",
   "metadata": {},
   "source": [
    "Значение равно `100`, хотя мы устанавливали равным `10`, это произошло потому, что в реализации дескриптора была применена некотороая логика установки значения атрибуту."
   ]
  },
  {
   "cell_type": "markdown",
   "metadata": {},
   "source": [
    "## Пример дескриптора № 3\n",
    "\n",
    "Пример реализует запись в файл какого-то важного значения, которое изменяется:"
   ]
  },
  {
   "cell_type": "code",
   "execution_count": 12,
   "metadata": {},
   "outputs": [],
   "source": [
    "import random\n",
    "\n",
    "class ImportantValue():\n",
    "\n",
    "    def __init__(self, amount):\n",
    "        self.amount = amount\n",
    "\n",
    "    def __get__(self, obj, obj_type):\n",
    "        return self.amount\n",
    "\n",
    "    def __set__(self, obj, value):\n",
    "        with open('log.txt', 'a') as f:\n",
    "            f.write('Пример дескриптора #3. Новое значение amount = {}\\n'.format(value))\n",
    "        self.amount = value\n",
    "\n",
    "\n",
    "class Account():\n",
    "    # Какой-то важный атрибут, изменение которого должно логироваться\n",
    "    amount = ImportantValue(100)\n",
    "\n",
    "\n",
    "a = Account()\n",
    "a.amount = random.randint(100, 1000)"
   ]
  },
  {
   "cell_type": "markdown",
   "metadata": {},
   "source": [
    "Проверим лог-файл на содержимое:"
   ]
  },
  {
   "cell_type": "code",
   "execution_count": 13,
   "metadata": {},
   "outputs": [
    {
     "name": "stdout",
     "output_type": "stream",
     "text": [
      "Пример дескриптора #3. Новое значение amount = 784\n",
      "\n"
     ]
    }
   ],
   "source": [
    "with open('log.txt', 'r') as f:\n",
    "    print(f.read())"
   ]
  },
  {
   "cell_type": "markdown",
   "metadata": {},
   "source": [
    "Попробуем еще раз изменить значение атрибута и прочитаем заново лог-файл:"
   ]
  },
  {
   "cell_type": "code",
   "execution_count": 14,
   "metadata": {},
   "outputs": [
    {
     "name": "stdout",
     "output_type": "stream",
     "text": [
      "Пример дескриптора #3. Новое значение amount = 784\n",
      "Пример дескриптора #3. Новое значение amount = 604\n",
      "\n"
     ]
    }
   ],
   "source": [
    "a.amount = random.randint(100, 1000)\n",
    "\n",
    "with open('log.txt', 'r') as f:\n",
    "    print(f.read())"
   ]
  },
  {
   "cell_type": "markdown",
   "metadata": {},
   "source": [
    "## Функции и методы\n",
    "\n",
    "На самом деле, функции и методы реализованы с помощью дескрипторов:"
   ]
  },
  {
   "cell_type": "code",
   "execution_count": 15,
   "metadata": {},
   "outputs": [],
   "source": [
    "class Class():\n",
    "    def method(self):\n",
    "        pass\n",
    "\n",
    "\n",
    "obj = Class()"
   ]
  },
  {
   "cell_type": "markdown",
   "metadata": {},
   "source": [
    "В bound метод передается объект, с которым вызван метод:"
   ]
  },
  {
   "cell_type": "code",
   "execution_count": 16,
   "metadata": {},
   "outputs": [
    {
     "data": {
      "text/plain": [
       "<bound method Class.method of <__main__.Class object at 0x7f13353c4d68>>"
      ]
     },
     "execution_count": 16,
     "metadata": {},
     "output_type": "execute_result"
    }
   ],
   "source": [
    "obj.method"
   ]
  },
  {
   "cell_type": "code",
   "execution_count": 17,
   "metadata": {},
   "outputs": [
    {
     "data": {
      "text/plain": [
       "<function __main__.Class.method>"
      ]
     },
     "execution_count": 17,
     "metadata": {},
     "output_type": "execute_result"
    }
   ],
   "source": [
    "Class.method"
   ]
  },
  {
   "cell_type": "markdown",
   "metadata": {},
   "source": [
    "## Декоратор `@property`"
   ]
  },
  {
   "cell_type": "code",
   "execution_count": 18,
   "metadata": {},
   "outputs": [],
   "source": [
    "class User():\n",
    "    \n",
    "    def __init__(self, first_name, last_name):\n",
    "        self.first_name = first_name\n",
    "        self.last_name = last_name\n",
    "\n",
    "    @property # Используем метод как get-атрибут\n",
    "    def full_name(self):\n",
    "        return '{} {}'.format(self.first_name, self.last_name)\n",
    "\n",
    "\n",
    "amy = User('Amy', 'Jones')"
   ]
  },
  {
   "cell_type": "markdown",
   "metadata": {},
   "source": [
    "Метод `full_name()` используется как обычный атрибут благодаря декоратору-дескриптору `@property`:"
   ]
  },
  {
   "cell_type": "code",
   "execution_count": 19,
   "metadata": {},
   "outputs": [
    {
     "data": {
      "text/plain": [
       "'Amy Jones'"
      ]
     },
     "execution_count": 19,
     "metadata": {},
     "output_type": "execute_result"
    }
   ],
   "source": [
    "amy.full_name"
   ]
  },
  {
   "cell_type": "code",
   "execution_count": 20,
   "metadata": {},
   "outputs": [
    {
     "data": {
      "text/plain": [
       "<property at 0x7f13342772c8>"
      ]
     },
     "execution_count": 20,
     "metadata": {},
     "output_type": "execute_result"
    }
   ],
   "source": [
    "User.full_name"
   ]
  },
  {
   "cell_type": "markdown",
   "metadata": {},
   "source": [
    "## Собственный класс который эмулирует поведение `@property`"
   ]
  },
  {
   "cell_type": "code",
   "execution_count": 26,
   "metadata": {},
   "outputs": [],
   "source": [
    "class Property():\n",
    "\n",
    "    def __init__(self, getter):\n",
    "        self.getter = getter  # В этом атрибуте находится метод класса ClassA()\n",
    "\n",
    "    def __get__(self, obj, obj_type=None):\n",
    "        if obj is None:\n",
    "            return self\n",
    "        return self.getter(obj) # Вызов метода класса ClassA() с передачей в него self-объекта"
   ]
  },
  {
   "cell_type": "markdown",
   "metadata": {},
   "source": [
    "Таким образом, мы можем использовать как встроенный декоратор `property()`, так и только что созданный `Property()`:"
   ]
  },
  {
   "cell_type": "code",
   "execution_count": 27,
   "metadata": {},
   "outputs": [],
   "source": [
    "class ClassA():\n",
    "\n",
    "    # 1. Используется встроенный декоратор-дескриптор\n",
    "    @property\n",
    "    def original_property(self):\n",
    "        return 'original property'\n",
    "\n",
    "    # 2. Используется собственный декоратор-дескриптор.\n",
    "    # В метод __init__ класса Property() в качестве второго аргумента передается этот метод\n",
    "    @Property\n",
    "    def custom_property(self):\n",
    "        return 'custom property'\n",
    "\n",
    "    def custom_pure(self):\n",
    "        return 'custom pure'\n",
    "\n",
    "    # 3. Атрибут custom_pure. В Property передается метод custom_pure(). Используется как вызов функции.\n",
    "    custom_pure = Property(custom_pure)\n",
    "\n",
    "\n",
    "obj = ClassA()"
   ]
  },
  {
   "cell_type": "markdown",
   "metadata": {},
   "source": [
    "Осуществляем вызовы:"
   ]
  },
  {
   "cell_type": "code",
   "execution_count": 28,
   "metadata": {},
   "outputs": [
    {
     "data": {
      "text/plain": [
       "'original property'"
      ]
     },
     "execution_count": 28,
     "metadata": {},
     "output_type": "execute_result"
    }
   ],
   "source": [
    "obj.original_property"
   ]
  },
  {
   "cell_type": "code",
   "execution_count": 29,
   "metadata": {},
   "outputs": [
    {
     "data": {
      "text/plain": [
       "'custom property'"
      ]
     },
     "execution_count": 29,
     "metadata": {},
     "output_type": "execute_result"
    }
   ],
   "source": [
    "obj.custom_property"
   ]
  },
  {
   "cell_type": "code",
   "execution_count": 30,
   "metadata": {},
   "outputs": [
    {
     "data": {
      "text/plain": [
       "'custom pure'"
      ]
     },
     "execution_count": 30,
     "metadata": {},
     "output_type": "execute_result"
    }
   ],
   "source": [
    "obj.custom_pure"
   ]
  },
  {
   "cell_type": "markdown",
   "metadata": {},
   "source": [
    "## `@staticmethod` и `@classmethod` реализованы через дескрипторы"
   ]
  },
  {
   "cell_type": "code",
   "execution_count": 31,
   "metadata": {},
   "outputs": [],
   "source": [
    "class StaticMethod():\n",
    "\n",
    "    def __init__(self, func):\n",
    "        self.func = func\n",
    "\n",
    "    def __get__(self, obj, obj_type=None):\n",
    "        print('Вызван метод __get__ класса StaticMethod')\n",
    "        return self.func\n",
    "\n",
    "\n",
    "class ClassMethod():\n",
    "\n",
    "    def __init__(self, func):\n",
    "        self.func = func\n",
    "\n",
    "    def __get__(self, obj, obj_type=None):\n",
    "        print('Вызван метод __get__ класса ClassMethod')\n",
    "        if obj_type is None:\n",
    "            obj_type = type(obj)\n",
    "\n",
    "        def new_func(*args, **kwargs):\n",
    "            return self.func(obj_type, *args, **kwargs)\n",
    "\n",
    "        return new_func"
   ]
  },
  {
   "cell_type": "markdown",
   "metadata": {},
   "source": [
    "Примеры использования:"
   ]
  },
  {
   "cell_type": "code",
   "execution_count": 32,
   "metadata": {},
   "outputs": [],
   "source": [
    "class ClassA():\n",
    "\n",
    "    @StaticMethod\n",
    "    def methodA(a):\n",
    "        print('Это methodA класса StaticMethod. attr =', a)\n",
    "\n",
    "    @ClassMethod\n",
    "    def methodB(cls, a):\n",
    "        print('Это ClassMethod. attr =', a)\n",
    "\n",
    "\n",
    "obj = ClassA()"
   ]
  },
  {
   "cell_type": "markdown",
   "metadata": {},
   "source": [
    "Вызовы:"
   ]
  },
  {
   "cell_type": "code",
   "execution_count": 33,
   "metadata": {},
   "outputs": [
    {
     "name": "stdout",
     "output_type": "stream",
     "text": [
      "Вызван метод __get__ класса StaticMethod\n",
      "Это methodA класса StaticMethod. attr = call from object\n"
     ]
    }
   ],
   "source": [
    "obj.methodA('call from object')    # staticmethod"
   ]
  },
  {
   "cell_type": "code",
   "execution_count": 34,
   "metadata": {},
   "outputs": [
    {
     "name": "stdout",
     "output_type": "stream",
     "text": [
      "Вызван метод __get__ класса StaticMethod\n",
      "Это methodA класса StaticMethod. attr = call from class\n"
     ]
    }
   ],
   "source": [
    "ClassA.methodA('call from class')  # staticmethod"
   ]
  },
  {
   "cell_type": "code",
   "execution_count": 35,
   "metadata": {},
   "outputs": [
    {
     "name": "stdout",
     "output_type": "stream",
     "text": [
      "Вызван метод __get__ класса ClassMethod\n",
      "Это ClassMethod. attr = call from object\n"
     ]
    }
   ],
   "source": [
    "obj.methodB('call from object')    # classmethod"
   ]
  },
  {
   "cell_type": "code",
   "execution_count": 36,
   "metadata": {},
   "outputs": [
    {
     "name": "stdout",
     "output_type": "stream",
     "text": [
      "Вызван метод __get__ класса ClassMethod\n",
      "Это ClassMethod. attr = call from class\n"
     ]
    }
   ],
   "source": [
    "ClassA.methodB('call from class')  # classmethod"
   ]
  },
  {
   "cell_type": "markdown",
   "metadata": {},
   "source": [
    "## `__slots__` также работает с помощью дескрипторов\n",
    "\n",
    "* Позволяет опеределить в классе жестко заданный набор атрибутов.  \n",
    "* Реализуется с помощью определения дескрипторов для каждого из атрибутов."
   ]
  },
  {
   "cell_type": "code",
   "execution_count": 38,
   "metadata": {},
   "outputs": [],
   "source": [
    "class ClassA():\n",
    "    pass\n",
    "\n",
    "class ClassB():\n",
    "    __slots__ = ['anakin'] # В этом классе может быть только атрибут anakin\n",
    "\n",
    "    def __init__(self):\n",
    "        self.anakin = 'the chosen one' # Доступ к атрибуту через __slots__\n"
   ]
  },
  {
   "cell_type": "markdown",
   "metadata": {},
   "source": [
    "Поведение для обычного класса:"
   ]
  },
  {
   "cell_type": "code",
   "execution_count": 39,
   "metadata": {},
   "outputs": [
    {
     "name": "stdout",
     "output_type": "stream",
     "text": [
      "{'luke': 'the chosen two'}\n"
     ]
    }
   ],
   "source": [
    "a = ClassA()\n",
    "a.luke = 'the chosen two'  # Установить новый атрибут в объекте удается\n",
    "print(a.__dict__)          # Словарь существует"
   ]
  },
  {
   "cell_type": "markdown",
   "metadata": {},
   "source": [
    "Поведение для класса со слотом:"
   ]
  },
  {
   "cell_type": "code",
   "execution_count": 40,
   "metadata": {},
   "outputs": [
    {
     "ename": "AttributeError",
     "evalue": "'ClassB' object has no attribute 'luke'",
     "output_type": "error",
     "traceback": [
      "\u001b[0;31m---------------------------------------------------------------------------\u001b[0m",
      "\u001b[0;31mAttributeError\u001b[0m                            Traceback (most recent call last)",
      "\u001b[0;32m<ipython-input-40-d42003aad4c8>\u001b[0m in \u001b[0;36m<module>\u001b[0;34m()\u001b[0m\n\u001b[1;32m      1\u001b[0m \u001b[0mb\u001b[0m \u001b[0;34m=\u001b[0m \u001b[0mClassB\u001b[0m\u001b[0;34m(\u001b[0m\u001b[0;34m)\u001b[0m\u001b[0;34m\u001b[0m\u001b[0m\n\u001b[0;32m----> 2\u001b[0;31m \u001b[0mb\u001b[0m\u001b[0;34m.\u001b[0m\u001b[0mluke\u001b[0m \u001b[0;34m=\u001b[0m \u001b[0;34m'the chosen two'\u001b[0m\u001b[0;34m\u001b[0m\u001b[0m\n\u001b[0m",
      "\u001b[0;31mAttributeError\u001b[0m: 'ClassB' object has no attribute 'luke'"
     ]
    }
   ],
   "source": [
    "b = ClassB()\n",
    "b.luke = 'the chosen two' # Установить новый атрибут в объекте НЕ удается"
   ]
  },
  {
   "cell_type": "markdown",
   "metadata": {},
   "source": [
    "Словарь не доступен:"
   ]
  },
  {
   "cell_type": "code",
   "execution_count": 41,
   "metadata": {},
   "outputs": [
    {
     "ename": "AttributeError",
     "evalue": "'ClassB' object has no attribute '__dict__'",
     "output_type": "error",
     "traceback": [
      "\u001b[0;31m---------------------------------------------------------------------------\u001b[0m",
      "\u001b[0;31mAttributeError\u001b[0m                            Traceback (most recent call last)",
      "\u001b[0;32m<ipython-input-41-2be3390207a6>\u001b[0m in \u001b[0;36m<module>\u001b[0;34m()\u001b[0m\n\u001b[0;32m----> 1\u001b[0;31m \u001b[0mb\u001b[0m\u001b[0;34m.\u001b[0m\u001b[0m__dict__\u001b[0m \u001b[0;31m# Словарь не доступен\u001b[0m\u001b[0;34m\u001b[0m\u001b[0m\n\u001b[0m",
      "\u001b[0;31mAttributeError\u001b[0m: 'ClassB' object has no attribute '__dict__'"
     ]
    }
   ],
   "source": [
    "b.__dict__"
   ]
  },
  {
   "cell_type": "markdown",
   "metadata": {},
   "source": [
    "Зато существует магический атрибут `__slots__`:"
   ]
  },
  {
   "cell_type": "code",
   "execution_count": 42,
   "metadata": {},
   "outputs": [
    {
     "data": {
      "text/plain": [
       "['anakin']"
      ]
     },
     "execution_count": 42,
     "metadata": {},
     "output_type": "execute_result"
    }
   ],
   "source": [
    "b.__slots__"
   ]
  }
 ],
 "metadata": {
  "kernelspec": {
   "display_name": "Python 3",
   "language": "python",
   "name": "python3"
  },
  "language_info": {
   "codemirror_mode": {
    "name": "ipython",
    "version": 3
   },
   "file_extension": ".py",
   "mimetype": "text/x-python",
   "name": "python",
   "nbconvert_exporter": "python",
   "pygments_lexer": "ipython3",
   "version": "3.6.3"
  },
  "toc": {
   "nav_menu": {
    "height": "179px",
    "width": "492px"
   },
   "number_sections": true,
   "sideBar": false,
   "skip_h1_title": true,
   "title_cell": "Table of Contents",
   "title_sidebar": "Contents",
   "toc_cell": false,
   "toc_position": {},
   "toc_section_display": true,
   "toc_window_display": false
  }
 },
 "nbformat": 4,
 "nbformat_minor": 2
}
