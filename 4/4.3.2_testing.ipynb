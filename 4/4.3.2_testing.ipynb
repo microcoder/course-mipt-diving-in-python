{
 "cells": [
  {
   "cell_type": "markdown",
   "metadata": {},
   "source": [
    "# Тестирование\n",
    "\n",
    "Чтобы запустить тесты, необходимо воспользоваться модулем `unittest` которому указывается файл-тест. Файлы тестов должны запускаться из текущего каталога. Если будет попытка указать файл теста в подкаталоге, то это приведет к исключению `ValueError`:"
   ]
  },
  {
   "cell_type": "code",
   "execution_count": 45,
   "metadata": {},
   "outputs": [
    {
     "name": "stderr",
     "output_type": "stream",
     "text": [
      "Traceback (most recent call last):\n",
      "  File \"/usr/lib/python3.6/runpy.py\", line 193, in _run_module_as_main\n",
      "    \"__main__\", mod_spec)\n",
      "  File \"/usr/lib/python3.6/runpy.py\", line 85, in _run_code\n",
      "    exec(code, run_globals)\n",
      "  File \"/usr/lib/python3.6/unittest/__main__.py\", line 18, in <module>\n",
      "    main(module=None)\n",
      "  File \"/usr/lib/python3.6/unittest/main.py\", line 94, in __init__\n",
      "    self.parseArgs(argv)\n",
      "  File \"/usr/lib/python3.6/unittest/main.py\", line 141, in parseArgs\n",
      "    self.createTests()\n",
      "  File \"/usr/lib/python3.6/unittest/main.py\", line 148, in createTests\n",
      "    self.module)\n",
      "  File \"/usr/lib/python3.6/unittest/loader.py\", line 219, in loadTestsFromNames\n",
      "    suites = [self.loadTestsFromName(name, module) for name in names]\n",
      "  File \"/usr/lib/python3.6/unittest/loader.py\", line 219, in <listcomp>\n",
      "    suites = [self.loadTestsFromName(name, module) for name in names]\n",
      "  File \"/usr/lib/python3.6/unittest/loader.py\", line 153, in loadTestsFromName\n",
      "    module = __import__(module_name)\n",
      "ValueError: Empty module name\n"
     ]
    }
   ],
   "source": [
    "%%bash\n",
    "\n",
    "python3 -m unittest ./tests/test_python.py"
   ]
  },
  {
   "cell_type": "markdown",
   "metadata": {},
   "source": [
    "Установим текущий каталог с нашими тестами и запустим тест `test_python.py`:"
   ]
  },
  {
   "cell_type": "code",
   "execution_count": null,
   "metadata": {},
   "outputs": [],
   "source": [
    "# %load ./tests/test_python.py\n",
    "\n",
    "import unittest\n",
    "\n",
    "class TestPython(unittest.TestCase):\n",
    "\n",
    "    def test_float_to_int_coercion(self):\n",
    "        self.assertEqual(1, int(1.0))\n",
    "\n",
    "    def test_get_empty_dict(self):\n",
    "        self.assertIsNone({}.get('key'))\n",
    "\n",
    "    def test_trueness(self):\n",
    "        self.assertTrue(bool(10))\n"
   ]
  },
  {
   "cell_type": "code",
   "execution_count": 46,
   "metadata": {},
   "outputs": [
    {
     "name": "stderr",
     "output_type": "stream",
     "text": [
      "...\n",
      "----------------------------------------------------------------------\n",
      "Ran 3 tests in 0.000s\n",
      "\n",
      "OK\n"
     ]
    }
   ],
   "source": [
    "%%bash\n",
    "\n",
    "cd ./tests/\n",
    "python3 -m unittest test_python.py"
   ]
  },
  {
   "cell_type": "markdown",
   "metadata": {},
   "source": [
    "Как мы можем видеть, тест пройден успешно. Точки в самом начале вывода обозначают успешность прохождения каждой последующей функции в файл-тесте. В конце, под чертой, выводится общая информация и общий статус.\n",
    "\n",
    "Протестируем тест на деление:"
   ]
  },
  {
   "cell_type": "code",
   "execution_count": null,
   "metadata": {},
   "outputs": [],
   "source": [
    "# %load ./tests/test_division.py\n",
    "\n",
    "import unittest\n",
    "\n",
    "class TestDivision(unittest.TestCase):\n",
    "    def test_integer_division(self):\n",
    "        self.assertIs(10 / 5,2)\n"
   ]
  },
  {
   "cell_type": "code",
   "execution_count": 49,
   "metadata": {},
   "outputs": [
    {
     "name": "stderr",
     "output_type": "stream",
     "text": [
      "F\n",
      "======================================================================\n",
      "FAIL: test_integer_division (test_division.TestDivision)\n",
      "----------------------------------------------------------------------\n",
      "Traceback (most recent call last):\n",
      "  File \"/home/ubuntu/coursera/4/tests/test_division.py\", line 6, in test_integer_division\n",
      "    self.assertIs(10 / 5,2)\n",
      "AssertionError: 2.0 is not 2\n",
      "\n",
      "----------------------------------------------------------------------\n",
      "Ran 1 test in 0.000s\n",
      "\n",
      "FAILED (failures=1)\n"
     ]
    }
   ],
   "source": [
    "%%bash\n",
    "\n",
    "cd ./tests/\n",
    "python3 -m unittest test_division.py"
   ]
  },
  {
   "cell_type": "markdown",
   "metadata": {},
   "source": [
    "Как мы можем видеть, тест прошел неуспешно, произошло исключение (мы намеренно его создали для демонстрации ошибки).\n",
    "\n",
    "Сейчас мы напишем класс `Asteriod` который будет выходить в интернет и получать данные астероида 2099942 на сайте NASA."
   ]
  },
  {
   "cell_type": "code",
   "execution_count": 52,
   "metadata": {},
   "outputs": [
    {
     "name": "stdout",
     "output_type": "stream",
     "text": [
      "Name: 99942 Apophis (2004 MN4), Diameter: 682\n"
     ]
    }
   ],
   "source": [
    "import requests\n",
    "\n",
    "class Asteroid():\n",
    "    BASE_API_URL = 'https://api.nasa.gov/neo/rest/v1/neo/{}?api_key=DEMO_KEY'\n",
    "\n",
    "    def __init__(self, spk_id):\n",
    "        self.api_url = self.BASE_API_URL.format(spk_id)\n",
    "        self._data = None\n",
    "\n",
    "    def get_data(self):\n",
    "        if self._data is None:\n",
    "            self._data = requests.get(self.api_url).json()\n",
    "            # Выгрузка загруженных данных в файл формата JSON:\n",
    "            # import json\n",
    "            # with open('apophis_fixture.txt', 'w') as f:\n",
    "            #    f.write(json.dumps(self._data))\n",
    "        return self._data\n",
    "\n",
    "    @property\n",
    "    def name(self):\n",
    "        return self.get_data()['name']\n",
    "\n",
    "    @property\n",
    "    def diameter(self):\n",
    "        return int(self.get_data()['estimated_diameter']['meters']['estimated_diameter_max'])\n",
    "\n",
    "\n",
    "\n",
    "apophis = Asteroid(2099942)\n",
    "print('Name: {}, Diameter: {}'.format(apophis.name, apophis.diameter))"
   ]
  },
  {
   "cell_type": "markdown",
   "metadata": {},
   "source": [
    "Запустим нашу программу из консоли:"
   ]
  },
  {
   "cell_type": "code",
   "execution_count": 53,
   "metadata": {},
   "outputs": [
    {
     "name": "stdout",
     "output_type": "stream",
     "text": [
      "Name: 99942 Apophis (2004 MN4), Diameter: 682\n"
     ]
    }
   ],
   "source": [
    "%%bash\n",
    "\n",
    "python3 ./tests/asteroid.py"
   ]
  },
  {
   "cell_type": "markdown",
   "metadata": {},
   "source": [
    "В данном случае, наш класс выходит в интернет, другому классу возможно потребуется какой-то файл или другой ресурс. \n",
    "Что же делать, если на тестовой машине нет интернета или он медленный?  \n",
    "Напишем тест в файле `test_asteroid.py` для класса `Asteroid` в котором будем использовать механизм mock'ов:"
   ]
  },
  {
   "cell_type": "code",
   "execution_count": null,
   "metadata": {},
   "outputs": [],
   "source": [
    "# %load ./tests/test_asteroid.py\n",
    "import json\n",
    "import unittest\n",
    "from unittest.mock import patch\n",
    "from asteroid import Asteroid\n",
    "\n",
    "class TestAsteroid(unittest.TestCase):\n",
    "\n",
    "    def setUp(self):\n",
    "        self.asteroid = Asteroid(2099942)\n",
    "\n",
    "    def moscked_get_data(self):\n",
    "        # Данные были заранее выкачены и записаны в файл apophis_fixture.txt\n",
    "        with open('apophis_fixture.txt') as f:\n",
    "            return json.loads(f.read()) # Из файла считываем данные в объект JSON\n",
    "\n",
    "    # Здесь идет подмена оригинальной функции get_data на moscked_get_data механизмом Декоратора,\n",
    "    # которая возвращает данные не из интернета, а из заранее подготовленных данных\n",
    "    @patch('asteroid.Asteroid.get_data', moscked_get_data)\n",
    "    def test_name(self):\n",
    "        self.assertEqual(self.asteroid.name, '99942 Apophis (2004 MN4)')\n",
    "\n",
    "    # Здесь аналогично предыдущему методу, подменяется оригинальный метод\n",
    "    @patch('asteroid.Asteroid.get_data', moscked_get_data)\n",
    "    def test_diameter(self):\n",
    "        self.assertEqual(self.asteroid.diameter, 682)\n"
   ]
  },
  {
   "cell_type": "markdown",
   "metadata": {},
   "source": [
    "Вызовем тест:"
   ]
  },
  {
   "cell_type": "code",
   "execution_count": 57,
   "metadata": {},
   "outputs": [
    {
     "name": "stdout",
     "output_type": "stream",
     "text": [
      "Name: 99942 Apophis (2004 MN4), Diameter: 682\n"
     ]
    },
    {
     "name": "stderr",
     "output_type": "stream",
     "text": [
      "..\n",
      "----------------------------------------------------------------------\n",
      "Ran 2 tests in 0.005s\n",
      "\n",
      "OK\n"
     ]
    }
   ],
   "source": [
    "%%bash\n",
    "\n",
    "cd ./tests/\n",
    "python3 -m unittest test_asteroid.py"
   ]
  },
  {
   "cell_type": "markdown",
   "metadata": {},
   "source": [
    "Тест успешно пройден."
   ]
  }
 ],
 "metadata": {
  "kernelspec": {
   "display_name": "Python 3",
   "language": "python",
   "name": "python3"
  },
  "language_info": {
   "codemirror_mode": {
    "name": "ipython",
    "version": 3
   },
   "file_extension": ".py",
   "mimetype": "text/x-python",
   "name": "python",
   "nbconvert_exporter": "python",
   "pygments_lexer": "ipython3",
   "version": "3.6.3"
  }
 },
 "nbformat": 4,
 "nbformat_minor": 2
}
