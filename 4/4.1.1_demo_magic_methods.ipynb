{
 "cells": [
  {
   "cell_type": "markdown",
   "metadata": {},
   "source": [
    "# Демонстрация магических методов"
   ]
  },
  {
   "cell_type": "code",
   "execution_count": 1,
   "metadata": {},
   "outputs": [
    {
     "name": "stdout",
     "output_type": "stream",
     "text": [
      "Called: __new__(ClassA, ('value3',), {})\n",
      "Called: __init__(ClassA, ('value3',), {})\n",
      "Called: __setattr__(my_attr_a, value3)\n",
      "Called: __setattr__(my_container, [1, 2, 3, 4, 5])\n",
      "Called: __setattr__(my_current_iter, 0)\n",
      "Called: __new__(ClassA, ('value1',), {})\n",
      "Called: __init__(ClassA, ('value1',), {})\n",
      "Called: __setattr__(my_attr_a, value1)\n",
      "Called: __setattr__(my_container, [1, 2, 3, 4, 5])\n",
      "Called: __setattr__(my_current_iter, 0)\n",
      "Called: __new__(ClassB, ('value2',), {})\n",
      "Called: __init__(ClassB, ('value2',), {})\n",
      "Called: __setattr__(my_attr_a, value2)\n",
      "Called: __setattr__(my_container, [1, 2, 3, 4, 5])\n",
      "Called: __setattr__(my_current_iter, 0)\n",
      "Called: __new__(ClassB, ('value1',), {})\n",
      "Called: __init__(ClassB, ('value1',), {})\n",
      "Called: __setattr__(my_attr_a, value1)\n",
      "Called: __setattr__(my_container, [1, 2, 3, 4, 5])\n",
      "Called: __setattr__(my_current_iter, 0)\n"
     ]
    }
   ],
   "source": [
    "import os\n",
    "\n",
    "class ClassA():\n",
    "    \"\"\"Демонстрация поведения магических методов и атрибутов\"\"\"\n",
    "\n",
    "    def __new__(cls, *args, **kwargs):\n",
    "        obj = super().__new__(cls) # Возвращается созданный экземпляр класса object()\n",
    "        print('Called: __new__({}, {}, {})'.format(cls.__name__, args, kwargs))\n",
    "        return obj\n",
    "\n",
    "    def __init__(self, *args, **kwargs):\n",
    "        print('Called: __init__({}, {}, {})'.format(self.__class__.__name__, args, kwargs))\n",
    "        self.my_attr_a = args[0]\n",
    "        self.my_container = [1, 2, 3, 4, 5]\n",
    "        self.my_current_iter = 0\n",
    "\n",
    "    def __call__(self, value):\n",
    "        print('Called: __call__({}, {})'.format(self.__class__.__name__, value))\n",
    "        return value\n",
    "\n",
    "    # https://stackoverflow.com/questions/22616559/use-cases-for-property-vs-descriptor-vs-getattribute\n",
    "    # Магические геттеры/сеттеры атрибутов (__getattr__, __getattribute__, __setattr__, __delattr__)\n",
    "    #             vs\n",
    "    # Дескрипторы атрибутов (__get__, __set__, __delete__) и декоратор @property в частности\n",
    "    #\n",
    "    # Первый набор используется для ВСЕХ атрибутов экземпляра класса\n",
    "    # Второй набор используется конкретно для какого-то атрибута или метода\n",
    "\n",
    "    def __getattr__(self, name):\n",
    "        return 'Доступ к несуществующему атрибуту \"{}\"'.format(name)\n",
    "\n",
    "    def __getattribute__(self, name):\n",
    "        # print('Called: __getattribute__({})'.format(name))\n",
    "        return object.__getattribute__(self, name)\n",
    "\n",
    "    def __setattr__(self, name, value):\n",
    "        print('Called: __setattr__({}, {})'.format(name, value))\n",
    "        return object.__setattr__(self, name, value)\n",
    "\n",
    "    def __delattr__(self, name):\n",
    "        print('Called: __delattr__({})'.format(name))\n",
    "        object.__delattr__(self, name)\n",
    "\n",
    "    def __get__(self, obj, obj_type):\n",
    "        print('Called: __get__({}, {})'.format(obj.__class__.__name__, obj_type))\n",
    "        return\n",
    "\n",
    "    def __set__(self, obj, value):\n",
    "        print('Called: __set__({}, {})'.format(obj.__class__.__name__, value))\n",
    "\n",
    "    def __delete__(self, obj):\n",
    "        print('Called: __delete__({})'.format(obj.__class__.__name__))\n",
    "\n",
    "    def __getitem__(self, key):\n",
    "        print('Called: __getitem__({})'.format(key))\n",
    "        return self.my_container[key]\n",
    "\n",
    "    def __setitem__(self, key, value):\n",
    "        print('Called: __setitem__({}, {})'.format(key, value))\n",
    "        self.my_container[key] = '*' + str(value) + '*'\n",
    "\n",
    "    def __iter__(self):\n",
    "        print('Called: __iter__({})'.format(self.__class__.__name__))\n",
    "        return self\n",
    "\n",
    "    def __next__(self):\n",
    "        print('Called: __next__({})'.format(self.__class__.__name__))\n",
    "        \n",
    "        if self.my_current_iter >= len(self.my_container):\n",
    "            raise StopIteration\n",
    "        \n",
    "        result = self.my_container[self.my_current_iter]\n",
    "        self.my_current_iter += 1  # Увеличиваем и сохраняем текущее значение итерации\n",
    "        return result\n",
    "        \n",
    "\n",
    "    def __enter__(self):\n",
    "        print('Called: __enter__({})'.format(self.__class__.__name__))\n",
    "        return # Возвращается в переменную которая идет после ключевого слова as. В нее можно ничего возвращать\n",
    "\n",
    "    def __exit__(self, exc_type, exc_value, traceback):\n",
    "        print('Called: __exit__({}, {}, {}, {})'.format(self.__class__.__name__, exc_type, exc_value, traceback))\n",
    "        # Здесь может производится, например, закрытие файла\n",
    "        # или отлов исключения внутри блока with ... as ...\n",
    "        if exc_type:\n",
    "            print('Произошло исключение внутри блока with')\n",
    "            return True\n",
    "\n",
    "    def __add__(self, obj):\n",
    "        if isinstance(obj, ClassA):\n",
    "            result = self.my_attr_a + obj.my_attr_a\n",
    "        elif isinstance(obj, int):\n",
    "            result = self.my_attr_a + obj\n",
    "\n",
    "        return str(result) + ' bla-bla-bla' # Подмешиваем в результат всё что хотим\n",
    "\n",
    "    def __str__(self):\n",
    "        return '{}-{}'.format(self.__class__.__name__, str(self.my_container))\n",
    "\n",
    "    def __repr__(self):\n",
    "        return 'Экземпляр класса {}'.format(self.__class__.__name__)\n",
    "\n",
    "    def __hash__(self):\n",
    "        return hash(self.my_attr_a)\n",
    "\n",
    "    def __eq__(self, obj):\n",
    "        return self.my_attr_a == obj.my_attr_a\n",
    "\n",
    "    def __del__(self):\n",
    "        print('Called: __del__({}), Goodbye!'.format(self.__class__.__name__))\n",
    "\n",
    "    def myMethod(self, name='Vasya Pupkin'):\n",
    "        \"\"\"Это док строка метода myMethod\"\"\"\n",
    "\n",
    "###############################################################################################\n",
    "\n",
    "class ClassB(ClassA):\n",
    "    my_attr_b = ClassA('value3')\n",
    "\n",
    "objA = ClassA('value1')\n",
    "objB = ClassB('value2')\n",
    "objC = ClassB('value1')\n"
   ]
  },
  {
   "cell_type": "markdown",
   "metadata": {},
   "source": [
    "### Атрибут `__name__`  \n",
    "Возвращает имя модуля, класса или функции/метода:"
   ]
  },
  {
   "cell_type": "code",
   "execution_count": 2,
   "metadata": {},
   "outputs": [
    {
     "data": {
      "text/plain": [
       "'__main__'"
      ]
     },
     "execution_count": 2,
     "metadata": {},
     "output_type": "execute_result"
    }
   ],
   "source": [
    "__name__"
   ]
  },
  {
   "cell_type": "code",
   "execution_count": 3,
   "metadata": {},
   "outputs": [
    {
     "data": {
      "text/plain": [
       "'ClassA'"
      ]
     },
     "execution_count": 3,
     "metadata": {},
     "output_type": "execute_result"
    }
   ],
   "source": [
    "ClassA.__name__"
   ]
  },
  {
   "cell_type": "code",
   "execution_count": 4,
   "metadata": {},
   "outputs": [
    {
     "data": {
      "text/plain": [
       "'myMethod'"
      ]
     },
     "execution_count": 4,
     "metadata": {},
     "output_type": "execute_result"
    }
   ],
   "source": [
    "objA.myMethod.__name__"
   ]
  },
  {
   "cell_type": "markdown",
   "metadata": {},
   "source": [
    "### Атрибут `__module__`\n",
    "\n",
    "Возвращает имя модуля экземпляра класса:"
   ]
  },
  {
   "cell_type": "code",
   "execution_count": 5,
   "metadata": {},
   "outputs": [
    {
     "data": {
      "text/plain": [
       "'__main__'"
      ]
     },
     "execution_count": 5,
     "metadata": {},
     "output_type": "execute_result"
    }
   ],
   "source": [
    "objA.__module__"
   ]
  },
  {
   "cell_type": "markdown",
   "metadata": {},
   "source": [
    "### Атрибут `__class__`\n",
    "\n",
    "Возвращает имя типа (метакласса) модуля/класса/объекта:"
   ]
  },
  {
   "cell_type": "code",
   "execution_count": 6,
   "metadata": {},
   "outputs": [
    {
     "data": {
      "text/plain": [
       "module"
      ]
     },
     "execution_count": 6,
     "metadata": {},
     "output_type": "execute_result"
    }
   ],
   "source": [
    "os.__class__"
   ]
  },
  {
   "cell_type": "code",
   "execution_count": 7,
   "metadata": {},
   "outputs": [
    {
     "data": {
      "text/plain": [
       "type"
      ]
     },
     "execution_count": 7,
     "metadata": {},
     "output_type": "execute_result"
    }
   ],
   "source": [
    "ClassA.__class__"
   ]
  },
  {
   "cell_type": "code",
   "execution_count": 8,
   "metadata": {},
   "outputs": [
    {
     "data": {
      "text/plain": [
       "__main__.ClassA"
      ]
     },
     "execution_count": 8,
     "metadata": {},
     "output_type": "execute_result"
    }
   ],
   "source": [
    "objA.__class__"
   ]
  },
  {
   "cell_type": "markdown",
   "metadata": {},
   "source": [
    "### Атрибут `__bases__`\n",
    "\n",
    "Возвращает кортеж родительских классов:"
   ]
  },
  {
   "cell_type": "code",
   "execution_count": 9,
   "metadata": {},
   "outputs": [
    {
     "data": {
      "text/plain": [
       "(object,)"
      ]
     },
     "execution_count": 9,
     "metadata": {},
     "output_type": "execute_result"
    }
   ],
   "source": [
    "ClassA.__bases__"
   ]
  },
  {
   "cell_type": "code",
   "execution_count": 10,
   "metadata": {},
   "outputs": [
    {
     "data": {
      "text/plain": [
       "(__main__.ClassA,)"
      ]
     },
     "execution_count": 10,
     "metadata": {},
     "output_type": "execute_result"
    }
   ],
   "source": [
    "ClassB.__bases__"
   ]
  },
  {
   "cell_type": "markdown",
   "metadata": {},
   "source": [
    "### Метод `__subclasses__()`\n",
    "\n",
    "Возвращает список дочерних классов:"
   ]
  },
  {
   "cell_type": "code",
   "execution_count": 11,
   "metadata": {},
   "outputs": [
    {
     "data": {
      "text/plain": [
       "[__main__.ClassB]"
      ]
     },
     "execution_count": 11,
     "metadata": {},
     "output_type": "execute_result"
    }
   ],
   "source": [
    "ClassA.__subclasses__()"
   ]
  },
  {
   "cell_type": "code",
   "execution_count": 12,
   "metadata": {},
   "outputs": [
    {
     "data": {
      "text/plain": [
       "[]"
      ]
     },
     "execution_count": 12,
     "metadata": {},
     "output_type": "execute_result"
    }
   ],
   "source": [
    "ClassB.__subclasses__()"
   ]
  },
  {
   "cell_type": "markdown",
   "metadata": {},
   "source": [
    "### Атрибут `__mro__`\n",
    "\n",
    "MRO - **M**ethod **R**esolution **O**rder\n",
    "\n",
    "Возвращает список иерархии классов (наследование):"
   ]
  },
  {
   "cell_type": "code",
   "execution_count": 13,
   "metadata": {},
   "outputs": [
    {
     "data": {
      "text/plain": [
       "(__main__.ClassA, object)"
      ]
     },
     "execution_count": 13,
     "metadata": {},
     "output_type": "execute_result"
    }
   ],
   "source": [
    "ClassA.__mro__"
   ]
  },
  {
   "cell_type": "code",
   "execution_count": 14,
   "metadata": {},
   "outputs": [
    {
     "data": {
      "text/plain": [
       "(__main__.ClassB, __main__.ClassA, object)"
      ]
     },
     "execution_count": 14,
     "metadata": {},
     "output_type": "execute_result"
    }
   ],
   "source": [
    "ClassB.__mro__"
   ]
  },
  {
   "cell_type": "markdown",
   "metadata": {},
   "source": [
    "### Атрибут `__doc__`\n",
    "\n",
    "Возвращает документацию модуля/класса/метода:"
   ]
  },
  {
   "cell_type": "code",
   "execution_count": 15,
   "metadata": {},
   "outputs": [
    {
     "data": {
      "text/plain": [
       "'Демонстрация поведения магических методов и атрибутов'"
      ]
     },
     "execution_count": 15,
     "metadata": {},
     "output_type": "execute_result"
    }
   ],
   "source": [
    "ClassA.__doc__"
   ]
  },
  {
   "cell_type": "code",
   "execution_count": 16,
   "metadata": {},
   "outputs": [
    {
     "data": {
      "text/plain": [
       "'Демонстрация поведения магических методов и атрибутов'"
      ]
     },
     "execution_count": 16,
     "metadata": {},
     "output_type": "execute_result"
    }
   ],
   "source": [
    "objA.__doc__"
   ]
  },
  {
   "cell_type": "code",
   "execution_count": 17,
   "metadata": {},
   "outputs": [
    {
     "data": {
      "text/plain": [
       "'Это док строка метода myMethod'"
      ]
     },
     "execution_count": 17,
     "metadata": {},
     "output_type": "execute_result"
    }
   ],
   "source": [
    "objA.myMethod.__doc__"
   ]
  },
  {
   "cell_type": "markdown",
   "metadata": {},
   "source": [
    "### Метод `__str__()`\n",
    "\n",
    "Возвращает текстовое представление объекта. Также существует встроенная функция `str()`:"
   ]
  },
  {
   "cell_type": "code",
   "execution_count": 18,
   "metadata": {},
   "outputs": [
    {
     "data": {
      "text/plain": [
       "'ClassA-[1, 2, 3, 4, 5]'"
      ]
     },
     "execution_count": 18,
     "metadata": {},
     "output_type": "execute_result"
    }
   ],
   "source": [
    "objA.__str__()"
   ]
  },
  {
   "cell_type": "code",
   "execution_count": 19,
   "metadata": {},
   "outputs": [
    {
     "data": {
      "text/plain": [
       "'ClassA-[1, 2, 3, 4, 5]'"
      ]
     },
     "execution_count": 19,
     "metadata": {},
     "output_type": "execute_result"
    }
   ],
   "source": [
    "str(objA)"
   ]
  },
  {
   "cell_type": "markdown",
   "metadata": {},
   "source": [
    "### Метод `__repr__()`\n",
    "\n",
    "Возвращает текстовое представление объекта в структурах данных (списки, словари и т.д.). Также существует встроенная функция `repr()`:"
   ]
  },
  {
   "cell_type": "code",
   "execution_count": 20,
   "metadata": {},
   "outputs": [
    {
     "data": {
      "text/plain": [
       "[Экземпляр класса ClassA, Экземпляр класса ClassB, Экземпляр класса ClassA]"
      ]
     },
     "execution_count": 20,
     "metadata": {},
     "output_type": "execute_result"
    }
   ],
   "source": [
    "[objA, objB, objA ]"
   ]
  },
  {
   "cell_type": "code",
   "execution_count": 21,
   "metadata": {},
   "outputs": [
    {
     "data": {
      "text/plain": [
       "'Экземпляр класса ClassA'"
      ]
     },
     "execution_count": 21,
     "metadata": {},
     "output_type": "execute_result"
    }
   ],
   "source": [
    "repr(objA)"
   ]
  },
  {
   "cell_type": "markdown",
   "metadata": {},
   "source": [
    "### Метод `__dir__()`\n",
    "\n",
    "Возвращает список методов класса. Также существует встроенная функция `dir()`:"
   ]
  },
  {
   "cell_type": "code",
   "execution_count": 22,
   "metadata": {},
   "outputs": [
    {
     "data": {
      "text/plain": [
       "['my_attr_a',\n",
       " 'my_container',\n",
       " 'my_current_iter',\n",
       " '__module__',\n",
       " '__doc__',\n",
       " '__new__',\n",
       " '__init__',\n",
       " '__call__',\n",
       " '__getattr__',\n",
       " '__getattribute__',\n",
       " '__setattr__',\n",
       " '__delattr__',\n",
       " '__get__',\n",
       " '__set__',\n",
       " '__delete__',\n",
       " '__getitem__',\n",
       " '__setitem__',\n",
       " '__iter__',\n",
       " '__next__',\n",
       " '__enter__',\n",
       " '__exit__',\n",
       " '__add__',\n",
       " '__str__',\n",
       " '__repr__',\n",
       " '__hash__',\n",
       " '__eq__',\n",
       " '__del__',\n",
       " 'myMethod',\n",
       " '__dict__',\n",
       " '__weakref__',\n",
       " '__lt__',\n",
       " '__le__',\n",
       " '__ne__',\n",
       " '__gt__',\n",
       " '__ge__',\n",
       " '__reduce_ex__',\n",
       " '__reduce__',\n",
       " '__subclasshook__',\n",
       " '__init_subclass__',\n",
       " '__format__',\n",
       " '__sizeof__',\n",
       " '__dir__',\n",
       " '__class__']"
      ]
     },
     "execution_count": 22,
     "metadata": {},
     "output_type": "execute_result"
    }
   ],
   "source": [
    "objA.__dir__()"
   ]
  },
  {
   "cell_type": "code",
   "execution_count": 23,
   "metadata": {},
   "outputs": [
    {
     "data": {
      "text/plain": [
       "['__add__',\n",
       " '__call__',\n",
       " '__class__',\n",
       " '__del__',\n",
       " '__delattr__',\n",
       " '__delete__',\n",
       " '__dict__',\n",
       " '__dir__',\n",
       " '__doc__',\n",
       " '__enter__',\n",
       " '__eq__',\n",
       " '__exit__',\n",
       " '__format__',\n",
       " '__ge__',\n",
       " '__get__',\n",
       " '__getattr__',\n",
       " '__getattribute__',\n",
       " '__getitem__',\n",
       " '__gt__',\n",
       " '__hash__',\n",
       " '__init__',\n",
       " '__init_subclass__',\n",
       " '__iter__',\n",
       " '__le__',\n",
       " '__lt__',\n",
       " '__module__',\n",
       " '__ne__',\n",
       " '__new__',\n",
       " '__next__',\n",
       " '__reduce__',\n",
       " '__reduce_ex__',\n",
       " '__repr__',\n",
       " '__set__',\n",
       " '__setattr__',\n",
       " '__setitem__',\n",
       " '__sizeof__',\n",
       " '__str__',\n",
       " '__subclasshook__',\n",
       " '__weakref__',\n",
       " 'myMethod']"
      ]
     },
     "execution_count": 23,
     "metadata": {},
     "output_type": "execute_result"
    }
   ],
   "source": [
    "dir(ClassA)"
   ]
  },
  {
   "cell_type": "markdown",
   "metadata": {},
   "source": [
    "### Атрибут `__defaults__`\n",
    "\n",
    "Возвращает кортеж дефолтных значений атрибутов функции/метода:"
   ]
  },
  {
   "cell_type": "code",
   "execution_count": 24,
   "metadata": {},
   "outputs": [
    {
     "data": {
      "text/plain": [
       "('Vasya Pupkin',)"
      ]
     },
     "execution_count": 24,
     "metadata": {},
     "output_type": "execute_result"
    }
   ],
   "source": [
    "objA.myMethod.__defaults__"
   ]
  },
  {
   "cell_type": "markdown",
   "metadata": {},
   "source": [
    "### Атрибут `__slots__`\n",
    "\n",
    "Атрибут позволяет держать ограниченный набор атрибутов объекта."
   ]
  },
  {
   "cell_type": "code",
   "execution_count": 25,
   "metadata": {},
   "outputs": [
    {
     "data": {
      "text/plain": [
       "'Доступ к несуществующему атрибуту \"__slots__\"'"
      ]
     },
     "execution_count": 25,
     "metadata": {},
     "output_type": "execute_result"
    }
   ],
   "source": [
    "objA.__slots__"
   ]
  },
  {
   "cell_type": "markdown",
   "metadata": {},
   "source": [
    "### Атрибут `__dict__`\n",
    "\n",
    "Возвращает словарь атрибутов/методов и их значений класса/объекта:"
   ]
  },
  {
   "cell_type": "code",
   "execution_count": 26,
   "metadata": {},
   "outputs": [
    {
     "data": {
      "text/plain": [
       "mappingproxy({'__add__': <function __main__.ClassA.__add__>,\n",
       "              '__call__': <function __main__.ClassA.__call__>,\n",
       "              '__del__': <function __main__.ClassA.__del__>,\n",
       "              '__delattr__': <function __main__.ClassA.__delattr__>,\n",
       "              '__delete__': <function __main__.ClassA.__delete__>,\n",
       "              '__dict__': <attribute '__dict__' of 'ClassA' objects>,\n",
       "              '__doc__': 'Демонстрация поведения магических методов и атрибутов',\n",
       "              '__enter__': <function __main__.ClassA.__enter__>,\n",
       "              '__eq__': <function __main__.ClassA.__eq__>,\n",
       "              '__exit__': <function __main__.ClassA.__exit__>,\n",
       "              '__get__': <function __main__.ClassA.__get__>,\n",
       "              '__getattr__': <function __main__.ClassA.__getattr__>,\n",
       "              '__getattribute__': <function __main__.ClassA.__getattribute__>,\n",
       "              '__getitem__': <function __main__.ClassA.__getitem__>,\n",
       "              '__hash__': <function __main__.ClassA.__hash__>,\n",
       "              '__init__': <function __main__.ClassA.__init__>,\n",
       "              '__iter__': <function __main__.ClassA.__iter__>,\n",
       "              '__module__': '__main__',\n",
       "              '__new__': <staticmethod at 0x7fe638fea3c8>,\n",
       "              '__next__': <function __main__.ClassA.__next__>,\n",
       "              '__repr__': <function __main__.ClassA.__repr__>,\n",
       "              '__set__': <function __main__.ClassA.__set__>,\n",
       "              '__setattr__': <function __main__.ClassA.__setattr__>,\n",
       "              '__setitem__': <function __main__.ClassA.__setitem__>,\n",
       "              '__str__': <function __main__.ClassA.__str__>,\n",
       "              '__weakref__': <attribute '__weakref__' of 'ClassA' objects>,\n",
       "              'myMethod': <function __main__.ClassA.myMethod>})"
      ]
     },
     "execution_count": 26,
     "metadata": {},
     "output_type": "execute_result"
    }
   ],
   "source": [
    "ClassA.__dict__"
   ]
  },
  {
   "cell_type": "code",
   "execution_count": 27,
   "metadata": {},
   "outputs": [
    {
     "data": {
      "text/plain": [
       "{'my_attr_a': 'value1', 'my_container': [1, 2, 3, 4, 5], 'my_current_iter': 0}"
      ]
     },
     "execution_count": 27,
     "metadata": {},
     "output_type": "execute_result"
    }
   ],
   "source": [
    "objA.__dict__"
   ]
  },
  {
   "cell_type": "markdown",
   "metadata": {},
   "source": [
    "### Атрибут `__file__`\n",
    "\n",
    "Возвращает путь к файлу класса в котором вызван атрибут:"
   ]
  },
  {
   "cell_type": "code",
   "execution_count": 28,
   "metadata": {},
   "outputs": [
    {
     "data": {
      "text/plain": [
       "'/usr/lib/python3.6/os.py'"
      ]
     },
     "execution_count": 28,
     "metadata": {},
     "output_type": "execute_result"
    }
   ],
   "source": [
    "os.__file__"
   ]
  },
  {
   "cell_type": "markdown",
   "metadata": {},
   "source": [
    "### Метод `__hash__()`\n",
    "\n",
    "Реализует функцию хеширования которая используется, например, когда мы получаем ключи в словаре. Также существует встроенная функция `hash()`:"
   ]
  },
  {
   "cell_type": "code",
   "execution_count": 29,
   "metadata": {},
   "outputs": [
    {
     "data": {
      "text/plain": [
       "-3639271227474053404"
      ]
     },
     "execution_count": 29,
     "metadata": {},
     "output_type": "execute_result"
    }
   ],
   "source": [
    "objA.__hash__()"
   ]
  },
  {
   "cell_type": "code",
   "execution_count": 30,
   "metadata": {},
   "outputs": [
    {
     "data": {
      "text/plain": [
       "-3639271227474053404"
      ]
     },
     "execution_count": 30,
     "metadata": {},
     "output_type": "execute_result"
    }
   ],
   "source": [
    "hash(objA)"
   ]
  },
  {
   "cell_type": "markdown",
   "metadata": {},
   "source": [
    "### Метод `__eq__()`\n",
    "\n",
    "Метод реализует сравнение объектов. Переопределяет оператор `==`"
   ]
  },
  {
   "cell_type": "code",
   "execution_count": 31,
   "metadata": {},
   "outputs": [
    {
     "data": {
      "text/plain": [
       "True"
      ]
     },
     "execution_count": 31,
     "metadata": {},
     "output_type": "execute_result"
    }
   ],
   "source": [
    "objA.__eq__(objA)"
   ]
  },
  {
   "cell_type": "code",
   "execution_count": 32,
   "metadata": {},
   "outputs": [
    {
     "data": {
      "text/plain": [
       "True"
      ]
     },
     "execution_count": 32,
     "metadata": {},
     "output_type": "execute_result"
    }
   ],
   "source": [
    "objA == objA"
   ]
  },
  {
   "cell_type": "code",
   "execution_count": 33,
   "metadata": {},
   "outputs": [
    {
     "data": {
      "text/plain": [
       "False"
      ]
     },
     "execution_count": 33,
     "metadata": {},
     "output_type": "execute_result"
    }
   ],
   "source": [
    "objA == objB"
   ]
  },
  {
   "cell_type": "code",
   "execution_count": 34,
   "metadata": {},
   "outputs": [
    {
     "data": {
      "text/plain": [
       "True"
      ]
     },
     "execution_count": 34,
     "metadata": {},
     "output_type": "execute_result"
    }
   ],
   "source": [
    "objA == objC"
   ]
  },
  {
   "cell_type": "markdown",
   "metadata": {},
   "source": [
    "### Метод `__getattr__()`\n",
    "\n",
    "Метод вызывается при доступе к несуществующему атрибуту экземпляра класса:"
   ]
  },
  {
   "cell_type": "code",
   "execution_count": 35,
   "metadata": {},
   "outputs": [
    {
     "data": {
      "text/plain": [
       "'Доступ к несуществующему атрибуту \"notfound\"'"
      ]
     },
     "execution_count": 35,
     "metadata": {},
     "output_type": "execute_result"
    }
   ],
   "source": [
    "objA.notfound"
   ]
  },
  {
   "cell_type": "markdown",
   "metadata": {},
   "source": [
    "### Метод `__getattribute__()`\n",
    "\n",
    "Метод вызывается при доступе к либому атрибуту экземпляра класса."
   ]
  },
  {
   "cell_type": "code",
   "execution_count": 36,
   "metadata": {},
   "outputs": [
    {
     "data": {
      "text/plain": [
       "'value1'"
      ]
     },
     "execution_count": 36,
     "metadata": {},
     "output_type": "execute_result"
    }
   ],
   "source": [
    "objA.my_attr_a"
   ]
  },
  {
   "cell_type": "markdown",
   "metadata": {},
   "source": [
    "### Метод `__setattr__()`\n",
    "\n",
    "Метод вызывается при присваивании значения любому атрибуту экземпляра класса:"
   ]
  },
  {
   "cell_type": "code",
   "execution_count": 37,
   "metadata": {},
   "outputs": [
    {
     "name": "stdout",
     "output_type": "stream",
     "text": [
      "Called: __setattr__(my_attr_a, 100)\n"
     ]
    }
   ],
   "source": [
    "objA.my_attr_a = 100"
   ]
  },
  {
   "cell_type": "markdown",
   "metadata": {},
   "source": [
    "### Дескриптор. Метод `__get__()`\n",
    "\n",
    "Метод определяет поведение при доступе к объекту как к атрибуту другого класса. Здесь `my_attr_b` это экземпляр класса `ClassA`:"
   ]
  },
  {
   "cell_type": "code",
   "execution_count": 38,
   "metadata": {},
   "outputs": [
    {
     "name": "stdout",
     "output_type": "stream",
     "text": [
      "Called: __get__(ClassB, <class '__main__.ClassB'>)\n"
     ]
    }
   ],
   "source": [
    "objB.my_attr_b"
   ]
  },
  {
   "cell_type": "markdown",
   "metadata": {},
   "source": [
    "### Дескиптор. Метод `__set__()`\n",
    "\n",
    "Метод определяет поведение при изменении объекта как атрибута другого класса."
   ]
  },
  {
   "cell_type": "code",
   "execution_count": 39,
   "metadata": {},
   "outputs": [
    {
     "name": "stdout",
     "output_type": "stream",
     "text": [
      "Called: __setattr__(my_attr_b, 200)\n",
      "Called: __set__(ClassB, 200)\n"
     ]
    }
   ],
   "source": [
    "objB.my_attr_b = 200"
   ]
  },
  {
   "cell_type": "markdown",
   "metadata": {},
   "source": [
    "### Дескиптор. Метод `__delete__()`\n",
    "\n",
    "Метод определяет поведение при удалении объекта как атрибута другого класса."
   ]
  },
  {
   "cell_type": "code",
   "execution_count": 40,
   "metadata": {},
   "outputs": [
    {
     "name": "stdout",
     "output_type": "stream",
     "text": [
      "Called: __delattr__(my_attr_b)\n",
      "Called: __delete__(ClassB)\n"
     ]
    }
   ],
   "source": [
    "del objB.my_attr_b"
   ]
  },
  {
   "cell_type": "markdown",
   "metadata": {},
   "source": [
    "### Метод `__call__()`\n",
    "\n",
    "Метод используется при вызове экземпляра класса, а не самого класса. Используется, например, декораторами: @mydecorator(something)"
   ]
  },
  {
   "cell_type": "code",
   "execution_count": 41,
   "metadata": {},
   "outputs": [
    {
     "name": "stdout",
     "output_type": "stream",
     "text": [
      "Called: __call__(ClassA, 100)\n"
     ]
    },
    {
     "data": {
      "text/plain": [
       "100"
      ]
     },
     "execution_count": 41,
     "metadata": {},
     "output_type": "execute_result"
    }
   ],
   "source": [
    "objA(100)"
   ]
  },
  {
   "cell_type": "markdown",
   "metadata": {},
   "source": [
    "### Метод `__add__()`\n",
    "\n",
    "Метод реализует поведение сложения объектов. Переопределение оператора `+`:"
   ]
  },
  {
   "cell_type": "code",
   "execution_count": 42,
   "metadata": {},
   "outputs": [
    {
     "data": {
      "text/plain": [
       "'155 bla-bla-bla'"
      ]
     },
     "execution_count": 42,
     "metadata": {},
     "output_type": "execute_result"
    }
   ],
   "source": [
    "objA.__add__(55)"
   ]
  },
  {
   "cell_type": "code",
   "execution_count": 43,
   "metadata": {},
   "outputs": [
    {
     "data": {
      "text/plain": [
       "'101 bla-bla-bla'"
      ]
     },
     "execution_count": 43,
     "metadata": {},
     "output_type": "execute_result"
    }
   ],
   "source": [
    "objA + 1"
   ]
  },
  {
   "cell_type": "markdown",
   "metadata": {},
   "source": [
    "### Метод `__setitem__()`\n",
    "\n",
    "Переопределение оператора `[]`. Метод определяет поведение объекта при присваивании значения по индексу или ключу - `obj[key] = value`:"
   ]
  },
  {
   "cell_type": "code",
   "execution_count": 44,
   "metadata": {},
   "outputs": [
    {
     "name": "stdout",
     "output_type": "stream",
     "text": [
      "Called: __setitem__(0, 10)\n"
     ]
    }
   ],
   "source": [
    "objA[0] = 10"
   ]
  },
  {
   "cell_type": "code",
   "execution_count": 45,
   "metadata": {},
   "outputs": [
    {
     "data": {
      "text/plain": [
       "['*10*', 2, 3, 4, 5]"
      ]
     },
     "execution_count": 45,
     "metadata": {},
     "output_type": "execute_result"
    }
   ],
   "source": [
    "objA.my_container"
   ]
  },
  {
   "cell_type": "markdown",
   "metadata": {},
   "source": [
    "### Метод `__getitem__()`\n",
    "\n",
    "Переопределение оператора `[]`. Метод определяет поведение объекта при доступе к значению по индексу или ключу - `obj[key]`:"
   ]
  },
  {
   "cell_type": "code",
   "execution_count": 46,
   "metadata": {},
   "outputs": [
    {
     "name": "stdout",
     "output_type": "stream",
     "text": [
      "Called: __getitem__(0)\n"
     ]
    },
    {
     "data": {
      "text/plain": [
       "'*10*'"
      ]
     },
     "execution_count": 46,
     "metadata": {},
     "output_type": "execute_result"
    }
   ],
   "source": [
    "objA[0]"
   ]
  },
  {
   "cell_type": "code",
   "execution_count": 47,
   "metadata": {},
   "outputs": [
    {
     "data": {
      "text/plain": [
       "['*10*', 2, 3, 4, 5]"
      ]
     },
     "execution_count": 47,
     "metadata": {},
     "output_type": "execute_result"
    }
   ],
   "source": [
    "objA.my_container"
   ]
  },
  {
   "cell_type": "markdown",
   "metadata": {},
   "source": [
    "### Методы `__iter__()` и `__next__()`\n",
    "\n",
    "Методы опеределяют объект по которому будет проводиться итерирация и указатель на следующий элемент итерации. Также существует встроенные функции `iter()` и `next()`."
   ]
  },
  {
   "cell_type": "code",
   "execution_count": 48,
   "metadata": {},
   "outputs": [
    {
     "name": "stdout",
     "output_type": "stream",
     "text": [
      "Called: __iter__(ClassA)\n",
      "Called: __next__(ClassA)\n",
      "Called: __setattr__(my_current_iter, 1)\n",
      "i = *10*\n",
      "Called: __next__(ClassA)\n",
      "Called: __setattr__(my_current_iter, 2)\n",
      "i = 2\n",
      "Called: __next__(ClassA)\n",
      "Called: __setattr__(my_current_iter, 3)\n",
      "i = 3\n",
      "Called: __next__(ClassA)\n",
      "Called: __setattr__(my_current_iter, 4)\n",
      "i = 4\n",
      "Called: __next__(ClassA)\n",
      "Called: __setattr__(my_current_iter, 5)\n",
      "i = 5\n",
      "Called: __next__(ClassA)\n"
     ]
    }
   ],
   "source": [
    "for i in objA:\n",
    "    print('i =', i)"
   ]
  },
  {
   "cell_type": "markdown",
   "metadata": {},
   "source": [
    "### Методы `__enter__()` и `__exit__()`\n",
    "\n",
    "Контекстный менеджер. Методы определяют вход и выход из контекстного менеджера `with ... as ...`."
   ]
  },
  {
   "cell_type": "code",
   "execution_count": 49,
   "metadata": {},
   "outputs": [
    {
     "name": "stdout",
     "output_type": "stream",
     "text": [
      "Called: __enter__(ClassA)\n",
      "Вошли в блок контекстного менеджера\n",
      "Called: __exit__(ClassA, None, None, None)\n"
     ]
    }
   ],
   "source": [
    "with objA as a:\n",
    "    print('Вошли в блок контекстного менеджера')"
   ]
  }
 ],
 "metadata": {
  "kernelspec": {
   "display_name": "Python 3",
   "language": "python",
   "name": "python3"
  },
  "language_info": {
   "codemirror_mode": {
    "name": "ipython",
    "version": 3
   },
   "file_extension": ".py",
   "mimetype": "text/x-python",
   "name": "python",
   "nbconvert_exporter": "python",
   "pygments_lexer": "ipython3",
   "version": "3.6.3"
  }
 },
 "nbformat": 4,
 "nbformat_minor": 2
}
