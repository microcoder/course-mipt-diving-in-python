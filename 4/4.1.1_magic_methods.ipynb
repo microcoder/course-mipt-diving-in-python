{
 "cells": [
  {
   "cell_type": "markdown",
   "metadata": {},
   "source": [
    "# Магические методы\n",
    "\n",
    "Магический метод, это метод определенный в классе, который начинается и заканчивается с двух подчеркиваний:  \n",
    "https://docs.python.org/3/reference/datamodel.html"
   ]
  },
  {
   "cell_type": "markdown",
   "metadata": {},
   "source": [
    "## Методы `__new__`, `__init__`, `__str__`, `__hash__`, `__eq__`"
   ]
  },
  {
   "cell_type": "code",
   "execution_count": 1,
   "metadata": {},
   "outputs": [],
   "source": [
    "class User():\n",
    "\n",
    "    # Конструктор класса. Метод переопределяет момент создания объекта класса\n",
    "    def __new__(cls, *args, **kwargs):\n",
    "        return super().__new__(cls) # Возвращаем созданный экземпляр класса\n",
    "\n",
    "    # Метод переопределяет инициализацию объекта\n",
    "    def __init__(self, name, email):\n",
    "        self.name = name\n",
    "        self.email = email\n",
    "\n",
    "    # Метод переопределяет строковое представление класса\n",
    "    def __str__(self):\n",
    "        return '{} <{}>'.format(self.name, self.email)\n",
    "\n",
    "    # Метод переопределяет функцию хеширования которая используется, например,\n",
    "    # когда мы получаем ключи в словаре.\n",
    "    def __hash__(self):\n",
    "        return hash(self.email)\n",
    "\n",
    "    # Метод переопределяет и реализует оператор == (equals)\n",
    "    def __eq__(self, obj):\n",
    "        # Сравниваем по атрибуту email, если они равны, то считаем, что и объекты в целом равны:\n",
    "        return self.email == obj.email\n",
    "\n",
    "\n",
    "\n",
    "jane = User('Jane Doe', 'janedoe@example.com')\n",
    "joe = User('Joe Doe', 'janedoe@example.com')"
   ]
  },
  {
   "cell_type": "markdown",
   "metadata": {},
   "source": [
    "Переопределен оператор `==` или магический метод `__eq__()`, поэтому мы можем сравнивать объекты:"
   ]
  },
  {
   "cell_type": "code",
   "execution_count": 2,
   "metadata": {},
   "outputs": [
    {
     "name": "stdout",
     "output_type": "stream",
     "text": [
      "jane == joe? True\n"
     ]
    }
   ],
   "source": [
    "print('jane == joe?', jane == joe)"
   ]
  },
  {
   "cell_type": "markdown",
   "metadata": {},
   "source": [
    "Оба объекта имеют одинаковый хеш, потому что он вычисляется только по атрибуту `email`:"
   ]
  },
  {
   "cell_type": "code",
   "execution_count": 3,
   "metadata": {},
   "outputs": [
    {
     "name": "stdout",
     "output_type": "stream",
     "text": [
      "hash(jane) = 4589294839918257202\n",
      "hash(joe)  = 4589294839918257202\n"
     ]
    }
   ],
   "source": [
    "print('hash(jane) =', hash(jane))\n",
    "print('hash(joe)  =', hash(joe))"
   ]
  },
  {
   "cell_type": "markdown",
   "metadata": {},
   "source": [
    "Попробуем добавить объекты `jane` и `joe` в обычный словарь:"
   ]
  },
  {
   "cell_type": "code",
   "execution_count": 4,
   "metadata": {},
   "outputs": [
    {
     "data": {
      "text/plain": [
       "{__main__.User: 'Joe Doe'}"
      ]
     },
     "execution_count": 4,
     "metadata": {},
     "output_type": "execute_result"
    }
   ],
   "source": [
    "{user.__class__: user.name for user in [jane, joe]}"
   ]
  },
  {
   "cell_type": "markdown",
   "metadata": {},
   "source": [
    "В словаре только один _последний_ добавленный объект! Потому, что в словаре элементы хранятся по уникальным хешам, а объекты `jane` и `joe` имеют одинаковый хеш!"
   ]
  },
  {
   "cell_type": "markdown",
   "metadata": {},
   "source": [
    "## Метод `__new__` и шаблон `singleton`\n",
    "\n",
    "Магический метод `__new__` отвечает за момент создания объекта класса.\n",
    "\n",
    "Создадим класс который будет всегда возвращать ссылку на единственный экземпляр класса. Переменные `a` и `b` будут ссылаться на один и тот же экземпляр класса:"
   ]
  },
  {
   "cell_type": "code",
   "execution_count": 5,
   "metadata": {},
   "outputs": [
    {
     "name": "stdout",
     "output_type": "stream",
     "text": [
      "a is b? True\n"
     ]
    }
   ],
   "source": [
    "class Singleton():\n",
    "    instance = None\n",
    "\n",
    "    def __new__(cls):\n",
    "        if cls.instance is None:\n",
    "            cls.instance = super().__new__(cls)\n",
    "        return cls.instance\n",
    "\n",
    "a = Singleton()\n",
    "b = Singleton()\n",
    "\n",
    "print('a is b?', a is b)"
   ]
  },
  {
   "cell_type": "markdown",
   "metadata": {},
   "source": [
    "## Методы `__getattr__`, `__getattribute__`, `__setattr__`, `__delattr__`"
   ]
  },
  {
   "cell_type": "code",
   "execution_count": 6,
   "metadata": {},
   "outputs": [],
   "source": [
    "class Researcher():\n",
    "\n",
    "    # Метод вызывается при получении несуществующего атрибута\n",
    "    def __getattr__(self, name):\n",
    "        print('INFO: Доступ к несуществующему атрибуту \"{}\"'.format(name))\n",
    "\n",
    "    # Метод вызывается при обращении к либому атрибуту, в том числе к несуществующему\n",
    "    def __getattribute__(self, name):\n",
    "        print('INFO: Доступ к атрибуту \"{}\"'.format(name))\n",
    "        return object.__getattribute__(self, name)\n",
    "\n",
    "    # Метод вызывается при присваивании значения атрибуту\n",
    "    def __setattr__(self, name, value):\n",
    "        print('INFO: Устанавливается значение \"{}\" атрибуту \"{}\"'.format(value, name))\n",
    "        return object.__setattr__(self, name, value)\n",
    "\n",
    "    # Метод вызывается при удалении атрибута\n",
    "    def __delattr__(self, name):\n",
    "        value = getattr(self, name)\n",
    "        print('INFO: Удаляется атрибут \"{}\" со значением \"{}\"'.format(name, value))\n",
    "        object.__delattr__(self, name)\n",
    "\n",
    "\n",
    "\n",
    "obj = Researcher()"
   ]
  },
  {
   "cell_type": "code",
   "execution_count": 7,
   "metadata": {},
   "outputs": [
    {
     "name": "stdout",
     "output_type": "stream",
     "text": [
      "INFO: Доступ к атрибуту \"attr\"\n",
      "INFO: Доступ к несуществующему атрибуту \"attr\"\n"
     ]
    }
   ],
   "source": [
    "obj.attr # Доступ к несуществующему атрибуту"
   ]
  },
  {
   "cell_type": "code",
   "execution_count": 8,
   "metadata": {},
   "outputs": [
    {
     "name": "stdout",
     "output_type": "stream",
     "text": [
      "INFO: Доступ к атрибуту \"method\"\n",
      "INFO: Доступ к несуществующему атрибуту \"method\"\n"
     ]
    },
    {
     "ename": "TypeError",
     "evalue": "'NoneType' object is not callable",
     "output_type": "error",
     "traceback": [
      "\u001b[0;31m---------------------------------------------------------------------------\u001b[0m",
      "\u001b[0;31mTypeError\u001b[0m                                 Traceback (most recent call last)",
      "\u001b[0;32m<ipython-input-8-adebf4dcdfd4>\u001b[0m in \u001b[0;36m<module>\u001b[0;34m()\u001b[0m\n\u001b[0;32m----> 1\u001b[0;31m \u001b[0mobj\u001b[0m\u001b[0;34m.\u001b[0m\u001b[0mmethod\u001b[0m\u001b[0;34m(\u001b[0m\u001b[0;34m)\u001b[0m \u001b[0;31m# Доступ к несуществующему методу\u001b[0m\u001b[0;34m\u001b[0m\u001b[0m\n\u001b[0m",
      "\u001b[0;31mTypeError\u001b[0m: 'NoneType' object is not callable"
     ]
    }
   ],
   "source": [
    "obj.method() # Доступ к несуществующему методу"
   ]
  },
  {
   "cell_type": "code",
   "execution_count": 9,
   "metadata": {},
   "outputs": [
    {
     "name": "stdout",
     "output_type": "stream",
     "text": [
      "INFO: Устанавливается значение \"True\" атрибуту \"math\"\n"
     ]
    }
   ],
   "source": [
    "obj.math = True # Установка значения атрибуту"
   ]
  },
  {
   "cell_type": "code",
   "execution_count": 10,
   "metadata": {
    "scrolled": false
   },
   "outputs": [
    {
     "name": "stdout",
     "output_type": "stream",
     "text": [
      "INFO: Доступ к атрибуту \"math\"\n"
     ]
    },
    {
     "data": {
      "text/plain": [
       "True"
      ]
     },
     "execution_count": 10,
     "metadata": {},
     "output_type": "execute_result"
    }
   ],
   "source": [
    "obj.math # Доступ к атрибуту"
   ]
  },
  {
   "cell_type": "code",
   "execution_count": 11,
   "metadata": {},
   "outputs": [
    {
     "name": "stdout",
     "output_type": "stream",
     "text": [
      "INFO: Доступ к атрибуту \"math\"\n",
      "INFO: Удаляется атрибут \"math\" со значением \"True\"\n"
     ]
    }
   ],
   "source": [
    "del obj.math # Удаление атрибута"
   ]
  },
  {
   "cell_type": "markdown",
   "metadata": {},
   "source": [
    "## Метод `__call__`"
   ]
  },
  {
   "cell_type": "code",
   "execution_count": 12,
   "metadata": {},
   "outputs": [
    {
     "ename": "NameError",
     "evalue": "name 'user_function' is not defined",
     "output_type": "error",
     "traceback": [
      "\u001b[0;31m---------------------------------------------------------------------------\u001b[0m",
      "\u001b[0;31mNameError\u001b[0m                                 Traceback (most recent call last)",
      "\u001b[0;32m<ipython-input-12-ba014e92337c>\u001b[0m in \u001b[0;36m<module>\u001b[0;34m()\u001b[0m\n\u001b[1;32m     12\u001b[0m \u001b[0;34m\u001b[0m\u001b[0m\n\u001b[1;32m     13\u001b[0m \u001b[0;31m# Далее в коде мы можем вызвать объект как функцию, которая будет что-то выполнять:\u001b[0m\u001b[0;34m\u001b[0m\u001b[0;34m\u001b[0m\u001b[0m\n\u001b[0;32m---> 14\u001b[0;31m \u001b[0mlogger\u001b[0m\u001b[0;34m(\u001b[0m\u001b[0muser_function\u001b[0m\u001b[0;34m)\u001b[0m \u001b[0;31m# Скобки инициируют вызов метода __call__()\u001b[0m\u001b[0;34m\u001b[0m\u001b[0m\n\u001b[0m\u001b[1;32m     15\u001b[0m \u001b[0;34m\u001b[0m\u001b[0m\n\u001b[1;32m     16\u001b[0m \u001b[0;34m\u001b[0m\u001b[0m\n",
      "\u001b[0;31mNameError\u001b[0m: name 'user_function' is not defined"
     ]
    }
   ],
   "source": [
    "class Logger():\n",
    "\n",
    "    def __init__(self, filename):\n",
    "        self.filename = filename\n",
    "\n",
    "    def __call__(self, func):\n",
    "        print('Logging to:', self.filename)\n",
    "        return func\n",
    "\n",
    "\n",
    "logger = Logger('log.txt')\n",
    "\n",
    "# Далее в коде мы можем вызвать объект как функцию, которая будет что-то выполнять:\n",
    "logger(user_function) # Скобки инициируют вызов метода __call__()\n",
    "\n",
    "\n",
    "# Аналогично мы можем выполнить через декоратор в который передается функция user_function():\n",
    "@logger\n",
    "def user_function():\n",
    "    pass"
   ]
  },
  {
   "cell_type": "markdown",
   "metadata": {},
   "source": [
    "## Метод `__add__`\n",
    "\n",
    "Перегрузка оператора сложения `+` или вызов магического метода `__add__()`:"
   ]
  },
  {
   "cell_type": "code",
   "execution_count": 13,
   "metadata": {},
   "outputs": [
    {
     "name": "stdout",
     "output_type": "stream",
     "text": [
      "29.728800594892032\n",
      "30.814176869923205\n",
      "29.528867906123434\n"
     ]
    }
   ],
   "source": [
    "import random\n",
    "\n",
    "class NoisyInt():\n",
    "\n",
    "    def __init__(self, value):\n",
    "        self.value = value\n",
    "\n",
    "    def __add__(self, obj):\n",
    "        noise = random.uniform(-1, 1) # Подмешаем \"соли\" в результат\n",
    "        return self.value + obj.value + noise\n",
    "\n",
    "\n",
    "a = NoisyInt(10)\n",
    "b = NoisyInt(20)\n",
    "\n",
    "for _ in range(3):\n",
    "    print(a + b) # Выводится результат сложения (a + b + случайное число)"
   ]
  },
  {
   "cell_type": "markdown",
   "metadata": {},
   "source": [
    "Результат - разные числа, так как каждый раз подмешивается случайное значение в переопределенном методе `__add__()`"
   ]
  },
  {
   "cell_type": "markdown",
   "metadata": {},
   "source": [
    "## Метод `__getitem__`, `__setitem__`\n",
    "\n",
    "Метод определяет поведение объекта при доступе или установке значения по индексу или ключу: `obj[key]`.\n",
    "\n",
    "Пример реализации доступа к элементам начиная с индекса 1, а не 0:"
   ]
  },
  {
   "cell_type": "code",
   "execution_count": 14,
   "metadata": {},
   "outputs": [
    {
     "name": "stdout",
     "output_type": "stream",
     "text": [
      "5\n",
      "1\n",
      "2\n"
     ]
    }
   ],
   "source": [
    "class PascalList():\n",
    "\n",
    "    def __init__(self, original_list=None):\n",
    "        self.container = original_list or []\n",
    "\n",
    "    def __getitem__(self, key):\n",
    "        return self.container[key - 1]\n",
    "\n",
    "    def __setitem__(self, key, value):\n",
    "        self.container[key - 1] = value\n",
    "\n",
    "\n",
    "numbers = PascalList([1, 2, 3, 4, 5])\n",
    "\n",
    "print(numbers[0])\n",
    "print(numbers[1])\n",
    "print(numbers[2])"
   ]
  }
 ],
 "metadata": {
  "kernelspec": {
   "display_name": "Python 3",
   "language": "python",
   "name": "python3"
  },
  "language_info": {
   "codemirror_mode": {
    "name": "ipython",
    "version": 3
   },
   "file_extension": ".py",
   "mimetype": "text/x-python",
   "name": "python",
   "nbconvert_exporter": "python",
   "pygments_lexer": "ipython3",
   "version": "3.6.3"
  }
 },
 "nbformat": 4,
 "nbformat_minor": 2
}
